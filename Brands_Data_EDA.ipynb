{
 "cells": [
  {
   "cell_type": "code",
   "execution_count": 1,
   "metadata": {},
   "outputs": [],
   "source": [
    "# @copyright 2022, Shardul Rajhans.\n",
    "\n",
    "# This is a research study for the course 'Master of Science in Data Science' performed by Shardul Rajhans \n",
    "# under the supervision of Dr Sandeep Raghuwanshi."
   ]
  },
  {
   "cell_type": "code",
   "execution_count": 2,
   "metadata": {},
   "outputs": [],
   "source": [
    "# Importing Necessary Libraries.\n",
    "\n",
    "# Suppressing Warnings\n",
    "import warnings\n",
    "warnings.filterwarnings('ignore')\n",
    "\n",
    "import numpy as np\n",
    "import pandas as pd\n",
    "pd.set_option('display.max_rows', 500)\n",
    "pd.set_option('display.max_columns', 500)\n",
    "pd.set_option('display.width', 1000)\n",
    "\n",
    "# Importing matplotlib and seaborn\n",
    "import matplotlib.pyplot as plt\n",
    "import seaborn as sns\n",
    "%matplotlib inline\n",
    "\n",
    "#Standardize price values used across datasets\n",
    "import re"
   ]
  },
  {
   "cell_type": "code",
   "execution_count": 3,
   "metadata": {},
   "outputs": [],
   "source": [
    "df_list=[]\n",
    "\n",
    "aerie = pd.read_csv(\"Dataset/ae_com.csv\")\n",
    "df_list.append(aerie)\n",
    "\n",
    "calvin_klein = pd.read_csv(\"Dataset/calvinklein_com.csv\")\n",
    "df_list.append(calvin_klein)\n",
    "\n",
    "amazon = pd.read_csv(\"Dataset/amazon_com.csv\")\n",
    "df_list.append(amazon)\n",
    "\n",
    "btemptd = pd.read_csv(\"Dataset/btemptd_com.csv\")\n",
    "df_list.append(btemptd)\n",
    "\n",
    "hanky_panky = pd.read_csv(\"Dataset/hankypanky_com.csv\")\n",
    "df_list.append(hanky_panky)\n",
    "\n",
    "macys_com = pd.read_csv(\"Dataset/macys_com.csv\")\n",
    "df_list.append(macys_com)\n",
    "\n",
    "nordstrom_com = pd.read_csv(\"Dataset/shop_nordstrom_com.csv\")\n",
    "df_list.append(nordstrom_com)\n",
    "\n",
    "topshop = pd.read_csv(\"Dataset/us_topshop_com.csv\")\n",
    "df_list.append(topshop)\n",
    "\n",
    "victoria_secret = pd.read_csv(\"Dataset/victoriassecret_com.csv\")\n",
    "df_list.append(victoria_secret)"
   ]
  },
  {
   "cell_type": "code",
   "execution_count": 4,
   "metadata": {},
   "outputs": [],
   "source": [
    "fashion_data = pd.DataFrame()\n",
    "\n",
    "for df in df_list:\n",
    "    fashion_data = fashion_data.append(df)"
   ]
  },
  {
   "cell_type": "code",
   "execution_count": 5,
   "metadata": {},
   "outputs": [
    {
     "data": {
      "text/plain": [
       "(613143, 14)"
      ]
     },
     "execution_count": 5,
     "metadata": {},
     "output_type": "execute_result"
    }
   ],
   "source": [
    "# Printing shape\n",
    "fashion_data.shape"
   ]
  },
  {
   "cell_type": "code",
   "execution_count": 6,
   "metadata": {},
   "outputs": [
    {
     "name": "stdout",
     "output_type": "stream",
     "text": [
      "<class 'pandas.core.frame.DataFrame'>\n",
      "Int64Index: 613143 entries, 0 to 453385\n",
      "Data columns (total 14 columns):\n",
      " #   Column            Non-Null Count   Dtype  \n",
      "---  ------            --------------   -----  \n",
      " 0   product_name      613143 non-null  object \n",
      " 1   mrp               613143 non-null  object \n",
      " 2   price             613143 non-null  object \n",
      " 3   pdp_url           613143 non-null  object \n",
      " 4   brand_name        613143 non-null  object \n",
      " 5   product_category  613143 non-null  object \n",
      " 6   retailer          613143 non-null  object \n",
      " 7   description       613143 non-null  object \n",
      " 8   rating            233556 non-null  float64\n",
      " 9   review_count      222030 non-null  float64\n",
      " 10  style_attributes  156675 non-null  object \n",
      " 11  total_sizes       613143 non-null  object \n",
      " 12  available_size    613143 non-null  object \n",
      " 13  color             612466 non-null  object \n",
      "dtypes: float64(2), object(12)\n",
      "memory usage: 70.2+ MB\n"
     ]
    }
   ],
   "source": [
    "# Displaying the information of all the columns\n",
    "fashion_data.info()"
   ]
  },
  {
   "cell_type": "code",
   "execution_count": 7,
   "metadata": {},
   "outputs": [
    {
     "data": {
      "text/html": [
       "<div>\n",
       "<style scoped>\n",
       "    .dataframe tbody tr th:only-of-type {\n",
       "        vertical-align: middle;\n",
       "    }\n",
       "\n",
       "    .dataframe tbody tr th {\n",
       "        vertical-align: top;\n",
       "    }\n",
       "\n",
       "    .dataframe thead th {\n",
       "        text-align: right;\n",
       "    }\n",
       "</style>\n",
       "<table border=\"1\" class=\"dataframe\">\n",
       "  <thead>\n",
       "    <tr style=\"text-align: right;\">\n",
       "      <th></th>\n",
       "      <th>rating</th>\n",
       "      <th>review_count</th>\n",
       "    </tr>\n",
       "  </thead>\n",
       "  <tbody>\n",
       "    <tr>\n",
       "      <th>count</th>\n",
       "      <td>233556.000000</td>\n",
       "      <td>2.220300e+05</td>\n",
       "    </tr>\n",
       "    <tr>\n",
       "      <th>mean</th>\n",
       "      <td>4.254360</td>\n",
       "      <td>5.708913e+35</td>\n",
       "    </tr>\n",
       "    <tr>\n",
       "      <th>std</th>\n",
       "      <td>0.527576</td>\n",
       "      <td>9.170288e+36</td>\n",
       "    </tr>\n",
       "    <tr>\n",
       "      <th>min</th>\n",
       "      <td>0.000000</td>\n",
       "      <td>1.000000e+00</td>\n",
       "    </tr>\n",
       "    <tr>\n",
       "      <th>25%</th>\n",
       "      <td>4.000000</td>\n",
       "      <td>1.600000e+01</td>\n",
       "    </tr>\n",
       "    <tr>\n",
       "      <th>50%</th>\n",
       "      <td>4.300000</td>\n",
       "      <td>9.700000e+01</td>\n",
       "    </tr>\n",
       "    <tr>\n",
       "      <th>75%</th>\n",
       "      <td>4.500000</td>\n",
       "      <td>3.860000e+02</td>\n",
       "    </tr>\n",
       "    <tr>\n",
       "      <th>max</th>\n",
       "      <td>5.000000</td>\n",
       "      <td>1.560000e+38</td>\n",
       "    </tr>\n",
       "  </tbody>\n",
       "</table>\n",
       "</div>"
      ],
      "text/plain": [
       "              rating  review_count\n",
       "count  233556.000000  2.220300e+05\n",
       "mean        4.254360  5.708913e+35\n",
       "std         0.527576  9.170288e+36\n",
       "min         0.000000  1.000000e+00\n",
       "25%         4.000000  1.600000e+01\n",
       "50%         4.300000  9.700000e+01\n",
       "75%         4.500000  3.860000e+02\n",
       "max         5.000000  1.560000e+38"
      ]
     },
     "execution_count": 7,
     "metadata": {},
     "output_type": "execute_result"
    }
   ],
   "source": [
    "# Displaying the information of all the numeric columns\n",
    "fashion_data.describe()"
   ]
  },
  {
   "cell_type": "markdown",
   "metadata": {},
   "source": [
    "# Cleaning the Dataset\n",
    "In this section, we will analyze the missing values, remove the unnecessary columns, and perform all the necessary handling before Exploratory Data Analysis."
   ]
  },
  {
   "cell_type": "code",
   "execution_count": 8,
   "metadata": {},
   "outputs": [
    {
     "data": {
      "text/plain": [
       "(613143, 14)"
      ]
     },
     "execution_count": 8,
     "metadata": {},
     "output_type": "execute_result"
    }
   ],
   "source": [
    "fashion_data.shape"
   ]
  },
  {
   "cell_type": "code",
   "execution_count": 9,
   "metadata": {},
   "outputs": [],
   "source": [
    "# Drop the duplicate rows which might result in wrong results during EDA\n",
    "fashion_data.drop_duplicates(inplace=True)"
   ]
  },
  {
   "cell_type": "code",
   "execution_count": 10,
   "metadata": {},
   "outputs": [
    {
     "data": {
      "text/plain": [
       "(301026, 14)"
      ]
     },
     "execution_count": 10,
     "metadata": {},
     "output_type": "execute_result"
    }
   ],
   "source": [
    "fashion_data.shape"
   ]
  },
  {
   "cell_type": "code",
   "execution_count": 11,
   "metadata": {},
   "outputs": [
    {
     "data": {
      "text/plain": [
       "rating              134718\n",
       "review_count        143151\n",
       "style_attributes    240108\n",
       "color                  253\n",
       "dtype: int64"
      ]
     },
     "execution_count": 11,
     "metadata": {},
     "output_type": "execute_result"
    }
   ],
   "source": [
    "fashion_data.isnull().sum()[fashion_data.isnull().sum() > 0]"
   ]
  },
  {
   "cell_type": "code",
   "execution_count": 12,
   "metadata": {},
   "outputs": [
    {
     "data": {
      "text/html": [
       "<div>\n",
       "<style scoped>\n",
       "    .dataframe tbody tr th:only-of-type {\n",
       "        vertical-align: middle;\n",
       "    }\n",
       "\n",
       "    .dataframe tbody tr th {\n",
       "        vertical-align: top;\n",
       "    }\n",
       "\n",
       "    .dataframe thead th {\n",
       "        text-align: right;\n",
       "    }\n",
       "</style>\n",
       "<table border=\"1\" class=\"dataframe\">\n",
       "  <thead>\n",
       "    <tr style=\"text-align: right;\">\n",
       "      <th></th>\n",
       "      <th>product_name</th>\n",
       "      <th>mrp</th>\n",
       "      <th>price</th>\n",
       "      <th>brand_name</th>\n",
       "      <th>product_category</th>\n",
       "      <th>description</th>\n",
       "      <th>total_sizes</th>\n",
       "      <th>available_size</th>\n",
       "      <th>color</th>\n",
       "    </tr>\n",
       "  </thead>\n",
       "  <tbody>\n",
       "    <tr>\n",
       "      <th>0</th>\n",
       "      <td>Aerie Everyday Loves Lace Cheeky</td>\n",
       "      <td>12.50 USD</td>\n",
       "      <td>12.50 USD</td>\n",
       "      <td>AERIE</td>\n",
       "      <td>Cheekies</td>\n",
       "      <td>Introducing Everyday Loves™: Made with love. E...</td>\n",
       "      <td>[\"XS\", \"S\", \"M\", \"L\", \"XL\", \"XXL\"]</td>\n",
       "      <td>[\"XS\", \"S\", \"M\", \"L\", \"XL\", \"XXL\"]</td>\n",
       "      <td>Rugged Green</td>\n",
       "    </tr>\n",
       "    <tr>\n",
       "      <th>1</th>\n",
       "      <td>Aerie Everyday Loves Lace Cheeky</td>\n",
       "      <td>12.50 USD</td>\n",
       "      <td>12.50 USD</td>\n",
       "      <td>AERIE</td>\n",
       "      <td>Cheekies</td>\n",
       "      <td>Introducing Everyday Loves™: Made with love. E...</td>\n",
       "      <td>[\"XS\", \"S\", \"M\", \"L\", \"XL\", \"XXL\"]</td>\n",
       "      <td>[\"XS\", \"S\", \"M\", \"L\", \"XL\", \"XXL\"]</td>\n",
       "      <td>Natural Nude</td>\n",
       "    </tr>\n",
       "    <tr>\n",
       "      <th>2</th>\n",
       "      <td>Aerie Everyday Loves Lace Cheeky</td>\n",
       "      <td>12.50 USD</td>\n",
       "      <td>12.50 USD</td>\n",
       "      <td>AERIE</td>\n",
       "      <td>Cheekies</td>\n",
       "      <td>Introducing Everyday Loves™: Made with love. E...</td>\n",
       "      <td>[\"XS\", \"S\", \"M\", \"L\", \"XL\", \"XXL\"]</td>\n",
       "      <td>[\"XS\", \"S\", \"M\", \"L\", \"XL\", \"XXL\"]</td>\n",
       "      <td>True Black</td>\n",
       "    </tr>\n",
       "    <tr>\n",
       "      <th>3</th>\n",
       "      <td>Aerie Everyday Loves Lace Cheeky</td>\n",
       "      <td>12.50 USD</td>\n",
       "      <td>12.50 USD</td>\n",
       "      <td>AERIE</td>\n",
       "      <td>Cheekies</td>\n",
       "      <td>Introducing Everyday Loves™: Made with love. E...</td>\n",
       "      <td>[\"XS\", \"S\", \"M\", \"L\", \"XL\", \"XXL\"]</td>\n",
       "      <td>[\"XS\", \"S\", \"M\", \"L\", \"XL\", \"XXL\"]</td>\n",
       "      <td>White</td>\n",
       "    </tr>\n",
       "    <tr>\n",
       "      <th>4</th>\n",
       "      <td>Aerie Everyday Loves Lace Cheeky</td>\n",
       "      <td>12.50 USD</td>\n",
       "      <td>12.50 USD</td>\n",
       "      <td>AERIE</td>\n",
       "      <td>Cheekies</td>\n",
       "      <td>Introducing Everyday Loves™: Made with love. E...</td>\n",
       "      <td>[\"XS\", \"S\", \"M\", \"L\", \"XL\", \"XXL\"]</td>\n",
       "      <td>[\"XS\", \"S\", \"M\", \"L\", \"XL\", \"XXL\"]</td>\n",
       "      <td>Royal Navy</td>\n",
       "    </tr>\n",
       "  </tbody>\n",
       "</table>\n",
       "</div>"
      ],
      "text/plain": [
       "                       product_name        mrp      price brand_name product_category                                        description                         total_sizes                      available_size         color\n",
       "0  Aerie Everyday Loves Lace Cheeky  12.50 USD  12.50 USD      AERIE         Cheekies  Introducing Everyday Loves™: Made with love. E...  [\"XS\", \"S\", \"M\", \"L\", \"XL\", \"XXL\"]  [\"XS\", \"S\", \"M\", \"L\", \"XL\", \"XXL\"]  Rugged Green\n",
       "1  Aerie Everyday Loves Lace Cheeky  12.50 USD  12.50 USD      AERIE         Cheekies  Introducing Everyday Loves™: Made with love. E...  [\"XS\", \"S\", \"M\", \"L\", \"XL\", \"XXL\"]  [\"XS\", \"S\", \"M\", \"L\", \"XL\", \"XXL\"]  Natural Nude\n",
       "2  Aerie Everyday Loves Lace Cheeky  12.50 USD  12.50 USD      AERIE         Cheekies  Introducing Everyday Loves™: Made with love. E...  [\"XS\", \"S\", \"M\", \"L\", \"XL\", \"XXL\"]  [\"XS\", \"S\", \"M\", \"L\", \"XL\", \"XXL\"]    True Black\n",
       "3  Aerie Everyday Loves Lace Cheeky  12.50 USD  12.50 USD      AERIE         Cheekies  Introducing Everyday Loves™: Made with love. E...  [\"XS\", \"S\", \"M\", \"L\", \"XL\", \"XXL\"]  [\"XS\", \"S\", \"M\", \"L\", \"XL\", \"XXL\"]         White\n",
       "4  Aerie Everyday Loves Lace Cheeky  12.50 USD  12.50 USD      AERIE         Cheekies  Introducing Everyday Loves™: Made with love. E...  [\"XS\", \"S\", \"M\", \"L\", \"XL\", \"XXL\"]  [\"XS\", \"S\", \"M\", \"L\", \"XL\", \"XXL\"]    Royal Navy"
      ]
     },
     "execution_count": 12,
     "metadata": {},
     "output_type": "execute_result"
    }
   ],
   "source": [
    "# There are few columns that are not required throughout this study, hence removing the unnecessary columns.\n",
    "columns_to_drop = ['pdp_url', 'retailer', 'rating', 'review_count', 'style_attributes']\n",
    "fashion_data.drop(columns_to_drop, axis=1, inplace=True)\n",
    "fashion_data.head()"
   ]
  },
  {
   "cell_type": "code",
   "execution_count": 13,
   "metadata": {},
   "outputs": [
    {
     "data": {
      "text/plain": [
       "525"
      ]
     },
     "execution_count": 13,
     "metadata": {},
     "output_type": "execute_result"
    }
   ],
   "source": [
    "len(fashion_data.product_category.unique())"
   ]
  },
  {
   "cell_type": "code",
   "execution_count": 14,
   "metadata": {},
   "outputs": [
    {
     "data": {
      "text/plain": [
       "2558"
      ]
     },
     "execution_count": 14,
     "metadata": {},
     "output_type": "execute_result"
    }
   ],
   "source": [
    "len(fashion_data.color.unique())"
   ]
  },
  {
   "cell_type": "code",
   "execution_count": 15,
   "metadata": {},
   "outputs": [
    {
     "data": {
      "text/html": [
       "<div>\n",
       "<style scoped>\n",
       "    .dataframe tbody tr th:only-of-type {\n",
       "        vertical-align: middle;\n",
       "    }\n",
       "\n",
       "    .dataframe tbody tr th {\n",
       "        vertical-align: top;\n",
       "    }\n",
       "\n",
       "    .dataframe thead th {\n",
       "        text-align: right;\n",
       "    }\n",
       "</style>\n",
       "<table border=\"1\" class=\"dataframe\">\n",
       "  <thead>\n",
       "    <tr style=\"text-align: right;\">\n",
       "      <th></th>\n",
       "      <th>product_name</th>\n",
       "      <th>mrp</th>\n",
       "      <th>price</th>\n",
       "      <th>brand_name</th>\n",
       "      <th>product_category</th>\n",
       "      <th>description</th>\n",
       "      <th>total_sizes</th>\n",
       "      <th>available_size</th>\n",
       "      <th>color</th>\n",
       "    </tr>\n",
       "  </thead>\n",
       "  <tbody>\n",
       "    <tr>\n",
       "      <th>0</th>\n",
       "      <td>Aerie Everyday Loves Lace Cheeky</td>\n",
       "      <td>12.5</td>\n",
       "      <td>12.5</td>\n",
       "      <td>AERIE</td>\n",
       "      <td>Cheekies</td>\n",
       "      <td>Introducing Everyday Loves™: Made with love. E...</td>\n",
       "      <td>[\"XS\", \"S\", \"M\", \"L\", \"XL\", \"XXL\"]</td>\n",
       "      <td>[\"XS\", \"S\", \"M\", \"L\", \"XL\", \"XXL\"]</td>\n",
       "      <td>Rugged Green</td>\n",
       "    </tr>\n",
       "    <tr>\n",
       "      <th>1</th>\n",
       "      <td>Aerie Everyday Loves Lace Cheeky</td>\n",
       "      <td>12.5</td>\n",
       "      <td>12.5</td>\n",
       "      <td>AERIE</td>\n",
       "      <td>Cheekies</td>\n",
       "      <td>Introducing Everyday Loves™: Made with love. E...</td>\n",
       "      <td>[\"XS\", \"S\", \"M\", \"L\", \"XL\", \"XXL\"]</td>\n",
       "      <td>[\"XS\", \"S\", \"M\", \"L\", \"XL\", \"XXL\"]</td>\n",
       "      <td>Natural Nude</td>\n",
       "    </tr>\n",
       "    <tr>\n",
       "      <th>2</th>\n",
       "      <td>Aerie Everyday Loves Lace Cheeky</td>\n",
       "      <td>12.5</td>\n",
       "      <td>12.5</td>\n",
       "      <td>AERIE</td>\n",
       "      <td>Cheekies</td>\n",
       "      <td>Introducing Everyday Loves™: Made with love. E...</td>\n",
       "      <td>[\"XS\", \"S\", \"M\", \"L\", \"XL\", \"XXL\"]</td>\n",
       "      <td>[\"XS\", \"S\", \"M\", \"L\", \"XL\", \"XXL\"]</td>\n",
       "      <td>True Black</td>\n",
       "    </tr>\n",
       "    <tr>\n",
       "      <th>3</th>\n",
       "      <td>Aerie Everyday Loves Lace Cheeky</td>\n",
       "      <td>12.5</td>\n",
       "      <td>12.5</td>\n",
       "      <td>AERIE</td>\n",
       "      <td>Cheekies</td>\n",
       "      <td>Introducing Everyday Loves™: Made with love. E...</td>\n",
       "      <td>[\"XS\", \"S\", \"M\", \"L\", \"XL\", \"XXL\"]</td>\n",
       "      <td>[\"XS\", \"S\", \"M\", \"L\", \"XL\", \"XXL\"]</td>\n",
       "      <td>White</td>\n",
       "    </tr>\n",
       "    <tr>\n",
       "      <th>4</th>\n",
       "      <td>Aerie Everyday Loves Lace Cheeky</td>\n",
       "      <td>12.5</td>\n",
       "      <td>12.5</td>\n",
       "      <td>AERIE</td>\n",
       "      <td>Cheekies</td>\n",
       "      <td>Introducing Everyday Loves™: Made with love. E...</td>\n",
       "      <td>[\"XS\", \"S\", \"M\", \"L\", \"XL\", \"XXL\"]</td>\n",
       "      <td>[\"XS\", \"S\", \"M\", \"L\", \"XL\", \"XXL\"]</td>\n",
       "      <td>Royal Navy</td>\n",
       "    </tr>\n",
       "    <tr>\n",
       "      <th>5</th>\n",
       "      <td>Aerie Everyday Loves Lace Cheeky</td>\n",
       "      <td>12.5</td>\n",
       "      <td>12.5</td>\n",
       "      <td>AERIE</td>\n",
       "      <td>Cheekies</td>\n",
       "      <td>Introducing Everyday Loves™: Made with love. E...</td>\n",
       "      <td>[\"XS\", \"S\", \"M\", \"L\", \"XL\", \"XXL\"]</td>\n",
       "      <td>[\"XS\", \"S\", \"M\", \"L\", \"XL\", \"XXL\"]</td>\n",
       "      <td>Slab Gray</td>\n",
       "    </tr>\n",
       "    <tr>\n",
       "      <th>6</th>\n",
       "      <td>Aerie Lace Hi-Rise Boybrief</td>\n",
       "      <td>12.5</td>\n",
       "      <td>12.5</td>\n",
       "      <td>AERIE</td>\n",
       "      <td>Boybriefs</td>\n",
       "      <td>Laced with love and extra comfort. No cheek pe...</td>\n",
       "      <td>[\"XS\", \"S\", \"M\", \"L\", \"XL\", \"XXL\"]</td>\n",
       "      <td>[\"XS\", \"S\", \"M\", \"L\"]</td>\n",
       "      <td>White</td>\n",
       "    </tr>\n",
       "    <tr>\n",
       "      <th>7</th>\n",
       "      <td>Aerie Lace Hi-Rise Boybrief</td>\n",
       "      <td>12.5</td>\n",
       "      <td>12.5</td>\n",
       "      <td>AERIE</td>\n",
       "      <td>Boybriefs</td>\n",
       "      <td>Laced with love and extra comfort. No cheek pe...</td>\n",
       "      <td>[\"XS\", \"S\", \"M\", \"L\", \"XL\", \"XXL\"]</td>\n",
       "      <td>[\"XS\", \"S\", \"M\"]</td>\n",
       "      <td>Natural Nude</td>\n",
       "    </tr>\n",
       "    <tr>\n",
       "      <th>8</th>\n",
       "      <td>Aerie Lace Hi-Rise Boybrief</td>\n",
       "      <td>12.5</td>\n",
       "      <td>12.5</td>\n",
       "      <td>AERIE</td>\n",
       "      <td>Boybriefs</td>\n",
       "      <td>Laced with love and extra comfort. No cheek pe...</td>\n",
       "      <td>[\"XS\", \"S\", \"M\", \"L\", \"XL\", \"XXL\"]</td>\n",
       "      <td>[\"XS\", \"S\"]</td>\n",
       "      <td>True Black</td>\n",
       "    </tr>\n",
       "    <tr>\n",
       "      <th>9</th>\n",
       "      <td>Aerie Lace Hi-Rise Boybrief</td>\n",
       "      <td>12.5</td>\n",
       "      <td>12.5</td>\n",
       "      <td>AERIE</td>\n",
       "      <td>Boybriefs</td>\n",
       "      <td>Laced with love and extra comfort. No cheek pe...</td>\n",
       "      <td>[\"XS\", \"S\", \"M\", \"L\", \"XL\", \"XXL\"]</td>\n",
       "      <td>[\"XS\", \"S\", \"M\"]</td>\n",
       "      <td>Buff</td>\n",
       "    </tr>\n",
       "  </tbody>\n",
       "</table>\n",
       "</div>"
      ],
      "text/plain": [
       "                       product_name   mrp  price brand_name product_category                                        description                         total_sizes                      available_size         color\n",
       "0  Aerie Everyday Loves Lace Cheeky  12.5   12.5      AERIE         Cheekies  Introducing Everyday Loves™: Made with love. E...  [\"XS\", \"S\", \"M\", \"L\", \"XL\", \"XXL\"]  [\"XS\", \"S\", \"M\", \"L\", \"XL\", \"XXL\"]  Rugged Green\n",
       "1  Aerie Everyday Loves Lace Cheeky  12.5   12.5      AERIE         Cheekies  Introducing Everyday Loves™: Made with love. E...  [\"XS\", \"S\", \"M\", \"L\", \"XL\", \"XXL\"]  [\"XS\", \"S\", \"M\", \"L\", \"XL\", \"XXL\"]  Natural Nude\n",
       "2  Aerie Everyday Loves Lace Cheeky  12.5   12.5      AERIE         Cheekies  Introducing Everyday Loves™: Made with love. E...  [\"XS\", \"S\", \"M\", \"L\", \"XL\", \"XXL\"]  [\"XS\", \"S\", \"M\", \"L\", \"XL\", \"XXL\"]    True Black\n",
       "3  Aerie Everyday Loves Lace Cheeky  12.5   12.5      AERIE         Cheekies  Introducing Everyday Loves™: Made with love. E...  [\"XS\", \"S\", \"M\", \"L\", \"XL\", \"XXL\"]  [\"XS\", \"S\", \"M\", \"L\", \"XL\", \"XXL\"]         White\n",
       "4  Aerie Everyday Loves Lace Cheeky  12.5   12.5      AERIE         Cheekies  Introducing Everyday Loves™: Made with love. E...  [\"XS\", \"S\", \"M\", \"L\", \"XL\", \"XXL\"]  [\"XS\", \"S\", \"M\", \"L\", \"XL\", \"XXL\"]    Royal Navy\n",
       "5  Aerie Everyday Loves Lace Cheeky  12.5   12.5      AERIE         Cheekies  Introducing Everyday Loves™: Made with love. E...  [\"XS\", \"S\", \"M\", \"L\", \"XL\", \"XXL\"]  [\"XS\", \"S\", \"M\", \"L\", \"XL\", \"XXL\"]     Slab Gray\n",
       "6       Aerie Lace Hi-Rise Boybrief  12.5   12.5      AERIE        Boybriefs  Laced with love and extra comfort. No cheek pe...  [\"XS\", \"S\", \"M\", \"L\", \"XL\", \"XXL\"]               [\"XS\", \"S\", \"M\", \"L\"]         White\n",
       "7       Aerie Lace Hi-Rise Boybrief  12.5   12.5      AERIE        Boybriefs  Laced with love and extra comfort. No cheek pe...  [\"XS\", \"S\", \"M\", \"L\", \"XL\", \"XXL\"]                    [\"XS\", \"S\", \"M\"]  Natural Nude\n",
       "8       Aerie Lace Hi-Rise Boybrief  12.5   12.5      AERIE        Boybriefs  Laced with love and extra comfort. No cheek pe...  [\"XS\", \"S\", \"M\", \"L\", \"XL\", \"XXL\"]                         [\"XS\", \"S\"]    True Black\n",
       "9       Aerie Lace Hi-Rise Boybrief  12.5   12.5      AERIE        Boybriefs  Laced with love and extra comfort. No cheek pe...  [\"XS\", \"S\", \"M\", \"L\", \"XL\", \"XXL\"]                    [\"XS\", \"S\", \"M\"]          Buff"
      ]
     },
     "execution_count": 15,
     "metadata": {},
     "output_type": "execute_result"
    }
   ],
   "source": [
    "# Conversion to USD for MRP and Price Coloumn\n",
    "# Reference: https://www.kaggle.com/code/justinekays/eda-for-lingerie?scriptVersionId=8012060&cellId=14\n",
    "\n",
    "colon_to_dollar_conversion_rate = 0.0017\n",
    "ind_rp_to_dollar_conversion_rate = 0.000066\n",
    "\n",
    "def extract_usd_value(value_str):\n",
    "    if type(value_str) is str:\n",
    "        value_str= value_str.strip().lower().replace('usd', '').replace('$','').replace(\"\\-.*\",\"\").strip()\n",
    "        value_str = re.sub(r\"-.*\", \"\", value_str)\n",
    "        value_str = re.sub(r\"–.*\", \"\", value_str)\n",
    "        value_str = re.sub(r\"\\s.*\", \"\", value_str)\n",
    "        value_str.strip()\n",
    "        \n",
    "        if \"₡\" in value_str:\n",
    "            value_str = value_str.replace(\"₡\", \"\").strip()\n",
    "            value_str = pd.to_numeric(value_str) * colon_to_dollar_conversion_rate            \n",
    "        elif \"rp\" in value_str:\n",
    "            value_str = value_str.replace(\"rp\", \"\").strip()\n",
    "            value_str = pd.to_numeric(value_str) * ind_rp_to_dollar_conversion_rate                \n",
    "            \n",
    "        return value_str\n",
    "    else:\n",
    "        return value_str\n",
    "    \n",
    "fashion_data['mrp']=fashion_data['mrp'].apply(extract_usd_value).apply(pd.to_numeric)\n",
    "fashion_data['price']=fashion_data['price'].apply(extract_usd_value).apply(pd.to_numeric)\n",
    "fashion_data.head(10)"
   ]
  },
  {
   "cell_type": "code",
   "execution_count": 16,
   "metadata": {},
   "outputs": [
    {
     "data": {
      "text/html": [
       "<div>\n",
       "<style scoped>\n",
       "    .dataframe tbody tr th:only-of-type {\n",
       "        vertical-align: middle;\n",
       "    }\n",
       "\n",
       "    .dataframe tbody tr th {\n",
       "        vertical-align: top;\n",
       "    }\n",
       "\n",
       "    .dataframe thead th {\n",
       "        text-align: right;\n",
       "    }\n",
       "</style>\n",
       "<table border=\"1\" class=\"dataframe\">\n",
       "  <thead>\n",
       "    <tr style=\"text-align: right;\">\n",
       "      <th></th>\n",
       "      <th>product_name</th>\n",
       "      <th>mrp</th>\n",
       "      <th>price</th>\n",
       "      <th>brand_name</th>\n",
       "      <th>product_category</th>\n",
       "      <th>description</th>\n",
       "      <th>total_sizes</th>\n",
       "      <th>available_size</th>\n",
       "      <th>color</th>\n",
       "    </tr>\n",
       "  </thead>\n",
       "  <tbody>\n",
       "    <tr>\n",
       "      <th>0</th>\n",
       "      <td>Aerie Everyday Loves Lace Cheeky</td>\n",
       "      <td>12.5</td>\n",
       "      <td>12.5</td>\n",
       "      <td>AERIE</td>\n",
       "      <td>Cheekies</td>\n",
       "      <td>Introducing Everyday Loves™: Made with love. E...</td>\n",
       "      <td>[\"XS\", \"S\", \"M\", \"L\", \"XL\", \"XXL\"]</td>\n",
       "      <td>[\"XS\", \"S\", \"M\", \"L\", \"XL\", \"XXL\"]</td>\n",
       "      <td>rugged green</td>\n",
       "    </tr>\n",
       "    <tr>\n",
       "      <th>1</th>\n",
       "      <td>Aerie Everyday Loves Lace Cheeky</td>\n",
       "      <td>12.5</td>\n",
       "      <td>12.5</td>\n",
       "      <td>AERIE</td>\n",
       "      <td>Cheekies</td>\n",
       "      <td>Introducing Everyday Loves™: Made with love. E...</td>\n",
       "      <td>[\"XS\", \"S\", \"M\", \"L\", \"XL\", \"XXL\"]</td>\n",
       "      <td>[\"XS\", \"S\", \"M\", \"L\", \"XL\", \"XXL\"]</td>\n",
       "      <td>natural nude</td>\n",
       "    </tr>\n",
       "    <tr>\n",
       "      <th>2</th>\n",
       "      <td>Aerie Everyday Loves Lace Cheeky</td>\n",
       "      <td>12.5</td>\n",
       "      <td>12.5</td>\n",
       "      <td>AERIE</td>\n",
       "      <td>Cheekies</td>\n",
       "      <td>Introducing Everyday Loves™: Made with love. E...</td>\n",
       "      <td>[\"XS\", \"S\", \"M\", \"L\", \"XL\", \"XXL\"]</td>\n",
       "      <td>[\"XS\", \"S\", \"M\", \"L\", \"XL\", \"XXL\"]</td>\n",
       "      <td>true black</td>\n",
       "    </tr>\n",
       "    <tr>\n",
       "      <th>3</th>\n",
       "      <td>Aerie Everyday Loves Lace Cheeky</td>\n",
       "      <td>12.5</td>\n",
       "      <td>12.5</td>\n",
       "      <td>AERIE</td>\n",
       "      <td>Cheekies</td>\n",
       "      <td>Introducing Everyday Loves™: Made with love. E...</td>\n",
       "      <td>[\"XS\", \"S\", \"M\", \"L\", \"XL\", \"XXL\"]</td>\n",
       "      <td>[\"XS\", \"S\", \"M\", \"L\", \"XL\", \"XXL\"]</td>\n",
       "      <td>white</td>\n",
       "    </tr>\n",
       "    <tr>\n",
       "      <th>4</th>\n",
       "      <td>Aerie Everyday Loves Lace Cheeky</td>\n",
       "      <td>12.5</td>\n",
       "      <td>12.5</td>\n",
       "      <td>AERIE</td>\n",
       "      <td>Cheekies</td>\n",
       "      <td>Introducing Everyday Loves™: Made with love. E...</td>\n",
       "      <td>[\"XS\", \"S\", \"M\", \"L\", \"XL\", \"XXL\"]</td>\n",
       "      <td>[\"XS\", \"S\", \"M\", \"L\", \"XL\", \"XXL\"]</td>\n",
       "      <td>royal navy</td>\n",
       "    </tr>\n",
       "  </tbody>\n",
       "</table>\n",
       "</div>"
      ],
      "text/plain": [
       "                       product_name   mrp  price brand_name product_category                                        description                         total_sizes                      available_size         color\n",
       "0  Aerie Everyday Loves Lace Cheeky  12.5   12.5      AERIE         Cheekies  Introducing Everyday Loves™: Made with love. E...  [\"XS\", \"S\", \"M\", \"L\", \"XL\", \"XXL\"]  [\"XS\", \"S\", \"M\", \"L\", \"XL\", \"XXL\"]  rugged green\n",
       "1  Aerie Everyday Loves Lace Cheeky  12.5   12.5      AERIE         Cheekies  Introducing Everyday Loves™: Made with love. E...  [\"XS\", \"S\", \"M\", \"L\", \"XL\", \"XXL\"]  [\"XS\", \"S\", \"M\", \"L\", \"XL\", \"XXL\"]  natural nude\n",
       "2  Aerie Everyday Loves Lace Cheeky  12.5   12.5      AERIE         Cheekies  Introducing Everyday Loves™: Made with love. E...  [\"XS\", \"S\", \"M\", \"L\", \"XL\", \"XXL\"]  [\"XS\", \"S\", \"M\", \"L\", \"XL\", \"XXL\"]    true black\n",
       "3  Aerie Everyday Loves Lace Cheeky  12.5   12.5      AERIE         Cheekies  Introducing Everyday Loves™: Made with love. E...  [\"XS\", \"S\", \"M\", \"L\", \"XL\", \"XXL\"]  [\"XS\", \"S\", \"M\", \"L\", \"XL\", \"XXL\"]         white\n",
       "4  Aerie Everyday Loves Lace Cheeky  12.5   12.5      AERIE         Cheekies  Introducing Everyday Loves™: Made with love. E...  [\"XS\", \"S\", \"M\", \"L\", \"XL\", \"XXL\"]  [\"XS\", \"S\", \"M\", \"L\", \"XL\", \"XXL\"]    royal navy"
      ]
     },
     "execution_count": 16,
     "metadata": {},
     "output_type": "execute_result"
    }
   ],
   "source": [
    "fashion_data['color'] = fashion_data.color.str.lower()\n",
    "fashion_data.head()"
   ]
  },
  {
   "cell_type": "code",
   "execution_count": 17,
   "metadata": {},
   "outputs": [
    {
     "data": {
      "text/plain": [
       "2282"
      ]
     },
     "execution_count": 17,
     "metadata": {},
     "output_type": "execute_result"
    }
   ],
   "source": [
    "fashion_data['color'].unique().shape[0]"
   ]
  },
  {
   "cell_type": "code",
   "execution_count": 18,
   "metadata": {},
   "outputs": [],
   "source": [
    "# Categorizing the Products into Sub-Groups for generalization.\n",
    "# Reference: https://www.kaggle.com/code/jkokatjuhha/data-driven-lingerie-shopping?scriptVersionId=6849300&cellId=16\n",
    "def manipul_regex(str_array):\n",
    "    string = '|'.join(str_array)\n",
    "    return '(^|\\s)(' + string + ')(\\s\\.|$)'\n",
    "\n",
    "def categorize_product(data):\n",
    "    panties = manipul_regex(['thong','g string','pant','v kini','boypant','pants','panty','thongs','panties',\n",
    "                             'ladypant','knickers','thong','twist knicker','brief','boyshort',\n",
    "                             'lace v front short','signature lace bike short','side tie bikini',\n",
    "                             'signature lace string bikini','tanga','panty','hipster','vikini',\n",
    "                             'cheekster', 'boypants','ladypants', 'boyshorts', 'hiphugger', \n",
    "                             'pink high leg logo bikini', 'pink shortie', 'pink logo bikini',\n",
    "                             'lace sexy shortie', 'body base shorty', 'bikini bottom', 'lace mini bikini', \n",
    "                             'ruched mini bikini', 'high leg bikini'])  \n",
    "    \n",
    "    bodys = manipul_regex(['bodysuit', 'teddy', 'wink plaything', 'legging', 'dress'])\n",
    "    bras = manipul_regex(['bra', 'bustier', 'strapless', 'balconette', 'bandeau', 'body by victoria unlined demi', \n",
    "                          'push-up', 'push up', 'push', 'pink seamless lightly lined racerback',\n",
    "                          'body by wacoal seamless underwire','basic beauty wireless contour',\n",
    "                          'pink lace lightly lined triangle', 'lace cross front unlined halter', \n",
    "                          'high neck keyhole halter', 'high-neck wrap'])\n",
    "    \n",
    "    activewear = manipul_regex(['sports bra', 'sport bra', 'sport bralette', 'sports bralette', 'strappybralette', 'full-zip'])\n",
    "    suspenders = manipul_regex(['suspenders','belt'])\n",
    "    bralettes = manipul_regex(['bralettes','bralette', 'bralet', 'silicone petal'])\n",
    "    tops = manipul_regex(['tops','top','tee', 'tunic'])\n",
    "    babydoll = manipul_regex(['babydoll','camisole and bikini set by bluebella','chemise'])\n",
    "    shorts = manipul_regex(['short','shorts','chiffon tap pant'])\n",
    "    slip = manipul_regex(['slip', 'waist slip', 'half-slip', 'slips', 'half-slips', 'petticoat'])\n",
    "    robe = manipul_regex(['robe', 'kimonos','kimono'])\n",
    "    camisole = manipul_regex(['camisole','cami','tank'])\n",
    "    rompers = manipul_regex(['romper']) \n",
    "    onepiece = manipul_regex(['One-Piece', 'one piece', 'One-Piece Halter'])\n",
    "    \n",
    "    categories_list = [['slip',slip], ['shorts',shorts], ['robe', robe], ['tops',tops], ['suspenders',suspenders],\n",
    "                 ['rompers', rompers], ['babydoll', babydoll], ['bodys',bodys], ['bralettes', bralettes], \n",
    "                 ['activewear', activewear], ['camisoles',camisole], ['bras',bras], ['panties',panties], ['onepiece', onepiece]]\n",
    "\n",
    "    for items in categories_list:\n",
    "        naming, reg = items\n",
    "        data.loc[(data['product_name'].str.contains(reg, case=False)), 'product_category_wide'] = naming\n",
    "    return data"
   ]
  },
  {
   "cell_type": "code",
   "execution_count": 19,
   "metadata": {},
   "outputs": [],
   "source": [
    "def manipul_regex(str_array):\n",
    "    string = '|'.join(str_array)\n",
    "    return '(^|\\s)(' + string + ')(\\s|$)'\n",
    "\n",
    "def categorize_colors(data):\n",
    "    green = manipul_regex([\"green\", \"emerald\", \"fir\", \"bayberry\", \"cocoon\", \"olive\", \"turquoise\", \"basil\", \n",
    "                           \"seafoam glow\", \"smokey pearl\", \"cactus\"])\n",
    "    blue = manipul_regex([\"blue\", \"navy\", \"teal\", \"denim\", \"azure\", \"celeste\", \"turkish\", \"sea\", \"cloud\", \n",
    "                          \"neon\", \"ensign\", \"sky\", \"sapphire\", \"saphire\", \"blues\", \"ink\", \"aqua\", \"watercolor\", \n",
    "                          \"bluebell\", \"northstar\", \"bluebird\", \"inkblot\", \"nordic\", \"Evening Tide\", \"Marine\"])\n",
    "    white = manipul_regex([\"white\", \"ivory\", \"cashew\", \"coconut\", \"marshmallow\", \"marble\", \"White/Victoria\", \n",
    "                           \"sugar\", \"suger\", \"moon\", \"Dragonfruit\", \"pillow\", \"white/rose\", \"White/Red\"])\n",
    "    red = manipul_regex([\"red\", \"candy apple\", \"ginger glaze\", \"plum\", \"maroon\", \"ruby\",\"cherry\", \"strawberry\", \n",
    "                         \"rose\", \"apple\", \"berry\", \"crimson\"])\n",
    "    yellow = manipul_regex([\"yellow\", \"gold\", \"buff\", \"coral rock\", 'daisy', \"haze\", \"lime\", \"leopard\", \"bronzer\", \n",
    "                            \"ginger\", \"mango\"])\n",
    "    orange = manipul_regex([\"orange\", \"peach\", \"sunset\", \"melon\", \"floral\", \"tropical\", \"teak\", \"peel\", \"fireworks\", \"firework\"])\n",
    "    pink = manipul_regex([\"pink\", \"rosewater\", \"fuschia\", \"blush\", \"peach\", \"lotus\", \"fair orchid\", \"plum dust\", \"begonia\", \n",
    "                          \"hello lovely\", \"forever young\", \"lip\", \"lipsmacker\", \"dazzle\", \"geo\", \"celestial\", \n",
    "                          \"galaxy\", \"flamingo\", \"cream\", \"pinky\", \"mauvelous\"])\n",
    "    grey = manipul_regex([\"gray\", \"grey\", \"pewter\", \"slate\", \"silver\", \"grey/blush\", \"heather\", \"Black/White\", \"marl\", \n",
    "                          \"shadow\", \"charcoal\", \"Marl/Victoria\", \"White/Black\"])\n",
    "    brown = manipul_regex([\"brown\", \"taupe\", \"chai\", \"cappuccino\", \"sienna\", \"toast\", \"french roast\"])\n",
    "    maroon = manipul_regex([\"maroon\", \"kir\", \"cinnamon\"])\n",
    "    purple = manipul_regex([\"mauve\", \"lilac\", \"purple\", \"violet\", \"grape\", \"blackberry\", \"amethyst\", \"lavender\", \n",
    "                            \"lavendar\", \"red/Blue\", \"ignited\", \"eggplant\", \"fair orichid\"])\n",
    "    black = manipul_regex([\"black\", \"midnight\", \"night\", \"Black/Victoria\", \"dark\", \"Sapphire/Black\", \"Black/Mesh\", \n",
    "                           \"Black/Zig Zag\", \"Black/\", \"black/rose\", \"Black/Rock\", \"Black/Red\"])\n",
    "    nude = manipul_regex([\"nude\", \"bare\", \"champagne\", \"light\", \"neutral\", \"infinity\", \"dust\", \"flake\", \"Mint\", \n",
    "                          \"nightlife\", \"Snowflake\", \"cool\", \"clean\", \"Warm\"])\n",
    "    multicolor = manipul_regex([\"multi\", \"blend\", \"blended\", \"radiating\", \"print\", \"stripe\", \"stripes\", \"chevron\", \n",
    "                                \"abstract\", \"colorblock\", \"spraypaint\", \"americana\", \"mesh\", \"spring\", \n",
    "                                \"french\", \"arrows\", \"arrrows\", \"moonray\", \"blocks\", \"curves\", \"coral\", \"rainbow\", \n",
    "                                \"metropolis\", \"border\", \"niagara\", \"aztec\", \"Striples\", \"bliss\", \"kaleidoscope\", \"party\",\n",
    "                               \"paradise palm\", \"gradient\", \"2VN\", \"Seychelles\", \"multifolk\", \"C3K\", \"Multicolor\"])\n",
    "    \n",
    "    colors_list = [['green',green], ['blue',blue], ['white', white], ['black',black], ['red',red],\n",
    "                 ['yellow', yellow], ['orange', orange], ['pink',pink], ['nude', nude], \n",
    "                 ['grey', grey], ['brown',brown], ['maroon',maroon], ['purple',purple], ['multicolor', multicolor]]\n",
    "    \n",
    "    for items in colors_list:\n",
    "        naming, reg = items\n",
    "        data.loc[(data['color'].str.contains(reg, case=False)), 'color_group'] = naming\n",
    "    return data"
   ]
  },
  {
   "cell_type": "code",
   "execution_count": 20,
   "metadata": {},
   "outputs": [
    {
     "data": {
      "text/plain": [
       "array(['green', 'nude', 'black', 'white', 'blue', 'grey', 'yellow', nan,\n",
       "       'red', 'multicolor', 'maroon', 'pink', 'brown', 'purple', 'orange'],\n",
       "      dtype=object)"
      ]
     },
     "execution_count": 20,
     "metadata": {},
     "output_type": "execute_result"
    }
   ],
   "source": [
    "fashion_data.color.fillna('other', inplace=True)\n",
    "fashion_data = categorize_colors(fashion_data)\n",
    "fashion_data['color_group'].unique()"
   ]
  },
  {
   "cell_type": "code",
   "execution_count": 21,
   "metadata": {},
   "outputs": [
    {
     "data": {
      "text/plain": [
       "array([nan, 'panties', 'bras', 'bralettes', 'babydoll', 'tops',\n",
       "       'camisoles', 'shorts', 'rompers', 'bodys', 'suspenders', 'slip',\n",
       "       'robe', 'activewear', 'onepiece'], dtype=object)"
      ]
     },
     "execution_count": 21,
     "metadata": {},
     "output_type": "execute_result"
    }
   ],
   "source": [
    "fashion_data.product_category.fillna('other', inplace=True)\n",
    "fashion_data = categorize_product(fashion_data)\n",
    "fashion_data['product_category_wide'].unique()"
   ]
  },
  {
   "cell_type": "code",
   "execution_count": 22,
   "metadata": {},
   "outputs": [
    {
     "data": {
      "text/plain": [
       "bras          215007\n",
       "panties        42260\n",
       "bralettes      26222\n",
       "bodys           1529\n",
       "babydoll        1291\n",
       "slip            1204\n",
       "camisoles       1052\n",
       "onepiece         829\n",
       "tops             805\n",
       "rompers          200\n",
       "shorts           174\n",
       "activewear       170\n",
       "robe             168\n",
       "suspenders        40\n",
       "Name: product_category_wide, dtype: int64"
      ]
     },
     "execution_count": 22,
     "metadata": {},
     "output_type": "execute_result"
    }
   ],
   "source": [
    "fashion_data['product_category_wide'].value_counts()"
   ]
  },
  {
   "cell_type": "code",
   "execution_count": 23,
   "metadata": {},
   "outputs": [
    {
     "data": {
      "text/plain": [
       "10075"
      ]
     },
     "execution_count": 23,
     "metadata": {},
     "output_type": "execute_result"
    }
   ],
   "source": [
    "fashion_data['product_category_wide'].isnull().sum()"
   ]
  },
  {
   "cell_type": "code",
   "execution_count": 24,
   "metadata": {},
   "outputs": [
    {
     "data": {
      "text/html": [
       "<div>\n",
       "<style scoped>\n",
       "    .dataframe tbody tr th:only-of-type {\n",
       "        vertical-align: middle;\n",
       "    }\n",
       "\n",
       "    .dataframe tbody tr th {\n",
       "        vertical-align: top;\n",
       "    }\n",
       "\n",
       "    .dataframe thead th {\n",
       "        text-align: right;\n",
       "    }\n",
       "</style>\n",
       "<table border=\"1\" class=\"dataframe\">\n",
       "  <thead>\n",
       "    <tr style=\"text-align: right;\">\n",
       "      <th></th>\n",
       "      <th>product_name</th>\n",
       "      <th>mrp</th>\n",
       "      <th>price</th>\n",
       "      <th>brand_name</th>\n",
       "      <th>product_category</th>\n",
       "      <th>description</th>\n",
       "      <th>total_sizes</th>\n",
       "      <th>available_size</th>\n",
       "      <th>color</th>\n",
       "      <th>color_group</th>\n",
       "      <th>product_category_wide</th>\n",
       "    </tr>\n",
       "  </thead>\n",
       "  <tbody>\n",
       "    <tr>\n",
       "      <th>0</th>\n",
       "      <td>Aerie Everyday Loves Lace Cheeky</td>\n",
       "      <td>12.5</td>\n",
       "      <td>12.5</td>\n",
       "      <td>AERIE</td>\n",
       "      <td>Cheekies</td>\n",
       "      <td>Introducing Everyday Loves™: Made with love. E...</td>\n",
       "      <td>[\"XS\", \"S\", \"M\", \"L\", \"XL\", \"XXL\"]</td>\n",
       "      <td>[\"XS\", \"S\", \"M\", \"L\", \"XL\", \"XXL\"]</td>\n",
       "      <td>rugged green</td>\n",
       "      <td>green</td>\n",
       "      <td>other</td>\n",
       "    </tr>\n",
       "    <tr>\n",
       "      <th>1</th>\n",
       "      <td>Aerie Everyday Loves Lace Cheeky</td>\n",
       "      <td>12.5</td>\n",
       "      <td>12.5</td>\n",
       "      <td>AERIE</td>\n",
       "      <td>Cheekies</td>\n",
       "      <td>Introducing Everyday Loves™: Made with love. E...</td>\n",
       "      <td>[\"XS\", \"S\", \"M\", \"L\", \"XL\", \"XXL\"]</td>\n",
       "      <td>[\"XS\", \"S\", \"M\", \"L\", \"XL\", \"XXL\"]</td>\n",
       "      <td>natural nude</td>\n",
       "      <td>nude</td>\n",
       "      <td>other</td>\n",
       "    </tr>\n",
       "    <tr>\n",
       "      <th>2</th>\n",
       "      <td>Aerie Everyday Loves Lace Cheeky</td>\n",
       "      <td>12.5</td>\n",
       "      <td>12.5</td>\n",
       "      <td>AERIE</td>\n",
       "      <td>Cheekies</td>\n",
       "      <td>Introducing Everyday Loves™: Made with love. E...</td>\n",
       "      <td>[\"XS\", \"S\", \"M\", \"L\", \"XL\", \"XXL\"]</td>\n",
       "      <td>[\"XS\", \"S\", \"M\", \"L\", \"XL\", \"XXL\"]</td>\n",
       "      <td>true black</td>\n",
       "      <td>black</td>\n",
       "      <td>other</td>\n",
       "    </tr>\n",
       "    <tr>\n",
       "      <th>3</th>\n",
       "      <td>Aerie Everyday Loves Lace Cheeky</td>\n",
       "      <td>12.5</td>\n",
       "      <td>12.5</td>\n",
       "      <td>AERIE</td>\n",
       "      <td>Cheekies</td>\n",
       "      <td>Introducing Everyday Loves™: Made with love. E...</td>\n",
       "      <td>[\"XS\", \"S\", \"M\", \"L\", \"XL\", \"XXL\"]</td>\n",
       "      <td>[\"XS\", \"S\", \"M\", \"L\", \"XL\", \"XXL\"]</td>\n",
       "      <td>white</td>\n",
       "      <td>white</td>\n",
       "      <td>other</td>\n",
       "    </tr>\n",
       "    <tr>\n",
       "      <th>4</th>\n",
       "      <td>Aerie Everyday Loves Lace Cheeky</td>\n",
       "      <td>12.5</td>\n",
       "      <td>12.5</td>\n",
       "      <td>AERIE</td>\n",
       "      <td>Cheekies</td>\n",
       "      <td>Introducing Everyday Loves™: Made with love. E...</td>\n",
       "      <td>[\"XS\", \"S\", \"M\", \"L\", \"XL\", \"XXL\"]</td>\n",
       "      <td>[\"XS\", \"S\", \"M\", \"L\", \"XL\", \"XXL\"]</td>\n",
       "      <td>royal navy</td>\n",
       "      <td>blue</td>\n",
       "      <td>other</td>\n",
       "    </tr>\n",
       "  </tbody>\n",
       "</table>\n",
       "</div>"
      ],
      "text/plain": [
       "                       product_name   mrp  price brand_name product_category                                        description                         total_sizes                      available_size         color color_group product_category_wide\n",
       "0  Aerie Everyday Loves Lace Cheeky  12.5   12.5      AERIE         Cheekies  Introducing Everyday Loves™: Made with love. E...  [\"XS\", \"S\", \"M\", \"L\", \"XL\", \"XXL\"]  [\"XS\", \"S\", \"M\", \"L\", \"XL\", \"XXL\"]  rugged green       green                 other\n",
       "1  Aerie Everyday Loves Lace Cheeky  12.5   12.5      AERIE         Cheekies  Introducing Everyday Loves™: Made with love. E...  [\"XS\", \"S\", \"M\", \"L\", \"XL\", \"XXL\"]  [\"XS\", \"S\", \"M\", \"L\", \"XL\", \"XXL\"]  natural nude        nude                 other\n",
       "2  Aerie Everyday Loves Lace Cheeky  12.5   12.5      AERIE         Cheekies  Introducing Everyday Loves™: Made with love. E...  [\"XS\", \"S\", \"M\", \"L\", \"XL\", \"XXL\"]  [\"XS\", \"S\", \"M\", \"L\", \"XL\", \"XXL\"]    true black       black                 other\n",
       "3  Aerie Everyday Loves Lace Cheeky  12.5   12.5      AERIE         Cheekies  Introducing Everyday Loves™: Made with love. E...  [\"XS\", \"S\", \"M\", \"L\", \"XL\", \"XXL\"]  [\"XS\", \"S\", \"M\", \"L\", \"XL\", \"XXL\"]         white       white                 other\n",
       "4  Aerie Everyday Loves Lace Cheeky  12.5   12.5      AERIE         Cheekies  Introducing Everyday Loves™: Made with love. E...  [\"XS\", \"S\", \"M\", \"L\", \"XL\", \"XXL\"]  [\"XS\", \"S\", \"M\", \"L\", \"XL\", \"XXL\"]    royal navy        blue                 other"
      ]
     },
     "execution_count": 24,
     "metadata": {},
     "output_type": "execute_result"
    }
   ],
   "source": [
    "# There are some products like bottle, basketball, etc. that are not relevant for this study, thus can be dropped.\n",
    "# Also, the suspenders cateogory can be removed as it has only 2 entries.\n",
    "\n",
    "fashion_data.product_category_wide.fillna('other', inplace=True)\n",
    "fashion_data.color_group.fillna('other', inplace=True)\n",
    "fashion_data.head()"
   ]
  },
  {
   "cell_type": "code",
   "execution_count": 25,
   "metadata": {},
   "outputs": [
    {
     "data": {
      "text/html": [
       "<div>\n",
       "<style scoped>\n",
       "    .dataframe tbody tr th:only-of-type {\n",
       "        vertical-align: middle;\n",
       "    }\n",
       "\n",
       "    .dataframe tbody tr th {\n",
       "        vertical-align: top;\n",
       "    }\n",
       "\n",
       "    .dataframe thead th {\n",
       "        text-align: right;\n",
       "    }\n",
       "</style>\n",
       "<table border=\"1\" class=\"dataframe\">\n",
       "  <thead>\n",
       "    <tr style=\"text-align: right;\">\n",
       "      <th></th>\n",
       "      <th>product_name</th>\n",
       "      <th>mrp</th>\n",
       "      <th>price</th>\n",
       "      <th>brand_name</th>\n",
       "      <th>product_category</th>\n",
       "      <th>description</th>\n",
       "      <th>total_sizes</th>\n",
       "      <th>available_size</th>\n",
       "      <th>color</th>\n",
       "      <th>color_group</th>\n",
       "      <th>product_category_wide</th>\n",
       "    </tr>\n",
       "  </thead>\n",
       "  <tbody>\n",
       "    <tr>\n",
       "      <th>0</th>\n",
       "      <td>Aerie Everyday Loves Lace Cheeky</td>\n",
       "      <td>12.5</td>\n",
       "      <td>12.5</td>\n",
       "      <td>AERIE</td>\n",
       "      <td>Cheekies</td>\n",
       "      <td>Introducing Everyday Loves™: Made with love. E...</td>\n",
       "      <td>[\"XS\", \"S\", \"M\", \"L\", \"XL\", \"XXL\"]</td>\n",
       "      <td>[\"XS\", \"S\", \"M\", \"L\", \"XL\", \"XXL\"]</td>\n",
       "      <td>rugged green</td>\n",
       "      <td>green</td>\n",
       "      <td>other</td>\n",
       "    </tr>\n",
       "    <tr>\n",
       "      <th>1</th>\n",
       "      <td>Aerie Everyday Loves Lace Cheeky</td>\n",
       "      <td>12.5</td>\n",
       "      <td>12.5</td>\n",
       "      <td>AERIE</td>\n",
       "      <td>Cheekies</td>\n",
       "      <td>Introducing Everyday Loves™: Made with love. E...</td>\n",
       "      <td>[\"XS\", \"S\", \"M\", \"L\", \"XL\", \"XXL\"]</td>\n",
       "      <td>[\"XS\", \"S\", \"M\", \"L\", \"XL\", \"XXL\"]</td>\n",
       "      <td>natural nude</td>\n",
       "      <td>nude</td>\n",
       "      <td>other</td>\n",
       "    </tr>\n",
       "    <tr>\n",
       "      <th>2</th>\n",
       "      <td>Aerie Everyday Loves Lace Cheeky</td>\n",
       "      <td>12.5</td>\n",
       "      <td>12.5</td>\n",
       "      <td>AERIE</td>\n",
       "      <td>Cheekies</td>\n",
       "      <td>Introducing Everyday Loves™: Made with love. E...</td>\n",
       "      <td>[\"XS\", \"S\", \"M\", \"L\", \"XL\", \"XXL\"]</td>\n",
       "      <td>[\"XS\", \"S\", \"M\", \"L\", \"XL\", \"XXL\"]</td>\n",
       "      <td>true black</td>\n",
       "      <td>black</td>\n",
       "      <td>other</td>\n",
       "    </tr>\n",
       "    <tr>\n",
       "      <th>3</th>\n",
       "      <td>Aerie Everyday Loves Lace Cheeky</td>\n",
       "      <td>12.5</td>\n",
       "      <td>12.5</td>\n",
       "      <td>AERIE</td>\n",
       "      <td>Cheekies</td>\n",
       "      <td>Introducing Everyday Loves™: Made with love. E...</td>\n",
       "      <td>[\"XS\", \"S\", \"M\", \"L\", \"XL\", \"XXL\"]</td>\n",
       "      <td>[\"XS\", \"S\", \"M\", \"L\", \"XL\", \"XXL\"]</td>\n",
       "      <td>white</td>\n",
       "      <td>white</td>\n",
       "      <td>other</td>\n",
       "    </tr>\n",
       "    <tr>\n",
       "      <th>4</th>\n",
       "      <td>Aerie Everyday Loves Lace Cheeky</td>\n",
       "      <td>12.5</td>\n",
       "      <td>12.5</td>\n",
       "      <td>AERIE</td>\n",
       "      <td>Cheekies</td>\n",
       "      <td>Introducing Everyday Loves™: Made with love. E...</td>\n",
       "      <td>[\"XS\", \"S\", \"M\", \"L\", \"XL\", \"XXL\"]</td>\n",
       "      <td>[\"XS\", \"S\", \"M\", \"L\", \"XL\", \"XXL\"]</td>\n",
       "      <td>royal navy</td>\n",
       "      <td>blue</td>\n",
       "      <td>other</td>\n",
       "    </tr>\n",
       "  </tbody>\n",
       "</table>\n",
       "</div>"
      ],
      "text/plain": [
       "                       product_name   mrp  price brand_name product_category                                        description                         total_sizes                      available_size         color color_group product_category_wide\n",
       "0  Aerie Everyday Loves Lace Cheeky  12.5   12.5      AERIE         Cheekies  Introducing Everyday Loves™: Made with love. E...  [\"XS\", \"S\", \"M\", \"L\", \"XL\", \"XXL\"]  [\"XS\", \"S\", \"M\", \"L\", \"XL\", \"XXL\"]  rugged green       green                 other\n",
       "1  Aerie Everyday Loves Lace Cheeky  12.5   12.5      AERIE         Cheekies  Introducing Everyday Loves™: Made with love. E...  [\"XS\", \"S\", \"M\", \"L\", \"XL\", \"XXL\"]  [\"XS\", \"S\", \"M\", \"L\", \"XL\", \"XXL\"]  natural nude        nude                 other\n",
       "2  Aerie Everyday Loves Lace Cheeky  12.5   12.5      AERIE         Cheekies  Introducing Everyday Loves™: Made with love. E...  [\"XS\", \"S\", \"M\", \"L\", \"XL\", \"XXL\"]  [\"XS\", \"S\", \"M\", \"L\", \"XL\", \"XXL\"]    true black       black                 other\n",
       "3  Aerie Everyday Loves Lace Cheeky  12.5   12.5      AERIE         Cheekies  Introducing Everyday Loves™: Made with love. E...  [\"XS\", \"S\", \"M\", \"L\", \"XL\", \"XXL\"]  [\"XS\", \"S\", \"M\", \"L\", \"XL\", \"XXL\"]         white       white                 other\n",
       "4  Aerie Everyday Loves Lace Cheeky  12.5   12.5      AERIE         Cheekies  Introducing Everyday Loves™: Made with love. E...  [\"XS\", \"S\", \"M\", \"L\", \"XL\", \"XXL\"]  [\"XS\", \"S\", \"M\", \"L\", \"XL\", \"XXL\"]    royal navy        blue                 other"
      ]
     },
     "execution_count": 25,
     "metadata": {},
     "output_type": "execute_result"
    }
   ],
   "source": [
    "fashion_data.color_group.fillna('other', inplace=True)\n",
    "fashion_data.head()"
   ]
  },
  {
   "cell_type": "code",
   "execution_count": 26,
   "metadata": {},
   "outputs": [
    {
     "data": {
      "text/plain": [
       "bras          215007\n",
       "panties        42260\n",
       "bralettes      26222\n",
       "other          10075\n",
       "bodys           1529\n",
       "babydoll        1291\n",
       "slip            1204\n",
       "camisoles       1052\n",
       "onepiece         829\n",
       "tops             805\n",
       "rompers          200\n",
       "shorts           174\n",
       "activewear       170\n",
       "robe             168\n",
       "suspenders        40\n",
       "Name: product_category_wide, dtype: int64"
      ]
     },
     "execution_count": 26,
     "metadata": {},
     "output_type": "execute_result"
    }
   ],
   "source": [
    "fashion_data['product_category_wide'].value_counts()"
   ]
  },
  {
   "cell_type": "code",
   "execution_count": 27,
   "metadata": {},
   "outputs": [
    {
     "data": {
      "text/plain": [
       "black         44380\n",
       "multicolor    41481\n",
       "pink          32194\n",
       "blue          29509\n",
       "white         28486\n",
       "nude          22849\n",
       "grey          18473\n",
       "other         16965\n",
       "purple        16656\n",
       "red           12939\n",
       "green         12002\n",
       "yellow         8624\n",
       "brown          6973\n",
       "maroon         5188\n",
       "orange         4307\n",
       "Name: color_group, dtype: int64"
      ]
     },
     "execution_count": 27,
     "metadata": {},
     "output_type": "execute_result"
    }
   ],
   "source": [
    "fashion_data['color_group'].value_counts()"
   ]
  },
  {
   "cell_type": "code",
   "execution_count": 28,
   "metadata": {},
   "outputs": [],
   "source": [
    "def standardize_brand_names(brand_name):\n",
    "    brand_name = brand_name.lower()\n",
    "    brand_name = brand_name.replace(\"-\", \" \")\n",
    "    \n",
    "    if \"hanky\" in brand_name:\n",
    "        brand_name = \"hanky panky\"\n",
    "    elif \"calvin\" in brand_name:\n",
    "        brand_name = \"calvin klein\"\n",
    "    elif \"wacoal\" in brand_name or \"tempt\" in brand_name:\n",
    "        brand_name = \"b.tempt'd\"\n",
    "    elif \"victoria\" in brand_name:\n",
    "        brand_name = \"victoria's secret\"\n",
    "    elif \"aeo\" in brand_name:\n",
    "        brand_name = \"aerie\"\n",
    "    brand_name = brand_name.strip()\n",
    "    return brand_name\n",
    "fashion_data['brand_name'] = fashion_data['brand_name'].apply(standardize_brand_names)"
   ]
  },
  {
   "cell_type": "code",
   "execution_count": 29,
   "metadata": {},
   "outputs": [
    {
     "data": {
      "text/plain": [
       "array(['aerie', 'calvin klein', \"b.tempt'd\", 'hanky panky',\n",
       "       \"victoria's secret\", 's', 'fila', 'lucky brand', 'creative motion',\n",
       "       'sexy hair', 'nintendo', 'compression comfort', 'vanity fair',\n",
       "       'nordstrom lingerie', 'us topshop'], dtype=object)"
      ]
     },
     "execution_count": 29,
     "metadata": {},
     "output_type": "execute_result"
    }
   ],
   "source": [
    "fashion_data.brand_name.unique()"
   ]
  },
  {
   "cell_type": "markdown",
   "metadata": {},
   "source": [
    "# Univariate Analysis"
   ]
  },
  {
   "cell_type": "code",
   "execution_count": 30,
   "metadata": {},
   "outputs": [
    {
     "data": {
      "text/html": [
       "<div>\n",
       "<style scoped>\n",
       "    .dataframe tbody tr th:only-of-type {\n",
       "        vertical-align: middle;\n",
       "    }\n",
       "\n",
       "    .dataframe tbody tr th {\n",
       "        vertical-align: top;\n",
       "    }\n",
       "\n",
       "    .dataframe thead th {\n",
       "        text-align: right;\n",
       "    }\n",
       "</style>\n",
       "<table border=\"1\" class=\"dataframe\">\n",
       "  <thead>\n",
       "    <tr style=\"text-align: right;\">\n",
       "      <th></th>\n",
       "      <th>product_name</th>\n",
       "      <th>mrp</th>\n",
       "      <th>price</th>\n",
       "      <th>brand_name</th>\n",
       "      <th>product_category</th>\n",
       "      <th>description</th>\n",
       "      <th>total_sizes</th>\n",
       "      <th>available_size</th>\n",
       "      <th>color</th>\n",
       "      <th>color_group</th>\n",
       "      <th>product_category_wide</th>\n",
       "    </tr>\n",
       "  </thead>\n",
       "  <tbody>\n",
       "    <tr>\n",
       "      <th>0</th>\n",
       "      <td>Aerie Everyday Loves Lace Cheeky</td>\n",
       "      <td>12.5</td>\n",
       "      <td>12.5</td>\n",
       "      <td>aerie</td>\n",
       "      <td>Cheekies</td>\n",
       "      <td>Introducing Everyday Loves™: Made with love. E...</td>\n",
       "      <td>[\"XS\", \"S\", \"M\", \"L\", \"XL\", \"XXL\"]</td>\n",
       "      <td>[\"XS\", \"S\", \"M\", \"L\", \"XL\", \"XXL\"]</td>\n",
       "      <td>rugged green</td>\n",
       "      <td>green</td>\n",
       "      <td>other</td>\n",
       "    </tr>\n",
       "    <tr>\n",
       "      <th>1</th>\n",
       "      <td>Aerie Everyday Loves Lace Cheeky</td>\n",
       "      <td>12.5</td>\n",
       "      <td>12.5</td>\n",
       "      <td>aerie</td>\n",
       "      <td>Cheekies</td>\n",
       "      <td>Introducing Everyday Loves™: Made with love. E...</td>\n",
       "      <td>[\"XS\", \"S\", \"M\", \"L\", \"XL\", \"XXL\"]</td>\n",
       "      <td>[\"XS\", \"S\", \"M\", \"L\", \"XL\", \"XXL\"]</td>\n",
       "      <td>natural nude</td>\n",
       "      <td>nude</td>\n",
       "      <td>other</td>\n",
       "    </tr>\n",
       "    <tr>\n",
       "      <th>2</th>\n",
       "      <td>Aerie Everyday Loves Lace Cheeky</td>\n",
       "      <td>12.5</td>\n",
       "      <td>12.5</td>\n",
       "      <td>aerie</td>\n",
       "      <td>Cheekies</td>\n",
       "      <td>Introducing Everyday Loves™: Made with love. E...</td>\n",
       "      <td>[\"XS\", \"S\", \"M\", \"L\", \"XL\", \"XXL\"]</td>\n",
       "      <td>[\"XS\", \"S\", \"M\", \"L\", \"XL\", \"XXL\"]</td>\n",
       "      <td>true black</td>\n",
       "      <td>black</td>\n",
       "      <td>other</td>\n",
       "    </tr>\n",
       "    <tr>\n",
       "      <th>3</th>\n",
       "      <td>Aerie Everyday Loves Lace Cheeky</td>\n",
       "      <td>12.5</td>\n",
       "      <td>12.5</td>\n",
       "      <td>aerie</td>\n",
       "      <td>Cheekies</td>\n",
       "      <td>Introducing Everyday Loves™: Made with love. E...</td>\n",
       "      <td>[\"XS\", \"S\", \"M\", \"L\", \"XL\", \"XXL\"]</td>\n",
       "      <td>[\"XS\", \"S\", \"M\", \"L\", \"XL\", \"XXL\"]</td>\n",
       "      <td>white</td>\n",
       "      <td>white</td>\n",
       "      <td>other</td>\n",
       "    </tr>\n",
       "    <tr>\n",
       "      <th>4</th>\n",
       "      <td>Aerie Everyday Loves Lace Cheeky</td>\n",
       "      <td>12.5</td>\n",
       "      <td>12.5</td>\n",
       "      <td>aerie</td>\n",
       "      <td>Cheekies</td>\n",
       "      <td>Introducing Everyday Loves™: Made with love. E...</td>\n",
       "      <td>[\"XS\", \"S\", \"M\", \"L\", \"XL\", \"XXL\"]</td>\n",
       "      <td>[\"XS\", \"S\", \"M\", \"L\", \"XL\", \"XXL\"]</td>\n",
       "      <td>royal navy</td>\n",
       "      <td>blue</td>\n",
       "      <td>other</td>\n",
       "    </tr>\n",
       "  </tbody>\n",
       "</table>\n",
       "</div>"
      ],
      "text/plain": [
       "                       product_name   mrp  price brand_name product_category                                        description                         total_sizes                      available_size         color color_group product_category_wide\n",
       "0  Aerie Everyday Loves Lace Cheeky  12.5   12.5      aerie         Cheekies  Introducing Everyday Loves™: Made with love. E...  [\"XS\", \"S\", \"M\", \"L\", \"XL\", \"XXL\"]  [\"XS\", \"S\", \"M\", \"L\", \"XL\", \"XXL\"]  rugged green       green                 other\n",
       "1  Aerie Everyday Loves Lace Cheeky  12.5   12.5      aerie         Cheekies  Introducing Everyday Loves™: Made with love. E...  [\"XS\", \"S\", \"M\", \"L\", \"XL\", \"XXL\"]  [\"XS\", \"S\", \"M\", \"L\", \"XL\", \"XXL\"]  natural nude        nude                 other\n",
       "2  Aerie Everyday Loves Lace Cheeky  12.5   12.5      aerie         Cheekies  Introducing Everyday Loves™: Made with love. E...  [\"XS\", \"S\", \"M\", \"L\", \"XL\", \"XXL\"]  [\"XS\", \"S\", \"M\", \"L\", \"XL\", \"XXL\"]    true black       black                 other\n",
       "3  Aerie Everyday Loves Lace Cheeky  12.5   12.5      aerie         Cheekies  Introducing Everyday Loves™: Made with love. E...  [\"XS\", \"S\", \"M\", \"L\", \"XL\", \"XXL\"]  [\"XS\", \"S\", \"M\", \"L\", \"XL\", \"XXL\"]         white       white                 other\n",
       "4  Aerie Everyday Loves Lace Cheeky  12.5   12.5      aerie         Cheekies  Introducing Everyday Loves™: Made with love. E...  [\"XS\", \"S\", \"M\", \"L\", \"XL\", \"XXL\"]  [\"XS\", \"S\", \"M\", \"L\", \"XL\", \"XXL\"]    royal navy        blue                 other"
      ]
     },
     "execution_count": 30,
     "metadata": {},
     "output_type": "execute_result"
    }
   ],
   "source": [
    "fashion_data.head()"
   ]
  },
  {
   "cell_type": "code",
   "execution_count": 31,
   "metadata": {},
   "outputs": [
    {
     "data": {
      "text/plain": [
       "(301026, 11)"
      ]
     },
     "execution_count": 31,
     "metadata": {},
     "output_type": "execute_result"
    }
   ],
   "source": [
    "fashion_data.shape"
   ]
  },
  {
   "cell_type": "markdown",
   "metadata": {},
   "source": [
    "## mrp and price"
   ]
  },
  {
   "cell_type": "code",
   "execution_count": 32,
   "metadata": {},
   "outputs": [
    {
     "data": {
      "image/png": "[encoded data removed]",
      "text/plain": [
       "<Figure size 1008x288 with 2 Axes>"
      ]
     },
     "metadata": {
      "needs_background": "light"
     },
     "output_type": "display_data"
    }
   ],
   "source": [
    "# Box plot for mrp, price\n",
    "\n",
    "fig, ax = plt.subplots(1,2,figsize=(14, 4))\n",
    "\n",
    "fig.set_constrained_layout(True)\n",
    "\n",
    "fig.suptitle('Box plot analysis for the mrp and price', fontsize=15, y=0)\n",
    "\n",
    "sns.boxplot(x='mrp', data = fashion_data, ax = ax[0], orient='v')\n",
    "\n",
    "sns.boxplot(x='price', data = fashion_data, ax = ax[1], orient='v')\n",
    "\n",
    "plt.show()"
   ]
  },
  {
   "cell_type": "code",
   "execution_count": 33,
   "metadata": {},
   "outputs": [
    {
     "data": {
      "text/html": [
       "<div>\n",
       "<style scoped>\n",
       "    .dataframe tbody tr th:only-of-type {\n",
       "        vertical-align: middle;\n",
       "    }\n",
       "\n",
       "    .dataframe tbody tr th {\n",
       "        vertical-align: top;\n",
       "    }\n",
       "\n",
       "    .dataframe thead th {\n",
       "        text-align: right;\n",
       "    }\n",
       "</style>\n",
       "<table border=\"1\" class=\"dataframe\">\n",
       "  <thead>\n",
       "    <tr style=\"text-align: right;\">\n",
       "      <th></th>\n",
       "      <th>price</th>\n",
       "      <th>mrp</th>\n",
       "    </tr>\n",
       "  </thead>\n",
       "  <tbody>\n",
       "    <tr>\n",
       "      <th>count</th>\n",
       "      <td>301026.000000</td>\n",
       "      <td>301026.000000</td>\n",
       "    </tr>\n",
       "    <tr>\n",
       "      <th>mean</th>\n",
       "      <td>33.331434</td>\n",
       "      <td>37.319078</td>\n",
       "    </tr>\n",
       "    <tr>\n",
       "      <th>std</th>\n",
       "      <td>17.053397</td>\n",
       "      <td>15.983750</td>\n",
       "    </tr>\n",
       "    <tr>\n",
       "      <th>min</th>\n",
       "      <td>0.007716</td>\n",
       "      <td>0.007716</td>\n",
       "    </tr>\n",
       "    <tr>\n",
       "      <th>5%</th>\n",
       "      <td>9.990000</td>\n",
       "      <td>10.500000</td>\n",
       "    </tr>\n",
       "    <tr>\n",
       "      <th>25%</th>\n",
       "      <td>19.990000</td>\n",
       "      <td>29.500000</td>\n",
       "    </tr>\n",
       "    <tr>\n",
       "      <th>50%</th>\n",
       "      <td>34.500000</td>\n",
       "      <td>36.500000</td>\n",
       "    </tr>\n",
       "    <tr>\n",
       "      <th>75%</th>\n",
       "      <td>46.000000</td>\n",
       "      <td>49.500000</td>\n",
       "    </tr>\n",
       "    <tr>\n",
       "      <th>90%</th>\n",
       "      <td>56.500000</td>\n",
       "      <td>58.500000</td>\n",
       "    </tr>\n",
       "    <tr>\n",
       "      <th>95%</th>\n",
       "      <td>60.000000</td>\n",
       "      <td>62.500000</td>\n",
       "    </tr>\n",
       "    <tr>\n",
       "      <th>99%</th>\n",
       "      <td>66.500000</td>\n",
       "      <td>68.000000</td>\n",
       "    </tr>\n",
       "    <tr>\n",
       "      <th>max</th>\n",
       "      <td>615.000000</td>\n",
       "      <td>615.000000</td>\n",
       "    </tr>\n",
       "  </tbody>\n",
       "</table>\n",
       "</div>"
      ],
      "text/plain": [
       "               price            mrp\n",
       "count  301026.000000  301026.000000\n",
       "mean       33.331434      37.319078\n",
       "std        17.053397      15.983750\n",
       "min         0.007716       0.007716\n",
       "5%          9.990000      10.500000\n",
       "25%        19.990000      29.500000\n",
       "50%        34.500000      36.500000\n",
       "75%        46.000000      49.500000\n",
       "90%        56.500000      58.500000\n",
       "95%        60.000000      62.500000\n",
       "99%        66.500000      68.000000\n",
       "max       615.000000     615.000000"
      ]
     },
     "execution_count": 33,
     "metadata": {},
     "output_type": "execute_result"
    }
   ],
   "source": [
    "# Checking the statistical informations of the numerical variables\n",
    "\n",
    "fashion_data[['price', 'mrp']].describe(percentiles = [0.05, 0.25, 0.5, 0.75, 0.90, 0.95, 0.99])"
   ]
  },
  {
   "cell_type": "code",
   "execution_count": 34,
   "metadata": {},
   "outputs": [],
   "source": [
    "fashion_data = fashion_data[(fashion_data.price <= 100) & (fashion_data.price >= 5)]"
   ]
  },
  {
   "cell_type": "code",
   "execution_count": 35,
   "metadata": {},
   "outputs": [
    {
     "data": {
      "image/png": "[encoded data removed]",
      "text/plain": [
       "<Figure size 1008x288 with 2 Axes>"
      ]
     },
     "metadata": {
      "needs_background": "light"
     },
     "output_type": "display_data"
    }
   ],
   "source": [
    "# Box plot for mrp, price\n",
    "\n",
    "fig, ax = plt.subplots(1,2,figsize=(14, 4))\n",
    "\n",
    "fig.set_constrained_layout(True)\n",
    "\n",
    "fig.suptitle('Box plot analysis for the mrp and price', fontsize=15, y=0)\n",
    "\n",
    "sns.boxplot(x='mrp', data = fashion_data, ax = ax[0], orient='v')\n",
    "\n",
    "sns.boxplot(x='price', data = fashion_data, ax = ax[1], orient='v')\n",
    "\n",
    "plt.show()"
   ]
  },
  {
   "cell_type": "code",
   "execution_count": 36,
   "metadata": {},
   "outputs": [
    {
     "data": {
      "image/png": "[encoded data removed]",
      "text/plain": [
       "<Figure size 720x288 with 2 Axes>"
      ]
     },
     "metadata": {
      "needs_background": "light"
     },
     "output_type": "display_data"
    }
   ],
   "source": [
    "# Let's plot the distribution plot for the continuous columns\n",
    "\n",
    "fig, ax = plt.subplots(1, 2, figsize=(10, 4))\n",
    "\n",
    "fig.set_constrained_layout(True)\n",
    "fig.suptitle(\"Distribution plots for 'mrp' and 'price'\", fontsize=15, y=0)\n",
    "\n",
    "sns.distplot(fashion_data['mrp'], ax=ax[0])\n",
    "\n",
    "sns.distplot(fashion_data['price'], ax=ax[1])\n",
    "\n",
    "plt.show()"
   ]
  },
  {
   "cell_type": "markdown",
   "metadata": {},
   "source": [
    "## brand_name"
   ]
  },
  {
   "cell_type": "code",
   "execution_count": 37,
   "metadata": {},
   "outputs": [
    {
     "data": {
      "text/html": [
       "<div>\n",
       "<style scoped>\n",
       "    .dataframe tbody tr th:only-of-type {\n",
       "        vertical-align: middle;\n",
       "    }\n",
       "\n",
       "    .dataframe tbody tr th {\n",
       "        vertical-align: top;\n",
       "    }\n",
       "\n",
       "    .dataframe thead th {\n",
       "        text-align: right;\n",
       "    }\n",
       "</style>\n",
       "<table border=\"1\" class=\"dataframe\">\n",
       "  <thead>\n",
       "    <tr style=\"text-align: right;\">\n",
       "      <th></th>\n",
       "      <th>product_name</th>\n",
       "      <th>mrp</th>\n",
       "      <th>price</th>\n",
       "      <th>brand_name</th>\n",
       "      <th>product_category</th>\n",
       "      <th>description</th>\n",
       "      <th>total_sizes</th>\n",
       "      <th>available_size</th>\n",
       "      <th>color</th>\n",
       "      <th>color_group</th>\n",
       "      <th>product_category_wide</th>\n",
       "    </tr>\n",
       "  </thead>\n",
       "  <tbody>\n",
       "    <tr>\n",
       "      <th>0</th>\n",
       "      <td>Aerie Everyday Loves Lace Cheeky</td>\n",
       "      <td>12.5</td>\n",
       "      <td>12.5</td>\n",
       "      <td>aerie</td>\n",
       "      <td>Cheekies</td>\n",
       "      <td>Introducing Everyday Loves™: Made with love. E...</td>\n",
       "      <td>[\"XS\", \"S\", \"M\", \"L\", \"XL\", \"XXL\"]</td>\n",
       "      <td>[\"XS\", \"S\", \"M\", \"L\", \"XL\", \"XXL\"]</td>\n",
       "      <td>rugged green</td>\n",
       "      <td>green</td>\n",
       "      <td>other</td>\n",
       "    </tr>\n",
       "    <tr>\n",
       "      <th>1</th>\n",
       "      <td>Aerie Everyday Loves Lace Cheeky</td>\n",
       "      <td>12.5</td>\n",
       "      <td>12.5</td>\n",
       "      <td>aerie</td>\n",
       "      <td>Cheekies</td>\n",
       "      <td>Introducing Everyday Loves™: Made with love. E...</td>\n",
       "      <td>[\"XS\", \"S\", \"M\", \"L\", \"XL\", \"XXL\"]</td>\n",
       "      <td>[\"XS\", \"S\", \"M\", \"L\", \"XL\", \"XXL\"]</td>\n",
       "      <td>natural nude</td>\n",
       "      <td>nude</td>\n",
       "      <td>other</td>\n",
       "    </tr>\n",
       "    <tr>\n",
       "      <th>2</th>\n",
       "      <td>Aerie Everyday Loves Lace Cheeky</td>\n",
       "      <td>12.5</td>\n",
       "      <td>12.5</td>\n",
       "      <td>aerie</td>\n",
       "      <td>Cheekies</td>\n",
       "      <td>Introducing Everyday Loves™: Made with love. E...</td>\n",
       "      <td>[\"XS\", \"S\", \"M\", \"L\", \"XL\", \"XXL\"]</td>\n",
       "      <td>[\"XS\", \"S\", \"M\", \"L\", \"XL\", \"XXL\"]</td>\n",
       "      <td>true black</td>\n",
       "      <td>black</td>\n",
       "      <td>other</td>\n",
       "    </tr>\n",
       "    <tr>\n",
       "      <th>3</th>\n",
       "      <td>Aerie Everyday Loves Lace Cheeky</td>\n",
       "      <td>12.5</td>\n",
       "      <td>12.5</td>\n",
       "      <td>aerie</td>\n",
       "      <td>Cheekies</td>\n",
       "      <td>Introducing Everyday Loves™: Made with love. E...</td>\n",
       "      <td>[\"XS\", \"S\", \"M\", \"L\", \"XL\", \"XXL\"]</td>\n",
       "      <td>[\"XS\", \"S\", \"M\", \"L\", \"XL\", \"XXL\"]</td>\n",
       "      <td>white</td>\n",
       "      <td>white</td>\n",
       "      <td>other</td>\n",
       "    </tr>\n",
       "    <tr>\n",
       "      <th>4</th>\n",
       "      <td>Aerie Everyday Loves Lace Cheeky</td>\n",
       "      <td>12.5</td>\n",
       "      <td>12.5</td>\n",
       "      <td>aerie</td>\n",
       "      <td>Cheekies</td>\n",
       "      <td>Introducing Everyday Loves™: Made with love. E...</td>\n",
       "      <td>[\"XS\", \"S\", \"M\", \"L\", \"XL\", \"XXL\"]</td>\n",
       "      <td>[\"XS\", \"S\", \"M\", \"L\", \"XL\", \"XXL\"]</td>\n",
       "      <td>royal navy</td>\n",
       "      <td>blue</td>\n",
       "      <td>other</td>\n",
       "    </tr>\n",
       "  </tbody>\n",
       "</table>\n",
       "</div>"
      ],
      "text/plain": [
       "                       product_name   mrp  price brand_name product_category                                        description                         total_sizes                      available_size         color color_group product_category_wide\n",
       "0  Aerie Everyday Loves Lace Cheeky  12.5   12.5      aerie         Cheekies  Introducing Everyday Loves™: Made with love. E...  [\"XS\", \"S\", \"M\", \"L\", \"XL\", \"XXL\"]  [\"XS\", \"S\", \"M\", \"L\", \"XL\", \"XXL\"]  rugged green       green                 other\n",
       "1  Aerie Everyday Loves Lace Cheeky  12.5   12.5      aerie         Cheekies  Introducing Everyday Loves™: Made with love. E...  [\"XS\", \"S\", \"M\", \"L\", \"XL\", \"XXL\"]  [\"XS\", \"S\", \"M\", \"L\", \"XL\", \"XXL\"]  natural nude        nude                 other\n",
       "2  Aerie Everyday Loves Lace Cheeky  12.5   12.5      aerie         Cheekies  Introducing Everyday Loves™: Made with love. E...  [\"XS\", \"S\", \"M\", \"L\", \"XL\", \"XXL\"]  [\"XS\", \"S\", \"M\", \"L\", \"XL\", \"XXL\"]    true black       black                 other\n",
       "3  Aerie Everyday Loves Lace Cheeky  12.5   12.5      aerie         Cheekies  Introducing Everyday Loves™: Made with love. E...  [\"XS\", \"S\", \"M\", \"L\", \"XL\", \"XXL\"]  [\"XS\", \"S\", \"M\", \"L\", \"XL\", \"XXL\"]         white       white                 other\n",
       "4  Aerie Everyday Loves Lace Cheeky  12.5   12.5      aerie         Cheekies  Introducing Everyday Loves™: Made with love. E...  [\"XS\", \"S\", \"M\", \"L\", \"XL\", \"XXL\"]  [\"XS\", \"S\", \"M\", \"L\", \"XL\", \"XXL\"]    royal navy        blue                 other"
      ]
     },
     "execution_count": 37,
     "metadata": {},
     "output_type": "execute_result"
    }
   ],
   "source": [
    "fashion_data.head()"
   ]
  },
  {
   "cell_type": "code",
   "execution_count": 38,
   "metadata": {},
   "outputs": [
    {
     "data": {
      "text/html": [
       "<div>\n",
       "<style scoped>\n",
       "    .dataframe tbody tr th:only-of-type {\n",
       "        vertical-align: middle;\n",
       "    }\n",
       "\n",
       "    .dataframe tbody tr th {\n",
       "        vertical-align: top;\n",
       "    }\n",
       "\n",
       "    .dataframe thead th {\n",
       "        text-align: right;\n",
       "    }\n",
       "</style>\n",
       "<table border=\"1\" class=\"dataframe\">\n",
       "  <thead>\n",
       "    <tr style=\"text-align: right;\">\n",
       "      <th></th>\n",
       "      <th>brand_name</th>\n",
       "    </tr>\n",
       "  </thead>\n",
       "  <tbody>\n",
       "    <tr>\n",
       "      <th>victoria's secret</th>\n",
       "      <td>236606</td>\n",
       "    </tr>\n",
       "    <tr>\n",
       "      <th>b.tempt'd</th>\n",
       "      <td>21389</td>\n",
       "    </tr>\n",
       "    <tr>\n",
       "      <th>aerie</th>\n",
       "      <td>18258</td>\n",
       "    </tr>\n",
       "    <tr>\n",
       "      <th>calvin klein</th>\n",
       "      <td>12470</td>\n",
       "    </tr>\n",
       "    <tr>\n",
       "      <th>hanky panky</th>\n",
       "      <td>7627</td>\n",
       "    </tr>\n",
       "    <tr>\n",
       "      <th>us topshop</th>\n",
       "      <td>1021</td>\n",
       "    </tr>\n",
       "    <tr>\n",
       "      <th>vanity fair</th>\n",
       "      <td>595</td>\n",
       "    </tr>\n",
       "    <tr>\n",
       "      <th>nordstrom lingerie</th>\n",
       "      <td>191</td>\n",
       "    </tr>\n",
       "  </tbody>\n",
       "</table>\n",
       "</div>"
      ],
      "text/plain": [
       "                    brand_name\n",
       "victoria's secret       236606\n",
       "b.tempt'd                21389\n",
       "aerie                    18258\n",
       "calvin klein             12470\n",
       "hanky panky               7627\n",
       "us topshop                1021\n",
       "vanity fair                595\n",
       "nordstrom lingerie         191"
      ]
     },
     "execution_count": 38,
     "metadata": {},
     "output_type": "execute_result"
    }
   ],
   "source": [
    "df = pd.DataFrame(fashion_data.brand_name.value_counts()[fashion_data.brand_name.value_counts()>100])\n",
    "df"
   ]
  },
  {
   "cell_type": "code",
   "execution_count": 39,
   "metadata": {},
   "outputs": [],
   "source": [
    "fashion_data = fashion_data[fashion_data.brand_name.apply(lambda x: x in list(df.index))]"
   ]
  },
  {
   "cell_type": "code",
   "execution_count": 40,
   "metadata": {},
   "outputs": [],
   "source": [
    "def univariate_countplot(column, x, y):\n",
    "    plt.figure(figsize=(x,y))\n",
    "    ax = sns.countplot(x = column, data = fashion_data, order = fashion_data[column].value_counts().iloc[:10].index)\n",
    "    ax.set_xticklabels(ax.get_xticklabels(),rotation=15)\n",
    "    # Percentage of bars\n",
    "    total = float(fashion_data.shape[0])\n",
    "    \n",
    "    for p in ax.patches:\n",
    "            x = p.get_x() + p.get_width() / 2 - 0.45\n",
    "            y = p.get_y() + p.get_height()\n",
    "            ax.annotate(p.get_height(), (x, y), size = 12)\n",
    "    plt.show()"
   ]
  },
  {
   "cell_type": "code",
   "execution_count": 41,
   "metadata": {},
   "outputs": [
    {
     "data": {
      "image/png": "[encoded data removed]",
      "text/plain": [
       "<Figure size 720x360 with 1 Axes>"
      ]
     },
     "metadata": {
      "needs_background": "light"
     },
     "output_type": "display_data"
    }
   ],
   "source": [
    "univariate_countplot('brand_name', 10, 5)"
   ]
  },
  {
   "cell_type": "code",
   "execution_count": 42,
   "metadata": {},
   "outputs": [
    {
     "data": {
      "text/html": [
       "<div>\n",
       "<style scoped>\n",
       "    .dataframe tbody tr th:only-of-type {\n",
       "        vertical-align: middle;\n",
       "    }\n",
       "\n",
       "    .dataframe tbody tr th {\n",
       "        vertical-align: top;\n",
       "    }\n",
       "\n",
       "    .dataframe thead th {\n",
       "        text-align: right;\n",
       "    }\n",
       "</style>\n",
       "<table border=\"1\" class=\"dataframe\">\n",
       "  <thead>\n",
       "    <tr style=\"text-align: right;\">\n",
       "      <th></th>\n",
       "      <th>Total number of items</th>\n",
       "      <th>Number of unique products</th>\n",
       "    </tr>\n",
       "    <tr>\n",
       "      <th>brand_name</th>\n",
       "      <th></th>\n",
       "      <th></th>\n",
       "    </tr>\n",
       "  </thead>\n",
       "  <tbody>\n",
       "    <tr>\n",
       "      <th>aerie</th>\n",
       "      <td>18258</td>\n",
       "      <td>106</td>\n",
       "    </tr>\n",
       "    <tr>\n",
       "      <th>calvin klein</th>\n",
       "      <td>12470</td>\n",
       "      <td>443</td>\n",
       "    </tr>\n",
       "    <tr>\n",
       "      <th>b.tempt'd</th>\n",
       "      <td>21389</td>\n",
       "      <td>395</td>\n",
       "    </tr>\n",
       "    <tr>\n",
       "      <th>hanky panky</th>\n",
       "      <td>7627</td>\n",
       "      <td>852</td>\n",
       "    </tr>\n",
       "    <tr>\n",
       "      <th>victoria's secret</th>\n",
       "      <td>236606</td>\n",
       "      <td>593</td>\n",
       "    </tr>\n",
       "    <tr>\n",
       "      <th>vanity fair</th>\n",
       "      <td>595</td>\n",
       "      <td>43</td>\n",
       "    </tr>\n",
       "    <tr>\n",
       "      <th>nordstrom lingerie</th>\n",
       "      <td>191</td>\n",
       "      <td>23</td>\n",
       "    </tr>\n",
       "    <tr>\n",
       "      <th>us topshop</th>\n",
       "      <td>1021</td>\n",
       "      <td>281</td>\n",
       "    </tr>\n",
       "  </tbody>\n",
       "</table>\n",
       "</div>"
      ],
      "text/plain": [
       "                    Total number of items  Number of unique products\n",
       "brand_name                                                          \n",
       "aerie                               18258                        106\n",
       "calvin klein                        12470                        443\n",
       "b.tempt'd                           21389                        395\n",
       "hanky panky                          7627                        852\n",
       "victoria's secret                  236606                        593\n",
       "vanity fair                           595                         43\n",
       "nordstrom lingerie                    191                         23\n",
       "us topshop                           1021                        281"
      ]
     },
     "execution_count": 42,
     "metadata": {},
     "output_type": "execute_result"
    }
   ],
   "source": [
    "brands_name = ['aerie', 'calvin klein', \"b.tempt'd\", 'hanky panky', \"victoria's secret\",'vanity fair','nordstrom lingerie', \n",
    "               'us topshop']\n",
    "df = fashion_data.groupby('brand_name').product_name.agg(['count', 'nunique'])\n",
    "df = df.loc[brands_name]\n",
    "df.rename(columns={'count':'Total number of items', 'nunique': 'Number of unique products' })"
   ]
  },
  {
   "cell_type": "markdown",
   "metadata": {},
   "source": [
    "## product_category"
   ]
  },
  {
   "cell_type": "code",
   "execution_count": 43,
   "metadata": {},
   "outputs": [
    {
     "data": {
      "text/html": [
       "<div>\n",
       "<style scoped>\n",
       "    .dataframe tbody tr th:only-of-type {\n",
       "        vertical-align: middle;\n",
       "    }\n",
       "\n",
       "    .dataframe tbody tr th {\n",
       "        vertical-align: top;\n",
       "    }\n",
       "\n",
       "    .dataframe thead th {\n",
       "        text-align: right;\n",
       "    }\n",
       "</style>\n",
       "<table border=\"1\" class=\"dataframe\">\n",
       "  <thead>\n",
       "    <tr style=\"text-align: right;\">\n",
       "      <th></th>\n",
       "      <th>product_name</th>\n",
       "      <th>mrp</th>\n",
       "      <th>price</th>\n",
       "      <th>brand_name</th>\n",
       "      <th>product_category</th>\n",
       "      <th>description</th>\n",
       "      <th>total_sizes</th>\n",
       "      <th>available_size</th>\n",
       "      <th>color</th>\n",
       "      <th>color_group</th>\n",
       "      <th>product_category_wide</th>\n",
       "    </tr>\n",
       "  </thead>\n",
       "  <tbody>\n",
       "    <tr>\n",
       "      <th>0</th>\n",
       "      <td>Aerie Everyday Loves Lace Cheeky</td>\n",
       "      <td>12.5</td>\n",
       "      <td>12.5</td>\n",
       "      <td>aerie</td>\n",
       "      <td>Cheekies</td>\n",
       "      <td>Introducing Everyday Loves™: Made with love. E...</td>\n",
       "      <td>[\"XS\", \"S\", \"M\", \"L\", \"XL\", \"XXL\"]</td>\n",
       "      <td>[\"XS\", \"S\", \"M\", \"L\", \"XL\", \"XXL\"]</td>\n",
       "      <td>rugged green</td>\n",
       "      <td>green</td>\n",
       "      <td>other</td>\n",
       "    </tr>\n",
       "    <tr>\n",
       "      <th>1</th>\n",
       "      <td>Aerie Everyday Loves Lace Cheeky</td>\n",
       "      <td>12.5</td>\n",
       "      <td>12.5</td>\n",
       "      <td>aerie</td>\n",
       "      <td>Cheekies</td>\n",
       "      <td>Introducing Everyday Loves™: Made with love. E...</td>\n",
       "      <td>[\"XS\", \"S\", \"M\", \"L\", \"XL\", \"XXL\"]</td>\n",
       "      <td>[\"XS\", \"S\", \"M\", \"L\", \"XL\", \"XXL\"]</td>\n",
       "      <td>natural nude</td>\n",
       "      <td>nude</td>\n",
       "      <td>other</td>\n",
       "    </tr>\n",
       "    <tr>\n",
       "      <th>2</th>\n",
       "      <td>Aerie Everyday Loves Lace Cheeky</td>\n",
       "      <td>12.5</td>\n",
       "      <td>12.5</td>\n",
       "      <td>aerie</td>\n",
       "      <td>Cheekies</td>\n",
       "      <td>Introducing Everyday Loves™: Made with love. E...</td>\n",
       "      <td>[\"XS\", \"S\", \"M\", \"L\", \"XL\", \"XXL\"]</td>\n",
       "      <td>[\"XS\", \"S\", \"M\", \"L\", \"XL\", \"XXL\"]</td>\n",
       "      <td>true black</td>\n",
       "      <td>black</td>\n",
       "      <td>other</td>\n",
       "    </tr>\n",
       "    <tr>\n",
       "      <th>3</th>\n",
       "      <td>Aerie Everyday Loves Lace Cheeky</td>\n",
       "      <td>12.5</td>\n",
       "      <td>12.5</td>\n",
       "      <td>aerie</td>\n",
       "      <td>Cheekies</td>\n",
       "      <td>Introducing Everyday Loves™: Made with love. E...</td>\n",
       "      <td>[\"XS\", \"S\", \"M\", \"L\", \"XL\", \"XXL\"]</td>\n",
       "      <td>[\"XS\", \"S\", \"M\", \"L\", \"XL\", \"XXL\"]</td>\n",
       "      <td>white</td>\n",
       "      <td>white</td>\n",
       "      <td>other</td>\n",
       "    </tr>\n",
       "    <tr>\n",
       "      <th>4</th>\n",
       "      <td>Aerie Everyday Loves Lace Cheeky</td>\n",
       "      <td>12.5</td>\n",
       "      <td>12.5</td>\n",
       "      <td>aerie</td>\n",
       "      <td>Cheekies</td>\n",
       "      <td>Introducing Everyday Loves™: Made with love. E...</td>\n",
       "      <td>[\"XS\", \"S\", \"M\", \"L\", \"XL\", \"XXL\"]</td>\n",
       "      <td>[\"XS\", \"S\", \"M\", \"L\", \"XL\", \"XXL\"]</td>\n",
       "      <td>royal navy</td>\n",
       "      <td>blue</td>\n",
       "      <td>other</td>\n",
       "    </tr>\n",
       "  </tbody>\n",
       "</table>\n",
       "</div>"
      ],
      "text/plain": [
       "                       product_name   mrp  price brand_name product_category                                        description                         total_sizes                      available_size         color color_group product_category_wide\n",
       "0  Aerie Everyday Loves Lace Cheeky  12.5   12.5      aerie         Cheekies  Introducing Everyday Loves™: Made with love. E...  [\"XS\", \"S\", \"M\", \"L\", \"XL\", \"XXL\"]  [\"XS\", \"S\", \"M\", \"L\", \"XL\", \"XXL\"]  rugged green       green                 other\n",
       "1  Aerie Everyday Loves Lace Cheeky  12.5   12.5      aerie         Cheekies  Introducing Everyday Loves™: Made with love. E...  [\"XS\", \"S\", \"M\", \"L\", \"XL\", \"XXL\"]  [\"XS\", \"S\", \"M\", \"L\", \"XL\", \"XXL\"]  natural nude        nude                 other\n",
       "2  Aerie Everyday Loves Lace Cheeky  12.5   12.5      aerie         Cheekies  Introducing Everyday Loves™: Made with love. E...  [\"XS\", \"S\", \"M\", \"L\", \"XL\", \"XXL\"]  [\"XS\", \"S\", \"M\", \"L\", \"XL\", \"XXL\"]    true black       black                 other\n",
       "3  Aerie Everyday Loves Lace Cheeky  12.5   12.5      aerie         Cheekies  Introducing Everyday Loves™: Made with love. E...  [\"XS\", \"S\", \"M\", \"L\", \"XL\", \"XXL\"]  [\"XS\", \"S\", \"M\", \"L\", \"XL\", \"XXL\"]         white       white                 other\n",
       "4  Aerie Everyday Loves Lace Cheeky  12.5   12.5      aerie         Cheekies  Introducing Everyday Loves™: Made with love. E...  [\"XS\", \"S\", \"M\", \"L\", \"XL\", \"XXL\"]  [\"XS\", \"S\", \"M\", \"L\", \"XL\", \"XXL\"]    royal navy        blue                 other"
      ]
     },
     "execution_count": 43,
     "metadata": {},
     "output_type": "execute_result"
    }
   ],
   "source": [
    "fashion_data.head()"
   ]
  },
  {
   "cell_type": "code",
   "execution_count": 44,
   "metadata": {},
   "outputs": [
    {
     "data": {
      "text/html": [
       "<div>\n",
       "<style scoped>\n",
       "    .dataframe tbody tr th:only-of-type {\n",
       "        vertical-align: middle;\n",
       "    }\n",
       "\n",
       "    .dataframe tbody tr th {\n",
       "        vertical-align: top;\n",
       "    }\n",
       "\n",
       "    .dataframe thead th {\n",
       "        text-align: right;\n",
       "    }\n",
       "</style>\n",
       "<table border=\"1\" class=\"dataframe\">\n",
       "  <thead>\n",
       "    <tr style=\"text-align: right;\">\n",
       "      <th></th>\n",
       "      <th>Total number of items</th>\n",
       "      <th>Number of unique products</th>\n",
       "    </tr>\n",
       "    <tr>\n",
       "      <th>product_category_wide</th>\n",
       "      <th></th>\n",
       "      <th></th>\n",
       "    </tr>\n",
       "  </thead>\n",
       "  <tbody>\n",
       "    <tr>\n",
       "      <th>bras</th>\n",
       "      <td>214593</td>\n",
       "      <td>701</td>\n",
       "    </tr>\n",
       "    <tr>\n",
       "      <th>panties</th>\n",
       "      <td>40095</td>\n",
       "      <td>1060</td>\n",
       "    </tr>\n",
       "    <tr>\n",
       "      <th>bralettes</th>\n",
       "      <td>26182</td>\n",
       "      <td>321</td>\n",
       "    </tr>\n",
       "    <tr>\n",
       "      <th>other</th>\n",
       "      <td>10036</td>\n",
       "      <td>311</td>\n",
       "    </tr>\n",
       "    <tr>\n",
       "      <th>bodys</th>\n",
       "      <td>1481</td>\n",
       "      <td>76</td>\n",
       "    </tr>\n",
       "    <tr>\n",
       "      <th>slip</th>\n",
       "      <td>1195</td>\n",
       "      <td>33</td>\n",
       "    </tr>\n",
       "    <tr>\n",
       "      <th>babydoll</th>\n",
       "      <td>1187</td>\n",
       "      <td>56</td>\n",
       "    </tr>\n",
       "    <tr>\n",
       "      <th>camisoles</th>\n",
       "      <td>1052</td>\n",
       "      <td>73</td>\n",
       "    </tr>\n",
       "    <tr>\n",
       "      <th>onepiece</th>\n",
       "      <td>829</td>\n",
       "      <td>11</td>\n",
       "    </tr>\n",
       "    <tr>\n",
       "      <th>tops</th>\n",
       "      <td>805</td>\n",
       "      <td>30</td>\n",
       "    </tr>\n",
       "    <tr>\n",
       "      <th>rompers</th>\n",
       "      <td>200</td>\n",
       "      <td>8</td>\n",
       "    </tr>\n",
       "    <tr>\n",
       "      <th>shorts</th>\n",
       "      <td>174</td>\n",
       "      <td>19</td>\n",
       "    </tr>\n",
       "    <tr>\n",
       "      <th>activewear</th>\n",
       "      <td>170</td>\n",
       "      <td>6</td>\n",
       "    </tr>\n",
       "    <tr>\n",
       "      <th>robe</th>\n",
       "      <td>118</td>\n",
       "      <td>8</td>\n",
       "    </tr>\n",
       "    <tr>\n",
       "      <th>suspenders</th>\n",
       "      <td>40</td>\n",
       "      <td>16</td>\n",
       "    </tr>\n",
       "  </tbody>\n",
       "</table>\n",
       "</div>"
      ],
      "text/plain": [
       "                       Total number of items  Number of unique products\n",
       "product_category_wide                                                  \n",
       "bras                                  214593                        701\n",
       "panties                                40095                       1060\n",
       "bralettes                              26182                        321\n",
       "other                                  10036                        311\n",
       "bodys                                   1481                         76\n",
       "slip                                    1195                         33\n",
       "babydoll                                1187                         56\n",
       "camisoles                               1052                         73\n",
       "onepiece                                 829                         11\n",
       "tops                                     805                         30\n",
       "rompers                                  200                          8\n",
       "shorts                                   174                         19\n",
       "activewear                               170                          6\n",
       "robe                                     118                          8\n",
       "suspenders                                40                         16"
      ]
     },
     "execution_count": 44,
     "metadata": {},
     "output_type": "execute_result"
    }
   ],
   "source": [
    "categories_name = fashion_data.product_category_wide.unique()\n",
    "df = fashion_data.groupby('product_category_wide').product_name.agg(['count', 'nunique'])\n",
    "df = df.loc[categories_name]\n",
    "df = df.sort_values(by='count', axis=0, ascending=False)\n",
    "df.rename(columns={'count':'Total number of items', 'nunique': 'Number of unique products' })"
   ]
  },
  {
   "cell_type": "markdown",
   "metadata": {},
   "source": [
    "## total_sizes and available_size"
   ]
  },
  {
   "cell_type": "code",
   "execution_count": 45,
   "metadata": {},
   "outputs": [
    {
     "data": {
      "text/html": [
       "<div>\n",
       "<style scoped>\n",
       "    .dataframe tbody tr th:only-of-type {\n",
       "        vertical-align: middle;\n",
       "    }\n",
       "\n",
       "    .dataframe tbody tr th {\n",
       "        vertical-align: top;\n",
       "    }\n",
       "\n",
       "    .dataframe thead th {\n",
       "        text-align: right;\n",
       "    }\n",
       "</style>\n",
       "<table border=\"1\" class=\"dataframe\">\n",
       "  <thead>\n",
       "    <tr style=\"text-align: right;\">\n",
       "      <th></th>\n",
       "      <th>Total number of items</th>\n",
       "      <th>Number of unique products</th>\n",
       "    </tr>\n",
       "  </thead>\n",
       "  <tbody>\n",
       "    <tr>\n",
       "      <th>S</th>\n",
       "      <td>13728</td>\n",
       "      <td>444</td>\n",
       "    </tr>\n",
       "    <tr>\n",
       "      <th>M</th>\n",
       "      <td>13584</td>\n",
       "      <td>451</td>\n",
       "    </tr>\n",
       "    <tr>\n",
       "      <th>XS</th>\n",
       "      <td>13564</td>\n",
       "      <td>437</td>\n",
       "    </tr>\n",
       "    <tr>\n",
       "      <th>L</th>\n",
       "      <td>13243</td>\n",
       "      <td>443</td>\n",
       "    </tr>\n",
       "    <tr>\n",
       "      <th>34B</th>\n",
       "      <td>8466</td>\n",
       "      <td>135</td>\n",
       "    </tr>\n",
       "    <tr>\n",
       "      <th>32D</th>\n",
       "      <td>8452</td>\n",
       "      <td>132</td>\n",
       "    </tr>\n",
       "    <tr>\n",
       "      <th>34DD</th>\n",
       "      <td>8449</td>\n",
       "      <td>118</td>\n",
       "    </tr>\n",
       "    <tr>\n",
       "      <th>34C</th>\n",
       "      <td>8397</td>\n",
       "      <td>133</td>\n",
       "    </tr>\n",
       "    <tr>\n",
       "      <th>32DD</th>\n",
       "      <td>8356</td>\n",
       "      <td>114</td>\n",
       "    </tr>\n",
       "    <tr>\n",
       "      <th>34D</th>\n",
       "      <td>8311</td>\n",
       "      <td>130</td>\n",
       "    </tr>\n",
       "    <tr>\n",
       "      <th>36C</th>\n",
       "      <td>8174</td>\n",
       "      <td>130</td>\n",
       "    </tr>\n",
       "    <tr>\n",
       "      <th>36B</th>\n",
       "      <td>8123</td>\n",
       "      <td>129</td>\n",
       "    </tr>\n",
       "    <tr>\n",
       "      <th>36D</th>\n",
       "      <td>8073</td>\n",
       "      <td>131</td>\n",
       "    </tr>\n",
       "    <tr>\n",
       "      <th>36DD</th>\n",
       "      <td>7997</td>\n",
       "      <td>113</td>\n",
       "    </tr>\n",
       "    <tr>\n",
       "      <th>32C</th>\n",
       "      <td>7915</td>\n",
       "      <td>129</td>\n",
       "    </tr>\n",
       "    <tr>\n",
       "      <th>32B</th>\n",
       "      <td>7900</td>\n",
       "      <td>125</td>\n",
       "    </tr>\n",
       "    <tr>\n",
       "      <th>XL</th>\n",
       "      <td>7524</td>\n",
       "      <td>266</td>\n",
       "    </tr>\n",
       "    <tr>\n",
       "      <th>32A</th>\n",
       "      <td>7104</td>\n",
       "      <td>109</td>\n",
       "    </tr>\n",
       "  </tbody>\n",
       "</table>\n",
       "</div>"
      ],
      "text/plain": [
       "      Total number of items  Number of unique products\n",
       "S                     13728                        444\n",
       "M                     13584                        451\n",
       "XS                    13564                        437\n",
       "L                     13243                        443\n",
       "34B                    8466                        135\n",
       "32D                    8452                        132\n",
       "34DD                   8449                        118\n",
       "34C                    8397                        133\n",
       "32DD                   8356                        114\n",
       "34D                    8311                        130\n",
       "36C                    8174                        130\n",
       "36B                    8123                        129\n",
       "36D                    8073                        131\n",
       "36DD                   7997                        113\n",
       "32C                    7915                        129\n",
       "32B                    7900                        125\n",
       "XL                     7524                        266\n",
       "32A                    7104                        109"
      ]
     },
     "execution_count": 45,
     "metadata": {},
     "output_type": "execute_result"
    }
   ],
   "source": [
    "sizes_name = pd.DataFrame(fashion_data.available_size.value_counts()[fashion_data.available_size.value_counts()>7000]).index\n",
    "df = fashion_data.groupby('available_size').product_name.agg(['count', 'nunique'])\n",
    "df = df.loc[sizes_name]\n",
    "df = df.sort_values(by='count', axis=0, ascending=False)\n",
    "df.rename(columns={'count':'Total number of items', 'nunique': 'Number of unique products' })"
   ]
  },
  {
   "cell_type": "markdown",
   "metadata": {},
   "source": [
    "## color"
   ]
  },
  {
   "cell_type": "code",
   "execution_count": 46,
   "metadata": {},
   "outputs": [
    {
     "data": {
      "text/html": [
       "<div>\n",
       "<style scoped>\n",
       "    .dataframe tbody tr th:only-of-type {\n",
       "        vertical-align: middle;\n",
       "    }\n",
       "\n",
       "    .dataframe tbody tr th {\n",
       "        vertical-align: top;\n",
       "    }\n",
       "\n",
       "    .dataframe thead th {\n",
       "        text-align: right;\n",
       "    }\n",
       "</style>\n",
       "<table border=\"1\" class=\"dataframe\">\n",
       "  <thead>\n",
       "    <tr style=\"text-align: right;\">\n",
       "      <th></th>\n",
       "      <th>Total number of items</th>\n",
       "      <th>Number of unique products</th>\n",
       "    </tr>\n",
       "    <tr>\n",
       "      <th>color_group</th>\n",
       "      <th></th>\n",
       "      <th></th>\n",
       "    </tr>\n",
       "  </thead>\n",
       "  <tbody>\n",
       "    <tr>\n",
       "      <th>black</th>\n",
       "      <td>44185</td>\n",
       "      <td>1583</td>\n",
       "    </tr>\n",
       "    <tr>\n",
       "      <th>multicolor</th>\n",
       "      <td>40079</td>\n",
       "      <td>534</td>\n",
       "    </tr>\n",
       "    <tr>\n",
       "      <th>pink</th>\n",
       "      <td>31966</td>\n",
       "      <td>544</td>\n",
       "    </tr>\n",
       "    <tr>\n",
       "      <th>blue</th>\n",
       "      <td>29319</td>\n",
       "      <td>758</td>\n",
       "    </tr>\n",
       "    <tr>\n",
       "      <th>white</th>\n",
       "      <td>28361</td>\n",
       "      <td>806</td>\n",
       "    </tr>\n",
       "    <tr>\n",
       "      <th>nude</th>\n",
       "      <td>22712</td>\n",
       "      <td>491</td>\n",
       "    </tr>\n",
       "    <tr>\n",
       "      <th>grey</th>\n",
       "      <td>18375</td>\n",
       "      <td>426</td>\n",
       "    </tr>\n",
       "    <tr>\n",
       "      <th>other</th>\n",
       "      <td>16912</td>\n",
       "      <td>1110</td>\n",
       "    </tr>\n",
       "    <tr>\n",
       "      <th>purple</th>\n",
       "      <td>16574</td>\n",
       "      <td>367</td>\n",
       "    </tr>\n",
       "    <tr>\n",
       "      <th>red</th>\n",
       "      <td>12863</td>\n",
       "      <td>476</td>\n",
       "    </tr>\n",
       "    <tr>\n",
       "      <th>green</th>\n",
       "      <td>11808</td>\n",
       "      <td>262</td>\n",
       "    </tr>\n",
       "    <tr>\n",
       "      <th>yellow</th>\n",
       "      <td>8601</td>\n",
       "      <td>233</td>\n",
       "    </tr>\n",
       "    <tr>\n",
       "      <th>brown</th>\n",
       "      <td>6965</td>\n",
       "      <td>259</td>\n",
       "    </tr>\n",
       "    <tr>\n",
       "      <th>maroon</th>\n",
       "      <td>5140</td>\n",
       "      <td>88</td>\n",
       "    </tr>\n",
       "    <tr>\n",
       "      <th>orange</th>\n",
       "      <td>4297</td>\n",
       "      <td>177</td>\n",
       "    </tr>\n",
       "  </tbody>\n",
       "</table>\n",
       "</div>"
      ],
      "text/plain": [
       "             Total number of items  Number of unique products\n",
       "color_group                                                  \n",
       "black                        44185                       1583\n",
       "multicolor                   40079                        534\n",
       "pink                         31966                        544\n",
       "blue                         29319                        758\n",
       "white                        28361                        806\n",
       "nude                         22712                        491\n",
       "grey                         18375                        426\n",
       "other                        16912                       1110\n",
       "purple                       16574                        367\n",
       "red                          12863                        476\n",
       "green                        11808                        262\n",
       "yellow                        8601                        233\n",
       "brown                         6965                        259\n",
       "maroon                        5140                         88\n",
       "orange                        4297                        177"
      ]
     },
     "execution_count": 46,
     "metadata": {},
     "output_type": "execute_result"
    }
   ],
   "source": [
    "color_name = fashion_data.color_group.unique()\n",
    "df = fashion_data.groupby('color_group').product_name.agg(['count', 'nunique'])\n",
    "df = df.loc[color_name]\n",
    "df = df.sort_values(by='count', axis=0, ascending=False)\n",
    "df.rename(columns={'count':'Total number of items', 'nunique': 'Number of unique products' })"
   ]
  },
  {
   "cell_type": "markdown",
   "metadata": {},
   "source": [
    "# Multivariate Analysis"
   ]
  },
  {
   "cell_type": "code",
   "execution_count": 47,
   "metadata": {},
   "outputs": [
    {
     "data": {
      "text/html": [
       "<div>\n",
       "<style scoped>\n",
       "    .dataframe tbody tr th:only-of-type {\n",
       "        vertical-align: middle;\n",
       "    }\n",
       "\n",
       "    .dataframe tbody tr th {\n",
       "        vertical-align: top;\n",
       "    }\n",
       "\n",
       "    .dataframe thead th {\n",
       "        text-align: right;\n",
       "    }\n",
       "</style>\n",
       "<table border=\"1\" class=\"dataframe\">\n",
       "  <thead>\n",
       "    <tr style=\"text-align: right;\">\n",
       "      <th></th>\n",
       "      <th>product_name</th>\n",
       "      <th>mrp</th>\n",
       "      <th>price</th>\n",
       "      <th>brand_name</th>\n",
       "      <th>product_category</th>\n",
       "      <th>description</th>\n",
       "      <th>total_sizes</th>\n",
       "      <th>available_size</th>\n",
       "      <th>color</th>\n",
       "      <th>color_group</th>\n",
       "      <th>product_category_wide</th>\n",
       "    </tr>\n",
       "  </thead>\n",
       "  <tbody>\n",
       "    <tr>\n",
       "      <th>0</th>\n",
       "      <td>Aerie Everyday Loves Lace Cheeky</td>\n",
       "      <td>12.5</td>\n",
       "      <td>12.5</td>\n",
       "      <td>aerie</td>\n",
       "      <td>Cheekies</td>\n",
       "      <td>Introducing Everyday Loves™: Made with love. E...</td>\n",
       "      <td>[\"XS\", \"S\", \"M\", \"L\", \"XL\", \"XXL\"]</td>\n",
       "      <td>[\"XS\", \"S\", \"M\", \"L\", \"XL\", \"XXL\"]</td>\n",
       "      <td>rugged green</td>\n",
       "      <td>green</td>\n",
       "      <td>other</td>\n",
       "    </tr>\n",
       "    <tr>\n",
       "      <th>1</th>\n",
       "      <td>Aerie Everyday Loves Lace Cheeky</td>\n",
       "      <td>12.5</td>\n",
       "      <td>12.5</td>\n",
       "      <td>aerie</td>\n",
       "      <td>Cheekies</td>\n",
       "      <td>Introducing Everyday Loves™: Made with love. E...</td>\n",
       "      <td>[\"XS\", \"S\", \"M\", \"L\", \"XL\", \"XXL\"]</td>\n",
       "      <td>[\"XS\", \"S\", \"M\", \"L\", \"XL\", \"XXL\"]</td>\n",
       "      <td>natural nude</td>\n",
       "      <td>nude</td>\n",
       "      <td>other</td>\n",
       "    </tr>\n",
       "    <tr>\n",
       "      <th>2</th>\n",
       "      <td>Aerie Everyday Loves Lace Cheeky</td>\n",
       "      <td>12.5</td>\n",
       "      <td>12.5</td>\n",
       "      <td>aerie</td>\n",
       "      <td>Cheekies</td>\n",
       "      <td>Introducing Everyday Loves™: Made with love. E...</td>\n",
       "      <td>[\"XS\", \"S\", \"M\", \"L\", \"XL\", \"XXL\"]</td>\n",
       "      <td>[\"XS\", \"S\", \"M\", \"L\", \"XL\", \"XXL\"]</td>\n",
       "      <td>true black</td>\n",
       "      <td>black</td>\n",
       "      <td>other</td>\n",
       "    </tr>\n",
       "    <tr>\n",
       "      <th>3</th>\n",
       "      <td>Aerie Everyday Loves Lace Cheeky</td>\n",
       "      <td>12.5</td>\n",
       "      <td>12.5</td>\n",
       "      <td>aerie</td>\n",
       "      <td>Cheekies</td>\n",
       "      <td>Introducing Everyday Loves™: Made with love. E...</td>\n",
       "      <td>[\"XS\", \"S\", \"M\", \"L\", \"XL\", \"XXL\"]</td>\n",
       "      <td>[\"XS\", \"S\", \"M\", \"L\", \"XL\", \"XXL\"]</td>\n",
       "      <td>white</td>\n",
       "      <td>white</td>\n",
       "      <td>other</td>\n",
       "    </tr>\n",
       "    <tr>\n",
       "      <th>4</th>\n",
       "      <td>Aerie Everyday Loves Lace Cheeky</td>\n",
       "      <td>12.5</td>\n",
       "      <td>12.5</td>\n",
       "      <td>aerie</td>\n",
       "      <td>Cheekies</td>\n",
       "      <td>Introducing Everyday Loves™: Made with love. E...</td>\n",
       "      <td>[\"XS\", \"S\", \"M\", \"L\", \"XL\", \"XXL\"]</td>\n",
       "      <td>[\"XS\", \"S\", \"M\", \"L\", \"XL\", \"XXL\"]</td>\n",
       "      <td>royal navy</td>\n",
       "      <td>blue</td>\n",
       "      <td>other</td>\n",
       "    </tr>\n",
       "  </tbody>\n",
       "</table>\n",
       "</div>"
      ],
      "text/plain": [
       "                       product_name   mrp  price brand_name product_category                                        description                         total_sizes                      available_size         color color_group product_category_wide\n",
       "0  Aerie Everyday Loves Lace Cheeky  12.5   12.5      aerie         Cheekies  Introducing Everyday Loves™: Made with love. E...  [\"XS\", \"S\", \"M\", \"L\", \"XL\", \"XXL\"]  [\"XS\", \"S\", \"M\", \"L\", \"XL\", \"XXL\"]  rugged green       green                 other\n",
       "1  Aerie Everyday Loves Lace Cheeky  12.5   12.5      aerie         Cheekies  Introducing Everyday Loves™: Made with love. E...  [\"XS\", \"S\", \"M\", \"L\", \"XL\", \"XXL\"]  [\"XS\", \"S\", \"M\", \"L\", \"XL\", \"XXL\"]  natural nude        nude                 other\n",
       "2  Aerie Everyday Loves Lace Cheeky  12.5   12.5      aerie         Cheekies  Introducing Everyday Loves™: Made with love. E...  [\"XS\", \"S\", \"M\", \"L\", \"XL\", \"XXL\"]  [\"XS\", \"S\", \"M\", \"L\", \"XL\", \"XXL\"]    true black       black                 other\n",
       "3  Aerie Everyday Loves Lace Cheeky  12.5   12.5      aerie         Cheekies  Introducing Everyday Loves™: Made with love. E...  [\"XS\", \"S\", \"M\", \"L\", \"XL\", \"XXL\"]  [\"XS\", \"S\", \"M\", \"L\", \"XL\", \"XXL\"]         white       white                 other\n",
       "4  Aerie Everyday Loves Lace Cheeky  12.5   12.5      aerie         Cheekies  Introducing Everyday Loves™: Made with love. E...  [\"XS\", \"S\", \"M\", \"L\", \"XL\", \"XXL\"]  [\"XS\", \"S\", \"M\", \"L\", \"XL\", \"XXL\"]    royal navy        blue                 other"
      ]
     },
     "execution_count": 47,
     "metadata": {},
     "output_type": "execute_result"
    }
   ],
   "source": [
    "fashion_data.head()"
   ]
  },
  {
   "cell_type": "markdown",
   "metadata": {},
   "source": [
    "## Bivariate Analysis\n",
    "1. mrp vs brand_name\n",
    "2. mrp vs product_category_wide\n",
    "3. mrp vs color_group\n",
    "\n",
    "4. discount vs brand_name\n",
    "5. discount vs product_category_wide\n",
    "6. discount vs color_group\n",
    "\n",
    "7. color_popularity vs brand_name\n",
    "8. color_popularity vs product_category_wide\n",
    "9. color_popularity vs color_group\n",
    "\n",
    "\n",
    "10. size_popularity vs brand_name\n",
    "11. size_popularity vs product_category_wide\n",
    "12. size_popularity vs color_group"
   ]
  },
  {
   "cell_type": "code",
   "execution_count": 48,
   "metadata": {},
   "outputs": [],
   "source": [
    "def bivariate_boxplot(column_x, column_y, x, y):\n",
    "    plt.figure(figsize=(x,y))\n",
    "    ax = sns.boxplot(x = column_x, y = column_y, data = fashion_data)\n",
    "    ax.set_xticklabels(ax.get_xticklabels(),rotation=15)\n",
    "    plt.show()"
   ]
  },
  {
   "cell_type": "code",
   "execution_count": 49,
   "metadata": {},
   "outputs": [
    {
     "data": {
      "image/png": "[encoded data removed]",
      "text/plain": [
       "<Figure size 864x504 with 1 Axes>"
      ]
     },
     "metadata": {
      "needs_background": "light"
     },
     "output_type": "display_data"
    }
   ],
   "source": [
    "# mrp range for products category\n",
    "bivariate_boxplot('product_category_wide', 'mrp', 12, 7)"
   ]
  },
  {
   "cell_type": "code",
   "execution_count": 50,
   "metadata": {},
   "outputs": [
    {
     "data": {
      "image/png": "[encoded data removed]",
      "text/plain": [
       "<Figure size 864x504 with 1 Axes>"
      ]
     },
     "metadata": {
      "needs_background": "light"
     },
     "output_type": "display_data"
    }
   ],
   "source": [
    "# price range for products category\n",
    "bivariate_boxplot('product_category_wide', 'price', 12, 7)"
   ]
  },
  {
   "cell_type": "code",
   "execution_count": 51,
   "metadata": {},
   "outputs": [
    {
     "data": {
      "image/png": "[encoded data removed]",
      "text/plain": [
       "<Figure size 864x504 with 1 Axes>"
      ]
     },
     "metadata": {
      "needs_background": "light"
     },
     "output_type": "display_data"
    }
   ],
   "source": [
    "# mrp range for products category\n",
    "bivariate_boxplot('color_group', 'mrp', 12, 7)"
   ]
  },
  {
   "cell_type": "code",
   "execution_count": 52,
   "metadata": {},
   "outputs": [
    {
     "data": {
      "image/png": "[encoded data removed]",
      "text/plain": [
       "<Figure size 864x504 with 1 Axes>"
      ]
     },
     "metadata": {
      "needs_background": "light"
     },
     "output_type": "display_data"
    }
   ],
   "source": [
    "# price range for products category\n",
    "bivariate_boxplot('color_group', 'price', 12, 7)"
   ]
  },
  {
   "cell_type": "code",
   "execution_count": 53,
   "metadata": {},
   "outputs": [
    {
     "data": {
      "image/png": "[encoded data removed]",
      "text/plain": [
       "<Figure size 864x504 with 1 Axes>"
      ]
     },
     "metadata": {
      "needs_background": "light"
     },
     "output_type": "display_data"
    }
   ],
   "source": [
    "# mrp range for products category\n",
    "bivariate_boxplot('brand_name', 'mrp', 12, 7)"
   ]
  },
  {
   "cell_type": "code",
   "execution_count": 54,
   "metadata": {},
   "outputs": [
    {
     "data": {
      "image/png": "[encoded data removed]",
      "text/plain": [
       "<Figure size 864x504 with 1 Axes>"
      ]
     },
     "metadata": {
      "needs_background": "light"
     },
     "output_type": "display_data"
    }
   ],
   "source": [
    "# price range for products category\n",
    "bivariate_boxplot('brand_name', 'price', 12, 7)"
   ]
  },
  {
   "cell_type": "code",
   "execution_count": 56,
   "metadata": {},
   "outputs": [
    {
     "data": {
      "image/png": "[encoded data removed]",
      "text/plain": [
       "<Figure size 1080x576 with 4 Axes>"
      ]
     },
     "metadata": {
      "needs_background": "light"
     },
     "output_type": "display_data"
    }
   ],
   "source": [
    "vst = fashion_data.groupby(['product_category_wide', 'color_group'])['product_category_wide'].agg({'count'})\n",
    "vst = vst['count'].groupby('product_category_wide', group_keys=False).nlargest(3)\n",
    "vst = pd.DataFrame(vst).reset_index(drop=False)\n",
    "\n",
    "\n",
    "fig, ax = plt.subplots(2,2,figsize=(15, 8))\n",
    "fig.suptitle('No of Colors across product categry',fontsize=15,y=1)\n",
    "sns.barplot(x = 'product_category_wide', hue='color_group', y = 'count', data = vst.iloc[:9], ax = ax[0][0])\n",
    "sns.barplot(x = 'product_category_wide', hue='color_group', y = 'count', data = vst.iloc[9:18], ax = ax[0][1])\n",
    "sns.barplot(x = 'product_category_wide', hue='color_group', y = 'count', data = vst.iloc[18:27], ax = ax[1][0])\n",
    "sns.barplot(x = 'product_category_wide', hue='color_group', y = 'count', data = vst.iloc[27:], ax = ax[1][1])\n",
    "plt.show()"
   ]
  },
  {
   "cell_type": "code",
   "execution_count": 69,
   "metadata": {},
   "outputs": [],
   "source": [
    "def general_plot(money = 'mrp'):\n",
    "    fig, axes = plt.subplots(nrows=1, ncols=1,figsize=(12,4))\n",
    "    ax = sns.boxplot(x=money, y= 'brand_name', data = fashion_data[fashion_data[money]<100], palette = sns.cubehelix_palette(11), order = brands_name) \n",
    "    _ = ax.set_xticklabels(ax.get_xticklabels(), fontsize=13)\n",
    "\n",
    "\n",
    "    fig, axes = plt.subplots(nrows=1, ncols=2,figsize=(15,4))\n",
    "    ax.xaxis.grid(True)\n",
    "    ax = sns.barplot(y=money, x = 'brand_name', data = fashion_data, palette = sns.light_palette(\"purple\",n_colors=8)[1:], ax = axes[0], order = brands_name)\n",
    "    ax.yaxis.grid(True)\n",
    "    _ = ax.set_xticklabels(ax.get_xticklabels(), rotation=90, fontsize=13)\n",
    "    ax = sns.barplot(y=money, x = 'brand_name', data = fashion_data, palette = sns.light_palette(\"purple\",n_colors=8)[1:], estimator=np.median, ax = axes[1], order = brands_name)\n",
    "    ax.yaxis.grid(True)\n",
    "    _ = ax.set_xticklabels(ax.get_xticklabels(), rotation=90, fontsize=13)"
   ]
  },
  {
   "cell_type": "code",
   "execution_count": 70,
   "metadata": {},
   "outputs": [
    {
     "data": {
      "image/png": "[encoded data removed]",
      "text/plain": [
       "<Figure size 864x288 with 1 Axes>"
      ]
     },
     "metadata": {
      "needs_background": "light"
     },
     "output_type": "display_data"
    },
    {
     "data": {
      "image/png": "[encoded data removed]",
      "text/plain": [
       "<Figure size 1080x288 with 2 Axes>"
      ]
     },
     "metadata": {
      "needs_background": "light"
     },
     "output_type": "display_data"
    }
   ],
   "source": [
    "general_plot()"
   ]
  },
  {
   "cell_type": "code",
   "execution_count": 71,
   "metadata": {},
   "outputs": [
    {
     "data": {
      "text/html": [
       "<div>\n",
       "<style scoped>\n",
       "    .dataframe tbody tr th:only-of-type {\n",
       "        vertical-align: middle;\n",
       "    }\n",
       "\n",
       "    .dataframe tbody tr th {\n",
       "        vertical-align: top;\n",
       "    }\n",
       "\n",
       "    .dataframe thead th {\n",
       "        text-align: right;\n",
       "    }\n",
       "</style>\n",
       "<table border=\"1\" class=\"dataframe\">\n",
       "  <thead>\n",
       "    <tr style=\"text-align: right;\">\n",
       "      <th></th>\n",
       "      <th>product_name</th>\n",
       "      <th>mrp</th>\n",
       "      <th>price</th>\n",
       "      <th>brand_name</th>\n",
       "      <th>product_category</th>\n",
       "      <th>description</th>\n",
       "      <th>total_sizes</th>\n",
       "      <th>available_size</th>\n",
       "      <th>color</th>\n",
       "      <th>color_group</th>\n",
       "      <th>product_category_wide</th>\n",
       "    </tr>\n",
       "  </thead>\n",
       "  <tbody>\n",
       "    <tr>\n",
       "      <th>0</th>\n",
       "      <td>Aerie Everyday Loves Lace Cheeky</td>\n",
       "      <td>12.5</td>\n",
       "      <td>12.5</td>\n",
       "      <td>aerie</td>\n",
       "      <td>Cheekies</td>\n",
       "      <td>Introducing Everyday Loves™: Made with love. E...</td>\n",
       "      <td>[\"XS\", \"S\", \"M\", \"L\", \"XL\", \"XXL\"]</td>\n",
       "      <td>[\"XS\", \"S\", \"M\", \"L\", \"XL\", \"XXL\"]</td>\n",
       "      <td>rugged green</td>\n",
       "      <td>green</td>\n",
       "      <td>other</td>\n",
       "    </tr>\n",
       "    <tr>\n",
       "      <th>1</th>\n",
       "      <td>Aerie Everyday Loves Lace Cheeky</td>\n",
       "      <td>12.5</td>\n",
       "      <td>12.5</td>\n",
       "      <td>aerie</td>\n",
       "      <td>Cheekies</td>\n",
       "      <td>Introducing Everyday Loves™: Made with love. E...</td>\n",
       "      <td>[\"XS\", \"S\", \"M\", \"L\", \"XL\", \"XXL\"]</td>\n",
       "      <td>[\"XS\", \"S\", \"M\", \"L\", \"XL\", \"XXL\"]</td>\n",
       "      <td>natural nude</td>\n",
       "      <td>nude</td>\n",
       "      <td>other</td>\n",
       "    </tr>\n",
       "    <tr>\n",
       "      <th>2</th>\n",
       "      <td>Aerie Everyday Loves Lace Cheeky</td>\n",
       "      <td>12.5</td>\n",
       "      <td>12.5</td>\n",
       "      <td>aerie</td>\n",
       "      <td>Cheekies</td>\n",
       "      <td>Introducing Everyday Loves™: Made with love. E...</td>\n",
       "      <td>[\"XS\", \"S\", \"M\", \"L\", \"XL\", \"XXL\"]</td>\n",
       "      <td>[\"XS\", \"S\", \"M\", \"L\", \"XL\", \"XXL\"]</td>\n",
       "      <td>true black</td>\n",
       "      <td>black</td>\n",
       "      <td>other</td>\n",
       "    </tr>\n",
       "    <tr>\n",
       "      <th>3</th>\n",
       "      <td>Aerie Everyday Loves Lace Cheeky</td>\n",
       "      <td>12.5</td>\n",
       "      <td>12.5</td>\n",
       "      <td>aerie</td>\n",
       "      <td>Cheekies</td>\n",
       "      <td>Introducing Everyday Loves™: Made with love. E...</td>\n",
       "      <td>[\"XS\", \"S\", \"M\", \"L\", \"XL\", \"XXL\"]</td>\n",
       "      <td>[\"XS\", \"S\", \"M\", \"L\", \"XL\", \"XXL\"]</td>\n",
       "      <td>white</td>\n",
       "      <td>white</td>\n",
       "      <td>other</td>\n",
       "    </tr>\n",
       "    <tr>\n",
       "      <th>4</th>\n",
       "      <td>Aerie Everyday Loves Lace Cheeky</td>\n",
       "      <td>12.5</td>\n",
       "      <td>12.5</td>\n",
       "      <td>aerie</td>\n",
       "      <td>Cheekies</td>\n",
       "      <td>Introducing Everyday Loves™: Made with love. E...</td>\n",
       "      <td>[\"XS\", \"S\", \"M\", \"L\", \"XL\", \"XXL\"]</td>\n",
       "      <td>[\"XS\", \"S\", \"M\", \"L\", \"XL\", \"XXL\"]</td>\n",
       "      <td>royal navy</td>\n",
       "      <td>blue</td>\n",
       "      <td>other</td>\n",
       "    </tr>\n",
       "  </tbody>\n",
       "</table>\n",
       "</div>"
      ],
      "text/plain": [
       "                       product_name   mrp  price brand_name product_category                                        description                         total_sizes                      available_size         color color_group product_category_wide\n",
       "0  Aerie Everyday Loves Lace Cheeky  12.5   12.5      aerie         Cheekies  Introducing Everyday Loves™: Made with love. E...  [\"XS\", \"S\", \"M\", \"L\", \"XL\", \"XXL\"]  [\"XS\", \"S\", \"M\", \"L\", \"XL\", \"XXL\"]  rugged green       green                 other\n",
       "1  Aerie Everyday Loves Lace Cheeky  12.5   12.5      aerie         Cheekies  Introducing Everyday Loves™: Made with love. E...  [\"XS\", \"S\", \"M\", \"L\", \"XL\", \"XXL\"]  [\"XS\", \"S\", \"M\", \"L\", \"XL\", \"XXL\"]  natural nude        nude                 other\n",
       "2  Aerie Everyday Loves Lace Cheeky  12.5   12.5      aerie         Cheekies  Introducing Everyday Loves™: Made with love. E...  [\"XS\", \"S\", \"M\", \"L\", \"XL\", \"XXL\"]  [\"XS\", \"S\", \"M\", \"L\", \"XL\", \"XXL\"]    true black       black                 other\n",
       "3  Aerie Everyday Loves Lace Cheeky  12.5   12.5      aerie         Cheekies  Introducing Everyday Loves™: Made with love. E...  [\"XS\", \"S\", \"M\", \"L\", \"XL\", \"XXL\"]  [\"XS\", \"S\", \"M\", \"L\", \"XL\", \"XXL\"]         white       white                 other\n",
       "4  Aerie Everyday Loves Lace Cheeky  12.5   12.5      aerie         Cheekies  Introducing Everyday Loves™: Made with love. E...  [\"XS\", \"S\", \"M\", \"L\", \"XL\", \"XXL\"]  [\"XS\", \"S\", \"M\", \"L\", \"XL\", \"XXL\"]    royal navy        blue                 other"
      ]
     },
     "execution_count": 71,
     "metadata": {},
     "output_type": "execute_result"
    }
   ],
   "source": [
    "fashion_data.head()"
   ]
  },
  {
   "cell_type": "code",
   "execution_count": 72,
   "metadata": {},
   "outputs": [
    {
     "data": {
      "text/html": [
       "<div>\n",
       "<style scoped>\n",
       "    .dataframe tbody tr th:only-of-type {\n",
       "        vertical-align: middle;\n",
       "    }\n",
       "\n",
       "    .dataframe tbody tr th {\n",
       "        vertical-align: top;\n",
       "    }\n",
       "\n",
       "    .dataframe thead th {\n",
       "        text-align: right;\n",
       "    }\n",
       "</style>\n",
       "<table border=\"1\" class=\"dataframe\">\n",
       "  <thead>\n",
       "    <tr style=\"text-align: right;\">\n",
       "      <th></th>\n",
       "      <th>product_name</th>\n",
       "      <th>mrp</th>\n",
       "      <th>price</th>\n",
       "      <th>brand_name</th>\n",
       "      <th>product_category</th>\n",
       "      <th>description</th>\n",
       "      <th>total_sizes</th>\n",
       "      <th>available_size</th>\n",
       "      <th>color</th>\n",
       "      <th>color_group</th>\n",
       "      <th>product_category_wide</th>\n",
       "      <th>%discount</th>\n",
       "    </tr>\n",
       "  </thead>\n",
       "  <tbody>\n",
       "    <tr>\n",
       "      <th>0</th>\n",
       "      <td>Aerie Everyday Loves Lace Cheeky</td>\n",
       "      <td>12.5</td>\n",
       "      <td>12.5</td>\n",
       "      <td>aerie</td>\n",
       "      <td>Cheekies</td>\n",
       "      <td>Introducing Everyday Loves™: Made with love. E...</td>\n",
       "      <td>[\"XS\", \"S\", \"M\", \"L\", \"XL\", \"XXL\"]</td>\n",
       "      <td>[\"XS\", \"S\", \"M\", \"L\", \"XL\", \"XXL\"]</td>\n",
       "      <td>rugged green</td>\n",
       "      <td>green</td>\n",
       "      <td>other</td>\n",
       "      <td>0.0</td>\n",
       "    </tr>\n",
       "    <tr>\n",
       "      <th>1</th>\n",
       "      <td>Aerie Everyday Loves Lace Cheeky</td>\n",
       "      <td>12.5</td>\n",
       "      <td>12.5</td>\n",
       "      <td>aerie</td>\n",
       "      <td>Cheekies</td>\n",
       "      <td>Introducing Everyday Loves™: Made with love. E...</td>\n",
       "      <td>[\"XS\", \"S\", \"M\", \"L\", \"XL\", \"XXL\"]</td>\n",
       "      <td>[\"XS\", \"S\", \"M\", \"L\", \"XL\", \"XXL\"]</td>\n",
       "      <td>natural nude</td>\n",
       "      <td>nude</td>\n",
       "      <td>other</td>\n",
       "      <td>0.0</td>\n",
       "    </tr>\n",
       "    <tr>\n",
       "      <th>2</th>\n",
       "      <td>Aerie Everyday Loves Lace Cheeky</td>\n",
       "      <td>12.5</td>\n",
       "      <td>12.5</td>\n",
       "      <td>aerie</td>\n",
       "      <td>Cheekies</td>\n",
       "      <td>Introducing Everyday Loves™: Made with love. E...</td>\n",
       "      <td>[\"XS\", \"S\", \"M\", \"L\", \"XL\", \"XXL\"]</td>\n",
       "      <td>[\"XS\", \"S\", \"M\", \"L\", \"XL\", \"XXL\"]</td>\n",
       "      <td>true black</td>\n",
       "      <td>black</td>\n",
       "      <td>other</td>\n",
       "      <td>0.0</td>\n",
       "    </tr>\n",
       "    <tr>\n",
       "      <th>3</th>\n",
       "      <td>Aerie Everyday Loves Lace Cheeky</td>\n",
       "      <td>12.5</td>\n",
       "      <td>12.5</td>\n",
       "      <td>aerie</td>\n",
       "      <td>Cheekies</td>\n",
       "      <td>Introducing Everyday Loves™: Made with love. E...</td>\n",
       "      <td>[\"XS\", \"S\", \"M\", \"L\", \"XL\", \"XXL\"]</td>\n",
       "      <td>[\"XS\", \"S\", \"M\", \"L\", \"XL\", \"XXL\"]</td>\n",
       "      <td>white</td>\n",
       "      <td>white</td>\n",
       "      <td>other</td>\n",
       "      <td>0.0</td>\n",
       "    </tr>\n",
       "    <tr>\n",
       "      <th>4</th>\n",
       "      <td>Aerie Everyday Loves Lace Cheeky</td>\n",
       "      <td>12.5</td>\n",
       "      <td>12.5</td>\n",
       "      <td>aerie</td>\n",
       "      <td>Cheekies</td>\n",
       "      <td>Introducing Everyday Loves™: Made with love. E...</td>\n",
       "      <td>[\"XS\", \"S\", \"M\", \"L\", \"XL\", \"XXL\"]</td>\n",
       "      <td>[\"XS\", \"S\", \"M\", \"L\", \"XL\", \"XXL\"]</td>\n",
       "      <td>royal navy</td>\n",
       "      <td>blue</td>\n",
       "      <td>other</td>\n",
       "      <td>0.0</td>\n",
       "    </tr>\n",
       "  </tbody>\n",
       "</table>\n",
       "</div>"
      ],
      "text/plain": [
       "                       product_name   mrp  price brand_name product_category                                        description                         total_sizes                      available_size         color color_group product_category_wide  %discount\n",
       "0  Aerie Everyday Loves Lace Cheeky  12.5   12.5      aerie         Cheekies  Introducing Everyday Loves™: Made with love. E...  [\"XS\", \"S\", \"M\", \"L\", \"XL\", \"XXL\"]  [\"XS\", \"S\", \"M\", \"L\", \"XL\", \"XXL\"]  rugged green       green                 other        0.0\n",
       "1  Aerie Everyday Loves Lace Cheeky  12.5   12.5      aerie         Cheekies  Introducing Everyday Loves™: Made with love. E...  [\"XS\", \"S\", \"M\", \"L\", \"XL\", \"XXL\"]  [\"XS\", \"S\", \"M\", \"L\", \"XL\", \"XXL\"]  natural nude        nude                 other        0.0\n",
       "2  Aerie Everyday Loves Lace Cheeky  12.5   12.5      aerie         Cheekies  Introducing Everyday Loves™: Made with love. E...  [\"XS\", \"S\", \"M\", \"L\", \"XL\", \"XXL\"]  [\"XS\", \"S\", \"M\", \"L\", \"XL\", \"XXL\"]    true black       black                 other        0.0\n",
       "3  Aerie Everyday Loves Lace Cheeky  12.5   12.5      aerie         Cheekies  Introducing Everyday Loves™: Made with love. E...  [\"XS\", \"S\", \"M\", \"L\", \"XL\", \"XXL\"]  [\"XS\", \"S\", \"M\", \"L\", \"XL\", \"XXL\"]         white       white                 other        0.0\n",
       "4  Aerie Everyday Loves Lace Cheeky  12.5   12.5      aerie         Cheekies  Introducing Everyday Loves™: Made with love. E...  [\"XS\", \"S\", \"M\", \"L\", \"XL\", \"XXL\"]  [\"XS\", \"S\", \"M\", \"L\", \"XL\", \"XXL\"]    royal navy        blue                 other        0.0"
      ]
     },
     "execution_count": 72,
     "metadata": {},
     "output_type": "execute_result"
    }
   ],
   "source": [
    "# %discount calculation for each product.\n",
    "fashion_data['%discount'] = round((1-(fashion_data.price/fashion_data.mrp))*100, 2)\n",
    "fashion_data.head()"
   ]
  },
  {
   "cell_type": "code",
   "execution_count": 73,
   "metadata": {},
   "outputs": [
    {
     "data": {
      "image/png": "[encoded data removed]",
      "text/plain": [
       "<Figure size 864x288 with 1 Axes>"
      ]
     },
     "metadata": {
      "needs_background": "light"
     },
     "output_type": "display_data"
    },
    {
     "data": {
      "image/png": "[encoded data removed]",
      "text/plain": [
       "<Figure size 1080x288 with 2 Axes>"
      ]
     },
     "metadata": {
      "needs_background": "light"
     },
     "output_type": "display_data"
    }
   ],
   "source": [
    "general_plot('%discount')"
   ]
  },
  {
   "cell_type": "code",
   "execution_count": 89,
   "metadata": {},
   "outputs": [],
   "source": [
    "\n",
    "def generate_plot(money = 'mrp'):\n",
    "    fig, axes = plt.subplots(nrows=1, ncols=2,figsize=(15,4))\n",
    "    ax = sns.barplot(y=money, x = 'color_group', data = fashion_data, palette = sns.light_palette(\"purple\",n_colors=8)[1:], ax = axes[0])\n",
    "    _ = ax.set_xticklabels(ax.get_xticklabels(), rotation=90, fontsize=13)\n",
    "    ax = sns.barplot(y=money, x = 'available_size', data = fashion_data, palette = sns.light_palette(\"purple\",n_colors=8)[1:], ax = axes[1], order = fashion_data.available_size.value_counts()[fashion_data.available_size.value_counts()>7000].index)\n",
    "    _ = ax.set_xticklabels(ax.get_xticklabels(), rotation=90, fontsize=13)"
   ]
  },
  {
   "cell_type": "code",
   "execution_count": 90,
   "metadata": {},
   "outputs": [
    {
     "data": {
      "image/png": "[encoded data removed]",
      "text/plain": [
       "<Figure size 1080x288 with 2 Axes>"
      ]
     },
     "metadata": {
      "needs_background": "light"
     },
     "output_type": "display_data"
    }
   ],
   "source": [
    "generate_plot('%discount')"
   ]
  },
  {
   "cell_type": "code",
   "execution_count": 92,
   "metadata": {},
   "outputs": [
    {
     "data": {
      "text/html": [
       "<div>\n",
       "<style scoped>\n",
       "    .dataframe tbody tr th:only-of-type {\n",
       "        vertical-align: middle;\n",
       "    }\n",
       "\n",
       "    .dataframe tbody tr th {\n",
       "        vertical-align: top;\n",
       "    }\n",
       "\n",
       "    .dataframe thead th {\n",
       "        text-align: right;\n",
       "    }\n",
       "</style>\n",
       "<table border=\"1\" class=\"dataframe\">\n",
       "  <thead>\n",
       "    <tr style=\"text-align: right;\">\n",
       "      <th></th>\n",
       "      <th>product_name</th>\n",
       "      <th>mrp</th>\n",
       "      <th>price</th>\n",
       "      <th>brand_name</th>\n",
       "      <th>product_category</th>\n",
       "      <th>description</th>\n",
       "      <th>total_sizes</th>\n",
       "      <th>available_size</th>\n",
       "      <th>color</th>\n",
       "      <th>color_group</th>\n",
       "      <th>product_category_wide</th>\n",
       "      <th>%discount</th>\n",
       "    </tr>\n",
       "  </thead>\n",
       "  <tbody>\n",
       "    <tr>\n",
       "      <th>0</th>\n",
       "      <td>Aerie Everyday Loves Lace Cheeky</td>\n",
       "      <td>12.5</td>\n",
       "      <td>12.5</td>\n",
       "      <td>aerie</td>\n",
       "      <td>Cheekies</td>\n",
       "      <td>Introducing Everyday Loves™: Made with love. E...</td>\n",
       "      <td>[\"XS\", \"S\", \"M\", \"L\", \"XL\", \"XXL\"]</td>\n",
       "      <td>[\"XS\", \"S\", \"M\", \"L\", \"XL\", \"XXL\"]</td>\n",
       "      <td>rugged green</td>\n",
       "      <td>green</td>\n",
       "      <td>other</td>\n",
       "      <td>0.0</td>\n",
       "    </tr>\n",
       "    <tr>\n",
       "      <th>1</th>\n",
       "      <td>Aerie Everyday Loves Lace Cheeky</td>\n",
       "      <td>12.5</td>\n",
       "      <td>12.5</td>\n",
       "      <td>aerie</td>\n",
       "      <td>Cheekies</td>\n",
       "      <td>Introducing Everyday Loves™: Made with love. E...</td>\n",
       "      <td>[\"XS\", \"S\", \"M\", \"L\", \"XL\", \"XXL\"]</td>\n",
       "      <td>[\"XS\", \"S\", \"M\", \"L\", \"XL\", \"XXL\"]</td>\n",
       "      <td>natural nude</td>\n",
       "      <td>nude</td>\n",
       "      <td>other</td>\n",
       "      <td>0.0</td>\n",
       "    </tr>\n",
       "    <tr>\n",
       "      <th>2</th>\n",
       "      <td>Aerie Everyday Loves Lace Cheeky</td>\n",
       "      <td>12.5</td>\n",
       "      <td>12.5</td>\n",
       "      <td>aerie</td>\n",
       "      <td>Cheekies</td>\n",
       "      <td>Introducing Everyday Loves™: Made with love. E...</td>\n",
       "      <td>[\"XS\", \"S\", \"M\", \"L\", \"XL\", \"XXL\"]</td>\n",
       "      <td>[\"XS\", \"S\", \"M\", \"L\", \"XL\", \"XXL\"]</td>\n",
       "      <td>true black</td>\n",
       "      <td>black</td>\n",
       "      <td>other</td>\n",
       "      <td>0.0</td>\n",
       "    </tr>\n",
       "    <tr>\n",
       "      <th>3</th>\n",
       "      <td>Aerie Everyday Loves Lace Cheeky</td>\n",
       "      <td>12.5</td>\n",
       "      <td>12.5</td>\n",
       "      <td>aerie</td>\n",
       "      <td>Cheekies</td>\n",
       "      <td>Introducing Everyday Loves™: Made with love. E...</td>\n",
       "      <td>[\"XS\", \"S\", \"M\", \"L\", \"XL\", \"XXL\"]</td>\n",
       "      <td>[\"XS\", \"S\", \"M\", \"L\", \"XL\", \"XXL\"]</td>\n",
       "      <td>white</td>\n",
       "      <td>white</td>\n",
       "      <td>other</td>\n",
       "      <td>0.0</td>\n",
       "    </tr>\n",
       "    <tr>\n",
       "      <th>4</th>\n",
       "      <td>Aerie Everyday Loves Lace Cheeky</td>\n",
       "      <td>12.5</td>\n",
       "      <td>12.5</td>\n",
       "      <td>aerie</td>\n",
       "      <td>Cheekies</td>\n",
       "      <td>Introducing Everyday Loves™: Made with love. E...</td>\n",
       "      <td>[\"XS\", \"S\", \"M\", \"L\", \"XL\", \"XXL\"]</td>\n",
       "      <td>[\"XS\", \"S\", \"M\", \"L\", \"XL\", \"XXL\"]</td>\n",
       "      <td>royal navy</td>\n",
       "      <td>blue</td>\n",
       "      <td>other</td>\n",
       "      <td>0.0</td>\n",
       "    </tr>\n",
       "  </tbody>\n",
       "</table>\n",
       "</div>"
      ],
      "text/plain": [
       "                       product_name   mrp  price brand_name product_category                                        description                         total_sizes                      available_size         color color_group product_category_wide  %discount\n",
       "0  Aerie Everyday Loves Lace Cheeky  12.5   12.5      aerie         Cheekies  Introducing Everyday Loves™: Made with love. E...  [\"XS\", \"S\", \"M\", \"L\", \"XL\", \"XXL\"]  [\"XS\", \"S\", \"M\", \"L\", \"XL\", \"XXL\"]  rugged green       green                 other        0.0\n",
       "1  Aerie Everyday Loves Lace Cheeky  12.5   12.5      aerie         Cheekies  Introducing Everyday Loves™: Made with love. E...  [\"XS\", \"S\", \"M\", \"L\", \"XL\", \"XXL\"]  [\"XS\", \"S\", \"M\", \"L\", \"XL\", \"XXL\"]  natural nude        nude                 other        0.0\n",
       "2  Aerie Everyday Loves Lace Cheeky  12.5   12.5      aerie         Cheekies  Introducing Everyday Loves™: Made with love. E...  [\"XS\", \"S\", \"M\", \"L\", \"XL\", \"XXL\"]  [\"XS\", \"S\", \"M\", \"L\", \"XL\", \"XXL\"]    true black       black                 other        0.0\n",
       "3  Aerie Everyday Loves Lace Cheeky  12.5   12.5      aerie         Cheekies  Introducing Everyday Loves™: Made with love. E...  [\"XS\", \"S\", \"M\", \"L\", \"XL\", \"XXL\"]  [\"XS\", \"S\", \"M\", \"L\", \"XL\", \"XXL\"]         white       white                 other        0.0\n",
       "4  Aerie Everyday Loves Lace Cheeky  12.5   12.5      aerie         Cheekies  Introducing Everyday Loves™: Made with love. E...  [\"XS\", \"S\", \"M\", \"L\", \"XL\", \"XXL\"]  [\"XS\", \"S\", \"M\", \"L\", \"XL\", \"XXL\"]    royal navy        blue                 other        0.0"
      ]
     },
     "execution_count": 92,
     "metadata": {},
     "output_type": "execute_result"
    }
   ],
   "source": [
    "fashion_data.head()"
   ]
  },
  {
   "cell_type": "code",
   "execution_count": 95,
   "metadata": {},
   "outputs": [
    {
     "data": {
      "text/plain": [
       "0    Introducing Everyday Loves™: Made with love. E...\n",
       "0    soft cotton stretch fabric and a metallic logo...\n",
       "0    An unlined demi cup bra featuring sheer, sexy ...\n",
       "0    Say “buongiorno!” to this ladylike piece that ...\n",
       "0    Hanky Panky Silky is the ideal fabric for unde...\n",
       "0    The perfect amount of coverage in a subtle sil...\n",
       "0    Lighter-than-air, full-cut Supima® cotton brie...\n",
       "0    These feminine black knickers for maternity fe...\n",
       "0    Lots of cheek peek, pretty lace, a strappy bac...\n",
       "Name: description, dtype: object"
      ]
     },
     "execution_count": 95,
     "metadata": {},
     "output_type": "execute_result"
    }
   ],
   "source": [
    "fashion_data.description[0]"
   ]
  },
  {
   "cell_type": "code",
   "execution_count": 99,
   "metadata": {},
   "outputs": [
    {
     "data": {
      "image/png": "[encoded data removed]",
      "text/plain": [
       "<Figure size 720x360 with 1 Axes>"
      ]
     },
     "metadata": {
      "needs_background": "light"
     },
     "output_type": "display_data"
    }
   ],
   "source": [
    "from wordcloud import WordCloud, STOPWORDS, ImageColorGenerator\n",
    "\n",
    "plt.figure(figsize=(10,5))\n",
    "\n",
    "# Start with one review:\n",
    "text = str(fashion_data.description[0])\n",
    "\n",
    "# Create and generate a word cloud image:\n",
    "wordcloud = WordCloud(max_font_size=50, max_words=1000, background_color=\"white\").generate(text)\n",
    "\n",
    "# Display the generated image:\n",
    "\n",
    "plt.imshow(wordcloud, interpolation='bilinear')\n",
    "plt.axis(\"off\")\n",
    "plt.show()"
   ]
  }
 ],
 "metadata": {
  "kernelspec": {
   "display_name": "Python 3 (ipykernel)",
   "language": "python",
   "name": "python3"
  },
  "language_info": {
   "codemirror_mode": {
    "name": "ipython",
    "version": 3
   },
   "file_extension": ".py",
   "mimetype": "text/x-python",
   "name": "python",
   "nbconvert_exporter": "python",
   "pygments_lexer": "ipython3",
   "version": "3.9.9"
  }
 },
 "nbformat": 4,
 "nbformat_minor": 4
}
