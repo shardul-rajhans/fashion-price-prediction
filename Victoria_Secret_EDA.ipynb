{
 "cells": [
  {
   "cell_type": "code",
   "execution_count": 1,
   "metadata": {},
   "outputs": [],
   "source": [
    "# @copyright 2022, Shardul Rajhans.\n",
    "\n",
    "# This is a research study for the course 'Master of Science in Data Science' performed by Shardul Rajhans \n",
    "# under the supervision of Dr Sandeep Raghuwanshi."
   ]
  },
  {
   "cell_type": "code",
   "execution_count": 2,
   "metadata": {},
   "outputs": [],
   "source": [
    "# Importing Necessary Libraries.\n",
    "\n",
    "# Suppressing Warnings\n",
    "import warnings\n",
    "warnings.filterwarnings('ignore')\n",
    "\n",
    "import numpy as np\n",
    "import pandas as pd\n",
    "pd.set_option('display.max_rows', 500)\n",
    "pd.set_option('display.max_columns', 500)\n",
    "pd.set_option('display.width', 1000)\n",
    "\n",
    "# Importing matplotlib and seaborn\n",
    "import matplotlib.pyplot as plt\n",
    "import seaborn as sns\n",
    "%matplotlib inline\n",
    "\n",
    "#Standardize price values used across datasets\n",
    "import re"
   ]
  },
  {
   "cell_type": "code",
   "execution_count": 3,
   "metadata": {},
   "outputs": [
    {
     "data": {
      "text/html": [
       "<div>\n",
       "<style scoped>\n",
       "    .dataframe tbody tr th:only-of-type {\n",
       "        vertical-align: middle;\n",
       "    }\n",
       "\n",
       "    .dataframe tbody tr th {\n",
       "        vertical-align: top;\n",
       "    }\n",
       "\n",
       "    .dataframe thead th {\n",
       "        text-align: right;\n",
       "    }\n",
       "</style>\n",
       "<table border=\"1\" class=\"dataframe\">\n",
       "  <thead>\n",
       "    <tr style=\"text-align: right;\">\n",
       "      <th></th>\n",
       "      <th>product_name</th>\n",
       "      <th>mrp</th>\n",
       "      <th>price</th>\n",
       "      <th>pdp_url</th>\n",
       "      <th>brand_name</th>\n",
       "      <th>product_category</th>\n",
       "      <th>retailer</th>\n",
       "      <th>description</th>\n",
       "      <th>rating</th>\n",
       "      <th>review_count</th>\n",
       "      <th>style_attributes</th>\n",
       "      <th>total_sizes</th>\n",
       "      <th>available_size</th>\n",
       "      <th>color</th>\n",
       "    </tr>\n",
       "  </thead>\n",
       "  <tbody>\n",
       "    <tr>\n",
       "      <th>0</th>\n",
       "      <td>Very Sexy Strappy Lace Thong Panty</td>\n",
       "      <td>$14.50</td>\n",
       "      <td>$14.50</td>\n",
       "      <td>https://www.victoriassecret.com/panties/shop-a...</td>\n",
       "      <td>Victoria's Secret</td>\n",
       "      <td>Strappy Lace Thong Panty</td>\n",
       "      <td>Victoriassecret US</td>\n",
       "      <td>Lots of cheek peek, pretty lace, a strappy bac...</td>\n",
       "      <td>NaN</td>\n",
       "      <td>NaN</td>\n",
       "      <td>NaN</td>\n",
       "      <td>[\"XS\", \"S\", \"M\", \"L\", \"XL\"]</td>\n",
       "      <td>S</td>\n",
       "      <td>peach melba</td>\n",
       "    </tr>\n",
       "    <tr>\n",
       "      <th>1</th>\n",
       "      <td>Very Sexy Strappy Lace Thong Panty</td>\n",
       "      <td>$14.50</td>\n",
       "      <td>$14.50</td>\n",
       "      <td>https://www.victoriassecret.com/panties/shop-a...</td>\n",
       "      <td>Victoria's Secret</td>\n",
       "      <td>Strappy Lace Thong Panty</td>\n",
       "      <td>Victoriassecret US</td>\n",
       "      <td>Lots of cheek peek, pretty lace, a strappy bac...</td>\n",
       "      <td>NaN</td>\n",
       "      <td>NaN</td>\n",
       "      <td>NaN</td>\n",
       "      <td>[\"XS\", \"S\", \"M\", \"L\", \"XL\"]</td>\n",
       "      <td>S</td>\n",
       "      <td>black</td>\n",
       "    </tr>\n",
       "    <tr>\n",
       "      <th>2</th>\n",
       "      <td>Very Sexy Strappy Lace Thong Panty</td>\n",
       "      <td>$14.50</td>\n",
       "      <td>$14.50</td>\n",
       "      <td>https://www.victoriassecret.com/panties/shop-a...</td>\n",
       "      <td>Victoria's Secret</td>\n",
       "      <td>Strappy Lace Thong Panty</td>\n",
       "      <td>Victoriassecret US</td>\n",
       "      <td>Lots of cheek peek, pretty lace, a strappy bac...</td>\n",
       "      <td>NaN</td>\n",
       "      <td>NaN</td>\n",
       "      <td>NaN</td>\n",
       "      <td>[\"XS\", \"S\", \"M\", \"L\", \"XL\"]</td>\n",
       "      <td>S</td>\n",
       "      <td>plum dust</td>\n",
       "    </tr>\n",
       "    <tr>\n",
       "      <th>3</th>\n",
       "      <td>Very Sexy Strappy Lace Thong Panty</td>\n",
       "      <td>$14.50</td>\n",
       "      <td>$14.50</td>\n",
       "      <td>https://www.victoriassecret.com/panties/shop-a...</td>\n",
       "      <td>Victoria's Secret</td>\n",
       "      <td>Strappy Lace Thong Panty</td>\n",
       "      <td>Victoriassecret US</td>\n",
       "      <td>Lots of cheek peek, pretty lace, a strappy bac...</td>\n",
       "      <td>NaN</td>\n",
       "      <td>NaN</td>\n",
       "      <td>NaN</td>\n",
       "      <td>[\"XS\", \"S\", \"M\", \"L\", \"XL\"]</td>\n",
       "      <td>S</td>\n",
       "      <td>ensign blue</td>\n",
       "    </tr>\n",
       "    <tr>\n",
       "      <th>4</th>\n",
       "      <td>Very Sexy Strappy Lace Thong Panty</td>\n",
       "      <td>$14.50</td>\n",
       "      <td>$14.50</td>\n",
       "      <td>https://www.victoriassecret.com/panties/shop-a...</td>\n",
       "      <td>Victoria's Secret</td>\n",
       "      <td>Strappy Lace Thong Panty</td>\n",
       "      <td>Victoriassecret US</td>\n",
       "      <td>Lots of cheek peek, pretty lace, a strappy bac...</td>\n",
       "      <td>NaN</td>\n",
       "      <td>NaN</td>\n",
       "      <td>NaN</td>\n",
       "      <td>[\"XS\", \"S\", \"M\", \"L\", \"XL\"]</td>\n",
       "      <td>S</td>\n",
       "      <td>fair orchid</td>\n",
       "    </tr>\n",
       "  </tbody>\n",
       "</table>\n",
       "</div>"
      ],
      "text/plain": [
       "                         product_name      mrp    price                                            pdp_url         brand_name          product_category            retailer                                        description  rating  review_count  style_attributes                  total_sizes available_size        color\n",
       "0  Very Sexy Strappy Lace Thong Panty  $14.50   $14.50   https://www.victoriassecret.com/panties/shop-a...  Victoria's Secret  Strappy Lace Thong Panty  Victoriassecret US  Lots of cheek peek, pretty lace, a strappy bac...     NaN           NaN               NaN  [\"XS\", \"S\", \"M\", \"L\", \"XL\"]              S  peach melba\n",
       "1  Very Sexy Strappy Lace Thong Panty  $14.50   $14.50   https://www.victoriassecret.com/panties/shop-a...  Victoria's Secret  Strappy Lace Thong Panty  Victoriassecret US  Lots of cheek peek, pretty lace, a strappy bac...     NaN           NaN               NaN  [\"XS\", \"S\", \"M\", \"L\", \"XL\"]              S        black\n",
       "2  Very Sexy Strappy Lace Thong Panty  $14.50   $14.50   https://www.victoriassecret.com/panties/shop-a...  Victoria's Secret  Strappy Lace Thong Panty  Victoriassecret US  Lots of cheek peek, pretty lace, a strappy bac...     NaN           NaN               NaN  [\"XS\", \"S\", \"M\", \"L\", \"XL\"]              S    plum dust\n",
       "3  Very Sexy Strappy Lace Thong Panty  $14.50   $14.50   https://www.victoriassecret.com/panties/shop-a...  Victoria's Secret  Strappy Lace Thong Panty  Victoriassecret US  Lots of cheek peek, pretty lace, a strappy bac...     NaN           NaN               NaN  [\"XS\", \"S\", \"M\", \"L\", \"XL\"]              S  ensign blue\n",
       "4  Very Sexy Strappy Lace Thong Panty  $14.50   $14.50   https://www.victoriassecret.com/panties/shop-a...  Victoria's Secret  Strappy Lace Thong Panty  Victoriassecret US  Lots of cheek peek, pretty lace, a strappy bac...     NaN           NaN               NaN  [\"XS\", \"S\", \"M\", \"L\", \"XL\"]              S  fair orchid"
      ]
     },
     "execution_count": 3,
     "metadata": {},
     "output_type": "execute_result"
    }
   ],
   "source": [
    "victoria_secret = pd.read_csv('Dataset/victoriassecret_com.csv')\n",
    "victoria_secret.head()"
   ]
  },
  {
   "cell_type": "code",
   "execution_count": 4,
   "metadata": {},
   "outputs": [
    {
     "data": {
      "text/plain": [
       "(453386, 14)"
      ]
     },
     "execution_count": 4,
     "metadata": {},
     "output_type": "execute_result"
    }
   ],
   "source": [
    "# Printing shape\n",
    "victoria_secret.shape"
   ]
  },
  {
   "cell_type": "code",
   "execution_count": 5,
   "metadata": {},
   "outputs": [
    {
     "name": "stdout",
     "output_type": "stream",
     "text": [
      "<class 'pandas.core.frame.DataFrame'>\n",
      "RangeIndex: 453386 entries, 0 to 453385\n",
      "Data columns (total 14 columns):\n",
      " #   Column            Non-Null Count   Dtype  \n",
      "---  ------            --------------   -----  \n",
      " 0   product_name      453386 non-null  object \n",
      " 1   mrp               453386 non-null  object \n",
      " 2   price             453386 non-null  object \n",
      " 3   pdp_url           453386 non-null  object \n",
      " 4   brand_name        453386 non-null  object \n",
      " 5   product_category  453386 non-null  object \n",
      " 6   retailer          453386 non-null  object \n",
      " 7   description       453386 non-null  object \n",
      " 8   rating            137734 non-null  float64\n",
      " 9   review_count      137734 non-null  float64\n",
      " 10  style_attributes  0 non-null       float64\n",
      " 11  total_sizes       453386 non-null  object \n",
      " 12  available_size    453386 non-null  object \n",
      " 13  color             453386 non-null  object \n",
      "dtypes: float64(3), object(11)\n",
      "memory usage: 48.4+ MB\n"
     ]
    }
   ],
   "source": [
    "# Displaying the information of all the columns\n",
    "victoria_secret.info()"
   ]
  },
  {
   "cell_type": "code",
   "execution_count": 6,
   "metadata": {},
   "outputs": [
    {
     "data": {
      "text/html": [
       "<div>\n",
       "<style scoped>\n",
       "    .dataframe tbody tr th:only-of-type {\n",
       "        vertical-align: middle;\n",
       "    }\n",
       "\n",
       "    .dataframe tbody tr th {\n",
       "        vertical-align: top;\n",
       "    }\n",
       "\n",
       "    .dataframe thead th {\n",
       "        text-align: right;\n",
       "    }\n",
       "</style>\n",
       "<table border=\"1\" class=\"dataframe\">\n",
       "  <thead>\n",
       "    <tr style=\"text-align: right;\">\n",
       "      <th></th>\n",
       "      <th>rating</th>\n",
       "      <th>review_count</th>\n",
       "      <th>style_attributes</th>\n",
       "    </tr>\n",
       "  </thead>\n",
       "  <tbody>\n",
       "    <tr>\n",
       "      <th>count</th>\n",
       "      <td>137734.000000</td>\n",
       "      <td>1.377340e+05</td>\n",
       "      <td>0.0</td>\n",
       "    </tr>\n",
       "    <tr>\n",
       "      <th>mean</th>\n",
       "      <td>4.165819</td>\n",
       "      <td>9.202884e+35</td>\n",
       "      <td>NaN</td>\n",
       "    </tr>\n",
       "    <tr>\n",
       "      <th>std</th>\n",
       "      <td>0.487524</td>\n",
       "      <td>1.162929e+37</td>\n",
       "      <td>NaN</td>\n",
       "    </tr>\n",
       "    <tr>\n",
       "      <th>min</th>\n",
       "      <td>0.000000</td>\n",
       "      <td>2.000000e+00</td>\n",
       "      <td>NaN</td>\n",
       "    </tr>\n",
       "    <tr>\n",
       "      <th>25%</th>\n",
       "      <td>4.000000</td>\n",
       "      <td>3.900000e+01</td>\n",
       "      <td>NaN</td>\n",
       "    </tr>\n",
       "    <tr>\n",
       "      <th>50%</th>\n",
       "      <td>4.300000</td>\n",
       "      <td>1.470000e+02</td>\n",
       "      <td>NaN</td>\n",
       "    </tr>\n",
       "    <tr>\n",
       "      <th>75%</th>\n",
       "      <td>4.500000</td>\n",
       "      <td>4.100000e+02</td>\n",
       "      <td>NaN</td>\n",
       "    </tr>\n",
       "    <tr>\n",
       "      <th>max</th>\n",
       "      <td>5.000000</td>\n",
       "      <td>1.560000e+38</td>\n",
       "      <td>NaN</td>\n",
       "    </tr>\n",
       "  </tbody>\n",
       "</table>\n",
       "</div>"
      ],
      "text/plain": [
       "              rating  review_count  style_attributes\n",
       "count  137734.000000  1.377340e+05               0.0\n",
       "mean        4.165819  9.202884e+35               NaN\n",
       "std         0.487524  1.162929e+37               NaN\n",
       "min         0.000000  2.000000e+00               NaN\n",
       "25%         4.000000  3.900000e+01               NaN\n",
       "50%         4.300000  1.470000e+02               NaN\n",
       "75%         4.500000  4.100000e+02               NaN\n",
       "max         5.000000  1.560000e+38               NaN"
      ]
     },
     "execution_count": 6,
     "metadata": {},
     "output_type": "execute_result"
    }
   ],
   "source": [
    "# Displaying the information of all the numeric columns\n",
    "victoria_secret.describe()"
   ]
  },
  {
   "cell_type": "markdown",
   "metadata": {},
   "source": [
    "# Cleaning the Dataset\n",
    "In this section, we will analyze the missing values, remove the unnecessary columns, and perform all the necessary handling before Exploratory Data Analysis."
   ]
  },
  {
   "cell_type": "code",
   "execution_count": 7,
   "metadata": {},
   "outputs": [
    {
     "data": {
      "text/html": [
       "<div>\n",
       "<style scoped>\n",
       "    .dataframe tbody tr th:only-of-type {\n",
       "        vertical-align: middle;\n",
       "    }\n",
       "\n",
       "    .dataframe tbody tr th {\n",
       "        vertical-align: top;\n",
       "    }\n",
       "\n",
       "    .dataframe thead th {\n",
       "        text-align: right;\n",
       "    }\n",
       "</style>\n",
       "<table border=\"1\" class=\"dataframe\">\n",
       "  <thead>\n",
       "    <tr style=\"text-align: right;\">\n",
       "      <th></th>\n",
       "      <th>product_name</th>\n",
       "      <th>mrp</th>\n",
       "      <th>price</th>\n",
       "      <th>product_category</th>\n",
       "      <th>description</th>\n",
       "      <th>total_sizes</th>\n",
       "      <th>available_size</th>\n",
       "      <th>color</th>\n",
       "    </tr>\n",
       "  </thead>\n",
       "  <tbody>\n",
       "    <tr>\n",
       "      <th>0</th>\n",
       "      <td>Very Sexy Strappy Lace Thong Panty</td>\n",
       "      <td>$14.50</td>\n",
       "      <td>$14.50</td>\n",
       "      <td>Strappy Lace Thong Panty</td>\n",
       "      <td>Lots of cheek peek, pretty lace, a strappy bac...</td>\n",
       "      <td>[\"XS\", \"S\", \"M\", \"L\", \"XL\"]</td>\n",
       "      <td>S</td>\n",
       "      <td>peach melba</td>\n",
       "    </tr>\n",
       "    <tr>\n",
       "      <th>1</th>\n",
       "      <td>Very Sexy Strappy Lace Thong Panty</td>\n",
       "      <td>$14.50</td>\n",
       "      <td>$14.50</td>\n",
       "      <td>Strappy Lace Thong Panty</td>\n",
       "      <td>Lots of cheek peek, pretty lace, a strappy bac...</td>\n",
       "      <td>[\"XS\", \"S\", \"M\", \"L\", \"XL\"]</td>\n",
       "      <td>S</td>\n",
       "      <td>black</td>\n",
       "    </tr>\n",
       "    <tr>\n",
       "      <th>2</th>\n",
       "      <td>Very Sexy Strappy Lace Thong Panty</td>\n",
       "      <td>$14.50</td>\n",
       "      <td>$14.50</td>\n",
       "      <td>Strappy Lace Thong Panty</td>\n",
       "      <td>Lots of cheek peek, pretty lace, a strappy bac...</td>\n",
       "      <td>[\"XS\", \"S\", \"M\", \"L\", \"XL\"]</td>\n",
       "      <td>S</td>\n",
       "      <td>plum dust</td>\n",
       "    </tr>\n",
       "    <tr>\n",
       "      <th>3</th>\n",
       "      <td>Very Sexy Strappy Lace Thong Panty</td>\n",
       "      <td>$14.50</td>\n",
       "      <td>$14.50</td>\n",
       "      <td>Strappy Lace Thong Panty</td>\n",
       "      <td>Lots of cheek peek, pretty lace, a strappy bac...</td>\n",
       "      <td>[\"XS\", \"S\", \"M\", \"L\", \"XL\"]</td>\n",
       "      <td>S</td>\n",
       "      <td>ensign blue</td>\n",
       "    </tr>\n",
       "    <tr>\n",
       "      <th>4</th>\n",
       "      <td>Very Sexy Strappy Lace Thong Panty</td>\n",
       "      <td>$14.50</td>\n",
       "      <td>$14.50</td>\n",
       "      <td>Strappy Lace Thong Panty</td>\n",
       "      <td>Lots of cheek peek, pretty lace, a strappy bac...</td>\n",
       "      <td>[\"XS\", \"S\", \"M\", \"L\", \"XL\"]</td>\n",
       "      <td>S</td>\n",
       "      <td>fair orchid</td>\n",
       "    </tr>\n",
       "  </tbody>\n",
       "</table>\n",
       "</div>"
      ],
      "text/plain": [
       "                         product_name      mrp    price          product_category                                        description                  total_sizes available_size        color\n",
       "0  Very Sexy Strappy Lace Thong Panty  $14.50   $14.50   Strappy Lace Thong Panty  Lots of cheek peek, pretty lace, a strappy bac...  [\"XS\", \"S\", \"M\", \"L\", \"XL\"]              S  peach melba\n",
       "1  Very Sexy Strappy Lace Thong Panty  $14.50   $14.50   Strappy Lace Thong Panty  Lots of cheek peek, pretty lace, a strappy bac...  [\"XS\", \"S\", \"M\", \"L\", \"XL\"]              S        black\n",
       "2  Very Sexy Strappy Lace Thong Panty  $14.50   $14.50   Strappy Lace Thong Panty  Lots of cheek peek, pretty lace, a strappy bac...  [\"XS\", \"S\", \"M\", \"L\", \"XL\"]              S    plum dust\n",
       "3  Very Sexy Strappy Lace Thong Panty  $14.50   $14.50   Strappy Lace Thong Panty  Lots of cheek peek, pretty lace, a strappy bac...  [\"XS\", \"S\", \"M\", \"L\", \"XL\"]              S  ensign blue\n",
       "4  Very Sexy Strappy Lace Thong Panty  $14.50   $14.50   Strappy Lace Thong Panty  Lots of cheek peek, pretty lace, a strappy bac...  [\"XS\", \"S\", \"M\", \"L\", \"XL\"]              S  fair orchid"
      ]
     },
     "execution_count": 7,
     "metadata": {},
     "output_type": "execute_result"
    }
   ],
   "source": [
    "# There are few columns that are not required throughout this study, hence removing the unnecessary columns.\n",
    "columns_to_drop = ['pdp_url', 'brand_name', 'retailer', 'rating', 'review_count', 'style_attributes']\n",
    "victoria_secret.drop(columns_to_drop, axis=1, inplace=True)\n",
    "victoria_secret.head()"
   ]
  },
  {
   "cell_type": "code",
   "execution_count": 8,
   "metadata": {},
   "outputs": [],
   "source": [
    "# Drop the duplicate rows which might result in wrong results during EDA\n",
    "victoria_secret.drop_duplicates(inplace=True)"
   ]
  },
  {
   "cell_type": "code",
   "execution_count": 9,
   "metadata": {},
   "outputs": [
    {
     "data": {
      "text/html": [
       "<div>\n",
       "<style scoped>\n",
       "    .dataframe tbody tr th:only-of-type {\n",
       "        vertical-align: middle;\n",
       "    }\n",
       "\n",
       "    .dataframe tbody tr th {\n",
       "        vertical-align: top;\n",
       "    }\n",
       "\n",
       "    .dataframe thead th {\n",
       "        text-align: right;\n",
       "    }\n",
       "</style>\n",
       "<table border=\"1\" class=\"dataframe\">\n",
       "  <thead>\n",
       "    <tr style=\"text-align: right;\">\n",
       "      <th></th>\n",
       "      <th>product_name</th>\n",
       "      <th>mrp</th>\n",
       "      <th>price</th>\n",
       "      <th>product_category</th>\n",
       "      <th>description</th>\n",
       "      <th>total_sizes</th>\n",
       "      <th>available_size</th>\n",
       "      <th>color</th>\n",
       "    </tr>\n",
       "  </thead>\n",
       "  <tbody>\n",
       "    <tr>\n",
       "      <th>0</th>\n",
       "      <td>Very Sexy Strappy Lace Thong Panty</td>\n",
       "      <td>14.5</td>\n",
       "      <td>14.5</td>\n",
       "      <td>Strappy Lace Thong Panty</td>\n",
       "      <td>Lots of cheek peek, pretty lace, a strappy bac...</td>\n",
       "      <td>[\"XS\", \"S\", \"M\", \"L\", \"XL\"]</td>\n",
       "      <td>S</td>\n",
       "      <td>peach melba</td>\n",
       "    </tr>\n",
       "    <tr>\n",
       "      <th>1</th>\n",
       "      <td>Very Sexy Strappy Lace Thong Panty</td>\n",
       "      <td>14.5</td>\n",
       "      <td>14.5</td>\n",
       "      <td>Strappy Lace Thong Panty</td>\n",
       "      <td>Lots of cheek peek, pretty lace, a strappy bac...</td>\n",
       "      <td>[\"XS\", \"S\", \"M\", \"L\", \"XL\"]</td>\n",
       "      <td>S</td>\n",
       "      <td>black</td>\n",
       "    </tr>\n",
       "    <tr>\n",
       "      <th>2</th>\n",
       "      <td>Very Sexy Strappy Lace Thong Panty</td>\n",
       "      <td>14.5</td>\n",
       "      <td>14.5</td>\n",
       "      <td>Strappy Lace Thong Panty</td>\n",
       "      <td>Lots of cheek peek, pretty lace, a strappy bac...</td>\n",
       "      <td>[\"XS\", \"S\", \"M\", \"L\", \"XL\"]</td>\n",
       "      <td>S</td>\n",
       "      <td>plum dust</td>\n",
       "    </tr>\n",
       "    <tr>\n",
       "      <th>3</th>\n",
       "      <td>Very Sexy Strappy Lace Thong Panty</td>\n",
       "      <td>14.5</td>\n",
       "      <td>14.5</td>\n",
       "      <td>Strappy Lace Thong Panty</td>\n",
       "      <td>Lots of cheek peek, pretty lace, a strappy bac...</td>\n",
       "      <td>[\"XS\", \"S\", \"M\", \"L\", \"XL\"]</td>\n",
       "      <td>S</td>\n",
       "      <td>ensign blue</td>\n",
       "    </tr>\n",
       "    <tr>\n",
       "      <th>4</th>\n",
       "      <td>Very Sexy Strappy Lace Thong Panty</td>\n",
       "      <td>14.5</td>\n",
       "      <td>14.5</td>\n",
       "      <td>Strappy Lace Thong Panty</td>\n",
       "      <td>Lots of cheek peek, pretty lace, a strappy bac...</td>\n",
       "      <td>[\"XS\", \"S\", \"M\", \"L\", \"XL\"]</td>\n",
       "      <td>S</td>\n",
       "      <td>fair orchid</td>\n",
       "    </tr>\n",
       "    <tr>\n",
       "      <th>5</th>\n",
       "      <td>Very Sexy Strappy Lace Thong Panty</td>\n",
       "      <td>14.5</td>\n",
       "      <td>14.5</td>\n",
       "      <td>Strappy Lace Thong Panty</td>\n",
       "      <td>Lots of cheek peek, pretty lace, a strappy bac...</td>\n",
       "      <td>[\"XS\", \"S\", \"M\", \"L\", \"XL\"]</td>\n",
       "      <td>S</td>\n",
       "      <td>windy blue</td>\n",
       "    </tr>\n",
       "    <tr>\n",
       "      <th>6</th>\n",
       "      <td>Very Sexy Strappy Lace Thong Panty</td>\n",
       "      <td>14.5</td>\n",
       "      <td>14.5</td>\n",
       "      <td>Strappy Lace Thong Panty</td>\n",
       "      <td>Lots of cheek peek, pretty lace, a strappy bac...</td>\n",
       "      <td>[\"XS\", \"S\", \"M\", \"L\", \"XL\"]</td>\n",
       "      <td>S</td>\n",
       "      <td>coconut white</td>\n",
       "    </tr>\n",
       "    <tr>\n",
       "      <th>7</th>\n",
       "      <td>Very Sexy Strappy Lace Thong Panty</td>\n",
       "      <td>14.5</td>\n",
       "      <td>14.5</td>\n",
       "      <td>Strappy Lace Thong Panty</td>\n",
       "      <td>Lots of cheek peek, pretty lace, a strappy bac...</td>\n",
       "      <td>[\"XS\", \"S\", \"M\", \"L\", \"XL\"]</td>\n",
       "      <td>XL</td>\n",
       "      <td>peach melba</td>\n",
       "    </tr>\n",
       "    <tr>\n",
       "      <th>8</th>\n",
       "      <td>Very Sexy Strappy Lace Thong Panty</td>\n",
       "      <td>14.5</td>\n",
       "      <td>14.5</td>\n",
       "      <td>Strappy Lace Thong Panty</td>\n",
       "      <td>Lots of cheek peek, pretty lace, a strappy bac...</td>\n",
       "      <td>[\"XS\", \"S\", \"M\", \"L\", \"XL\"]</td>\n",
       "      <td>XL</td>\n",
       "      <td>black</td>\n",
       "    </tr>\n",
       "    <tr>\n",
       "      <th>9</th>\n",
       "      <td>Very Sexy Strappy Lace Thong Panty</td>\n",
       "      <td>14.5</td>\n",
       "      <td>14.5</td>\n",
       "      <td>Strappy Lace Thong Panty</td>\n",
       "      <td>Lots of cheek peek, pretty lace, a strappy bac...</td>\n",
       "      <td>[\"XS\", \"S\", \"M\", \"L\", \"XL\"]</td>\n",
       "      <td>XL</td>\n",
       "      <td>plum dust</td>\n",
       "    </tr>\n",
       "  </tbody>\n",
       "</table>\n",
       "</div>"
      ],
      "text/plain": [
       "                         product_name   mrp  price          product_category                                        description                  total_sizes available_size          color\n",
       "0  Very Sexy Strappy Lace Thong Panty  14.5   14.5  Strappy Lace Thong Panty  Lots of cheek peek, pretty lace, a strappy bac...  [\"XS\", \"S\", \"M\", \"L\", \"XL\"]              S    peach melba\n",
       "1  Very Sexy Strappy Lace Thong Panty  14.5   14.5  Strappy Lace Thong Panty  Lots of cheek peek, pretty lace, a strappy bac...  [\"XS\", \"S\", \"M\", \"L\", \"XL\"]              S          black\n",
       "2  Very Sexy Strappy Lace Thong Panty  14.5   14.5  Strappy Lace Thong Panty  Lots of cheek peek, pretty lace, a strappy bac...  [\"XS\", \"S\", \"M\", \"L\", \"XL\"]              S      plum dust\n",
       "3  Very Sexy Strappy Lace Thong Panty  14.5   14.5  Strappy Lace Thong Panty  Lots of cheek peek, pretty lace, a strappy bac...  [\"XS\", \"S\", \"M\", \"L\", \"XL\"]              S    ensign blue\n",
       "4  Very Sexy Strappy Lace Thong Panty  14.5   14.5  Strappy Lace Thong Panty  Lots of cheek peek, pretty lace, a strappy bac...  [\"XS\", \"S\", \"M\", \"L\", \"XL\"]              S    fair orchid\n",
       "5  Very Sexy Strappy Lace Thong Panty  14.5   14.5  Strappy Lace Thong Panty  Lots of cheek peek, pretty lace, a strappy bac...  [\"XS\", \"S\", \"M\", \"L\", \"XL\"]              S     windy blue\n",
       "6  Very Sexy Strappy Lace Thong Panty  14.5   14.5  Strappy Lace Thong Panty  Lots of cheek peek, pretty lace, a strappy bac...  [\"XS\", \"S\", \"M\", \"L\", \"XL\"]              S  coconut white\n",
       "7  Very Sexy Strappy Lace Thong Panty  14.5   14.5  Strappy Lace Thong Panty  Lots of cheek peek, pretty lace, a strappy bac...  [\"XS\", \"S\", \"M\", \"L\", \"XL\"]             XL    peach melba\n",
       "8  Very Sexy Strappy Lace Thong Panty  14.5   14.5  Strappy Lace Thong Panty  Lots of cheek peek, pretty lace, a strappy bac...  [\"XS\", \"S\", \"M\", \"L\", \"XL\"]             XL          black\n",
       "9  Very Sexy Strappy Lace Thong Panty  14.5   14.5  Strappy Lace Thong Panty  Lots of cheek peek, pretty lace, a strappy bac...  [\"XS\", \"S\", \"M\", \"L\", \"XL\"]             XL      plum dust"
      ]
     },
     "execution_count": 9,
     "metadata": {},
     "output_type": "execute_result"
    }
   ],
   "source": [
    "# Conversion to USD for MRP and Price Coloumn\n",
    "# Reference: https://www.kaggle.com/code/justinekays/eda-for-lingerie?scriptVersionId=8012060&cellId=14\n",
    "\n",
    "colon_to_dollar_conversion_rate = 0.0017\n",
    "ind_rp_to_dollar_conversion_rate = 0.000066\n",
    "\n",
    "def extract_usd_value(value_str):\n",
    "    if type(value_str) is str:\n",
    "        value_str= value_str.strip().lower().replace('usd', '').replace('$','').replace(\"\\-.*\",\"\").strip()\n",
    "        value_str = re.sub(r\"-.*\", \"\", value_str)\n",
    "        value_str = re.sub(r\"–.*\", \"\", value_str)\n",
    "        value_str = re.sub(r\"\\s.*\", \"\", value_str)\n",
    "        value_str.strip()\n",
    "        \n",
    "        if \"₡\" in value_str:\n",
    "            value_str = value_str.replace(\"₡\", \"\").strip()\n",
    "            value_str = pd.to_numeric(value_str) * colon_to_dollar_conversion_rate            \n",
    "        elif \"rp\" in value_str:\n",
    "            value_str = value_str.replace(\"rp\", \"\").strip()\n",
    "            value_str = pd.to_numeric(value_str) * ind_rp_to_dollar_conversion_rate                \n",
    "            \n",
    "        return value_str\n",
    "    else:\n",
    "        return value_str\n",
    "    \n",
    "victoria_secret['mrp']=victoria_secret['mrp'].apply(extract_usd_value).apply(pd.to_numeric)\n",
    "victoria_secret['price']=victoria_secret['price'].apply(extract_usd_value).apply(pd.to_numeric)\n",
    "victoria_secret.head(10)"
   ]
  },
  {
   "cell_type": "code",
   "execution_count": 10,
   "metadata": {},
   "outputs": [
    {
     "data": {
      "text/html": [
       "<div>\n",
       "<style scoped>\n",
       "    .dataframe tbody tr th:only-of-type {\n",
       "        vertical-align: middle;\n",
       "    }\n",
       "\n",
       "    .dataframe tbody tr th {\n",
       "        vertical-align: top;\n",
       "    }\n",
       "\n",
       "    .dataframe thead th {\n",
       "        text-align: right;\n",
       "    }\n",
       "</style>\n",
       "<table border=\"1\" class=\"dataframe\">\n",
       "  <thead>\n",
       "    <tr style=\"text-align: right;\">\n",
       "      <th></th>\n",
       "      <th>product_name</th>\n",
       "      <th>mrp</th>\n",
       "      <th>price</th>\n",
       "      <th>product_category</th>\n",
       "      <th>description</th>\n",
       "      <th>total_sizes</th>\n",
       "      <th>available_size</th>\n",
       "      <th>color</th>\n",
       "    </tr>\n",
       "  </thead>\n",
       "  <tbody>\n",
       "    <tr>\n",
       "      <th>0</th>\n",
       "      <td>Very Sexy Strappy Lace Thong Panty</td>\n",
       "      <td>14.5</td>\n",
       "      <td>14.5</td>\n",
       "      <td>Strappy Lace Thong Panty</td>\n",
       "      <td>Lots of cheek peek, pretty lace, a strappy bac...</td>\n",
       "      <td>[\"XS\", \"S\", \"M\", \"L\", \"XL\"]</td>\n",
       "      <td>S</td>\n",
       "      <td>peach melba</td>\n",
       "    </tr>\n",
       "    <tr>\n",
       "      <th>1</th>\n",
       "      <td>Very Sexy Strappy Lace Thong Panty</td>\n",
       "      <td>14.5</td>\n",
       "      <td>14.5</td>\n",
       "      <td>Strappy Lace Thong Panty</td>\n",
       "      <td>Lots of cheek peek, pretty lace, a strappy bac...</td>\n",
       "      <td>[\"XS\", \"S\", \"M\", \"L\", \"XL\"]</td>\n",
       "      <td>S</td>\n",
       "      <td>black</td>\n",
       "    </tr>\n",
       "    <tr>\n",
       "      <th>2</th>\n",
       "      <td>Very Sexy Strappy Lace Thong Panty</td>\n",
       "      <td>14.5</td>\n",
       "      <td>14.5</td>\n",
       "      <td>Strappy Lace Thong Panty</td>\n",
       "      <td>Lots of cheek peek, pretty lace, a strappy bac...</td>\n",
       "      <td>[\"XS\", \"S\", \"M\", \"L\", \"XL\"]</td>\n",
       "      <td>S</td>\n",
       "      <td>plum dust</td>\n",
       "    </tr>\n",
       "    <tr>\n",
       "      <th>3</th>\n",
       "      <td>Very Sexy Strappy Lace Thong Panty</td>\n",
       "      <td>14.5</td>\n",
       "      <td>14.5</td>\n",
       "      <td>Strappy Lace Thong Panty</td>\n",
       "      <td>Lots of cheek peek, pretty lace, a strappy bac...</td>\n",
       "      <td>[\"XS\", \"S\", \"M\", \"L\", \"XL\"]</td>\n",
       "      <td>S</td>\n",
       "      <td>ensign blue</td>\n",
       "    </tr>\n",
       "    <tr>\n",
       "      <th>4</th>\n",
       "      <td>Very Sexy Strappy Lace Thong Panty</td>\n",
       "      <td>14.5</td>\n",
       "      <td>14.5</td>\n",
       "      <td>Strappy Lace Thong Panty</td>\n",
       "      <td>Lots of cheek peek, pretty lace, a strappy bac...</td>\n",
       "      <td>[\"XS\", \"S\", \"M\", \"L\", \"XL\"]</td>\n",
       "      <td>S</td>\n",
       "      <td>fair orchid</td>\n",
       "    </tr>\n",
       "  </tbody>\n",
       "</table>\n",
       "</div>"
      ],
      "text/plain": [
       "                         product_name   mrp  price          product_category                                        description                  total_sizes available_size        color\n",
       "0  Very Sexy Strappy Lace Thong Panty  14.5   14.5  Strappy Lace Thong Panty  Lots of cheek peek, pretty lace, a strappy bac...  [\"XS\", \"S\", \"M\", \"L\", \"XL\"]              S  peach melba\n",
       "1  Very Sexy Strappy Lace Thong Panty  14.5   14.5  Strappy Lace Thong Panty  Lots of cheek peek, pretty lace, a strappy bac...  [\"XS\", \"S\", \"M\", \"L\", \"XL\"]              S        black\n",
       "2  Very Sexy Strappy Lace Thong Panty  14.5   14.5  Strappy Lace Thong Panty  Lots of cheek peek, pretty lace, a strappy bac...  [\"XS\", \"S\", \"M\", \"L\", \"XL\"]              S    plum dust\n",
       "3  Very Sexy Strappy Lace Thong Panty  14.5   14.5  Strappy Lace Thong Panty  Lots of cheek peek, pretty lace, a strappy bac...  [\"XS\", \"S\", \"M\", \"L\", \"XL\"]              S  ensign blue\n",
       "4  Very Sexy Strappy Lace Thong Panty  14.5   14.5  Strappy Lace Thong Panty  Lots of cheek peek, pretty lace, a strappy bac...  [\"XS\", \"S\", \"M\", \"L\", \"XL\"]              S  fair orchid"
      ]
     },
     "execution_count": 10,
     "metadata": {},
     "output_type": "execute_result"
    }
   ],
   "source": [
    "victoria_secret['color'] = victoria_secret.color.str.lower()\n",
    "victoria_secret.head()"
   ]
  },
  {
   "cell_type": "code",
   "execution_count": 11,
   "metadata": {},
   "outputs": [
    {
     "data": {
      "text/plain": [
       "1184"
      ]
     },
     "execution_count": 11,
     "metadata": {},
     "output_type": "execute_result"
    }
   ],
   "source": [
    "victoria_secret['color'].unique().shape[0]"
   ]
  },
  {
   "cell_type": "code",
   "execution_count": 12,
   "metadata": {},
   "outputs": [],
   "source": [
    "# Categorizing the Products into Sub-Groups for generalization.\n",
    "# Reference: https://www.kaggle.com/code/jkokatjuhha/data-driven-lingerie-shopping?scriptVersionId=6849300&cellId=16\n",
    "def manipul_regex(str_array):\n",
    "    string = '|'.join(str_array)\n",
    "    return '(^|\\s)(' + string + ')(\\s\\.|$)'\n",
    "\n",
    "def categorize_product(data):\n",
    "    panties = manipul_regex(['thong','g string','pant','v kini','boypant','pants','panty','thongs','panties',\n",
    "                             'ladypant','knickers','thong','twist knicker','brief','boyshort',\n",
    "                             'lace v front short','signature lace bike short','side tie bikini',\n",
    "                             'signature lace string bikini','tanga','panty','hipster','vikini',\n",
    "                             'cheekster', 'boypants','ladypants', 'boyshorts', 'hiphugger', \n",
    "                             'pink high leg logo bikini', 'pink shortie', 'pink logo bikini',\n",
    "                             'lace sexy shortie', 'body base shorty', 'bikini bottom', 'lace mini bikini', \n",
    "                             'ruched mini bikini', 'high leg bikini'])  \n",
    "    \n",
    "    bodys = manipul_regex(['bodysuit', 'teddy', 'wink plaything', 'legging', 'dress'])\n",
    "    bras = manipul_regex(['bra', 'bustier', 'strapless', 'balconette', 'bandeau', 'body by victoria unlined demi', \n",
    "                          'push-up', 'push up', 'push', 'pink seamless lightly lined racerback',\n",
    "                          'body by wacoal seamless underwire','basic beauty wireless contour',\n",
    "                          'pink lace lightly lined triangle', 'lace cross front unlined halter', \n",
    "                          'high neck keyhole halter', 'high-neck wrap'])\n",
    "    \n",
    "    activewear = manipul_regex(['sports bra', 'sport bra', 'sport bralette', 'sports bralette', 'strappybralette', 'full-zip'])\n",
    "    suspenders = manipul_regex(['suspenders','belt'])\n",
    "    bralettes = manipul_regex(['bralettes','bralette', 'bralet', 'silicone petal'])\n",
    "    tops = manipul_regex(['tops','top','tee', 'tunic'])\n",
    "    babydoll = manipul_regex(['babydoll','camisole and bikini set by bluebella','chemise'])\n",
    "    shorts = manipul_regex(['short','shorts','chiffon tap pant'])\n",
    "    slip = manipul_regex(['slip', 'waist slip', 'half-slip', 'slips', 'half-slips', 'petticoat'])\n",
    "    robe = manipul_regex(['robe', 'kimonos','kimono'])\n",
    "    camisole = manipul_regex(['camisole','cami','tank'])\n",
    "    rompers = manipul_regex(['romper']) \n",
    "    onepiece = manipul_regex(['One-Piece', 'one piece', 'One-Piece Halter'])\n",
    "    \n",
    "    categories_list = [['slip',slip], ['shorts',shorts], ['robe', robe], ['tops',tops], ['suspenders',suspenders],\n",
    "                 ['rompers', rompers], ['babydoll', babydoll], ['bodys',bodys], ['bralettes', bralettes], \n",
    "                 ['activewear', activewear], ['camisoles',camisole], ['bras',bras], ['panties',panties], ['onepiece', onepiece]]\n",
    "\n",
    "    for items in categories_list:\n",
    "        naming, reg = items\n",
    "        data.loc[(data['product_name'].str.contains(reg, case=False)), 'product_category_wide'] = naming\n",
    "    return data"
   ]
  },
  {
   "cell_type": "code",
   "execution_count": 13,
   "metadata": {},
   "outputs": [],
   "source": [
    "def manipul_regex(str_array):\n",
    "    string = '|'.join(str_array)\n",
    "    return '(^|\\s)(' + string + ')(\\s|$)'\n",
    "\n",
    "def categorize_colors(data):\n",
    "    green = manipul_regex([\"green\", \"emerald\", \"fir\", \"bayberry\", \"cocoon\", \"olive\", \"turquoise\", \"basil\", \n",
    "                           \"seafoam glow\", \"smokey pearl\", \"cactus\"])\n",
    "    blue = manipul_regex([\"blue\", \"navy\", \"teal\", \"denim\", \"azure\", \"celeste\", \"turkish\", \"sea\", \"cloud\", \n",
    "                          \"neon\", \"ensign\", \"sky\", \"sapphire\", \"saphire\", \"blues\", \"ink\", \"aqua\", \"watercolor\", \n",
    "                          \"bluebell\", \"northstar\", \"bluebird\", \"inkblot\", \"nordic\", \"Evening Tide\", \"Marine\"])\n",
    "    white = manipul_regex([\"white\", \"ivory\", \"cashew\", \"coconut\", \"marshmallow\", \"marble\", \"White/Victoria\", \n",
    "                           \"sugar\", \"suger\", \"moon\", \"Dragonfruit\", \"pillow\", \"white/rose\", \"White/Red\"])\n",
    "    red = manipul_regex([\"red\", \"candy apple\", \"ginger glaze\", \"plum\", \"maroon\", \"ruby\",\"cherry\", \"strawberry\", \n",
    "                         \"rose\", \"apple\", \"berry\", \"crimson\"])\n",
    "    yellow = manipul_regex([\"yellow\", \"gold\", \"buff\", \"coral rock\", 'daisy', \"haze\", \"lime\", \"leopard\", \"bronzer\", \n",
    "                            \"ginger\", \"mango\"])\n",
    "    orange = manipul_regex([\"orange\", \"peach\", \"sunset\", \"melon\", \"floral\", \"tropical\", \"teak\", \"peel\", \"fireworks\", \"firework\"])\n",
    "    pink = manipul_regex([\"pink\", \"rosewater\", \"fuschia\", \"blush\", \"peach\", \"lotus\", \"fair orchid\", \"plum dust\", \"begonia\", \n",
    "                          \"hello lovely\", \"forever young\", \"lip\", \"lipsmacker\", \"dazzle\", \"geo\", \"celestial\", \n",
    "                          \"galaxy\", \"flamingo\", \"cream\", \"pinky\", \"mauvelous\"])\n",
    "    grey = manipul_regex([\"gray\", \"grey\", \"pewter\", \"slate\", \"silver\", \"grey/blush\", \"heather\", \"Black/White\", \"marl\", \n",
    "                          \"shadow\", \"charcoal\", \"Marl/Victoria\", \"White/Black\"])\n",
    "    brown = manipul_regex([\"brown\", \"taupe\", \"chai\", \"cappuccino\", \"sienna\", \"toast\", \"french roast\"])\n",
    "    maroon = manipul_regex([\"maroon\", \"kir\", \"cinnamon\"])\n",
    "    purple = manipul_regex([\"mauve\", \"lilac\", \"purple\", \"violet\", \"grape\", \"blackberry\", \"amethyst\", \"lavender\", \n",
    "                            \"lavendar\", \"red/Blue\", \"ignited\", \"eggplant\", \"fair orichid\"])\n",
    "    black = manipul_regex([\"black\", \"midnight\", \"night\", \"Black/Victoria\", \"dark\", \"Sapphire/Black\", \"Black/Mesh\", \n",
    "                           \"Black/Zig Zag\", \"Black/\", \"black/rose\", \"Black/Rock\", \"Black/Red\"])\n",
    "    nude = manipul_regex([\"nude\", \"bare\", \"champagne\", \"light\", \"neutral\", \"infinity\", \"dust\", \"flake\", \"Mint\", \n",
    "                          \"nightlife\", \"Snowflake\", \"cool\", \"clean\", \"Warm\"])\n",
    "    multicolor = manipul_regex([\"multi\", \"blend\", \"blended\", \"radiating\", \"print\", \"stripe\", \"stripes\", \"chevron\", \n",
    "                                \"abstract\", \"colorblock\", \"spraypaint\", \"americana\", \"mesh\", \"spring\", \n",
    "                                \"french\", \"arrows\", \"arrrows\", \"moonray\", \"blocks\", \"curves\", \"coral\", \"rainbow\", \n",
    "                                \"metropolis\", \"border\", \"niagara\", \"aztec\", \"Striples\", \"bliss\", \"kaleidoscope\", \"party\",\n",
    "                               \"paradise palm\", \"gradient\", \"2VN\", \"Seychelles\", \"multifolk\", \"C3K\", \"Multicolor\"])\n",
    "    \n",
    "    colors_list = [['green',green], ['blue',blue], ['white', white], ['black',black], ['red',red],\n",
    "                 ['yellow', yellow], ['orange', orange], ['pink',pink], ['nude', nude], \n",
    "                 ['grey', grey], ['brown',brown], ['maroon',maroon], ['purple',purple], ['multicolor', multicolor]]\n",
    "    \n",
    "    for items in colors_list:\n",
    "        naming, reg = items\n",
    "        data.loc[(data['color'].str.contains(reg, case=False)), 'color_group'] = naming\n",
    "    return data"
   ]
  },
  {
   "cell_type": "code",
   "execution_count": 14,
   "metadata": {},
   "outputs": [
    {
     "data": {
      "text/plain": [
       "array(['pink', 'black', 'nude', 'blue', 'white', 'multicolor', 'grey',\n",
       "       'purple', 'red', 'yellow', 'green', 'brown', 'maroon', 'orange'],\n",
       "      dtype=object)"
      ]
     },
     "execution_count": 14,
     "metadata": {},
     "output_type": "execute_result"
    }
   ],
   "source": [
    "victoria_secret_s = categorize_colors(victoria_secret)\n",
    "victoria_secret_s['color_group'].unique()"
   ]
  },
  {
   "cell_type": "code",
   "execution_count": 15,
   "metadata": {},
   "outputs": [
    {
     "data": {
      "text/plain": [
       "array(['panties', 'bras', 'robe', 'bralettes', 'bodys', 'onepiece',\n",
       "       'slip', nan, 'tops', 'babydoll', 'shorts', 'camisoles', 'rompers',\n",
       "       'activewear', 'suspenders'], dtype=object)"
      ]
     },
     "execution_count": 15,
     "metadata": {},
     "output_type": "execute_result"
    }
   ],
   "source": [
    "victoria_secret_s = categorize_product(victoria_secret_s)\n",
    "victoria_secret_s['product_category_wide'].unique()"
   ]
  },
  {
   "cell_type": "code",
   "execution_count": 16,
   "metadata": {},
   "outputs": [
    {
     "data": {
      "text/plain": [
       "bras          40799\n",
       "panties       10129\n",
       "bralettes      3738\n",
       "bodys           439\n",
       "slip            374\n",
       "camisoles       341\n",
       "tops            313\n",
       "babydoll        297\n",
       "onepiece        188\n",
       "rompers         117\n",
       "activewear      107\n",
       "robe             47\n",
       "shorts           45\n",
       "suspenders        2\n",
       "Name: product_category_wide, dtype: int64"
      ]
     },
     "execution_count": 16,
     "metadata": {},
     "output_type": "execute_result"
    }
   ],
   "source": [
    "victoria_secret_s['product_category_wide'].value_counts()"
   ]
  },
  {
   "cell_type": "code",
   "execution_count": 17,
   "metadata": {},
   "outputs": [
    {
     "data": {
      "text/plain": [
       "388"
      ]
     },
     "execution_count": 17,
     "metadata": {},
     "output_type": "execute_result"
    }
   ],
   "source": [
    "victoria_secret_s['product_category_wide'].isnull().sum()"
   ]
  },
  {
   "cell_type": "code",
   "execution_count": 18,
   "metadata": {},
   "outputs": [
    {
     "data": {
      "text/html": [
       "<div>\n",
       "<style scoped>\n",
       "    .dataframe tbody tr th:only-of-type {\n",
       "        vertical-align: middle;\n",
       "    }\n",
       "\n",
       "    .dataframe tbody tr th {\n",
       "        vertical-align: top;\n",
       "    }\n",
       "\n",
       "    .dataframe thead th {\n",
       "        text-align: right;\n",
       "    }\n",
       "</style>\n",
       "<table border=\"1\" class=\"dataframe\">\n",
       "  <thead>\n",
       "    <tr style=\"text-align: right;\">\n",
       "      <th></th>\n",
       "      <th>product_name</th>\n",
       "      <th>mrp</th>\n",
       "      <th>price</th>\n",
       "      <th>product_category</th>\n",
       "      <th>description</th>\n",
       "      <th>total_sizes</th>\n",
       "      <th>available_size</th>\n",
       "      <th>color</th>\n",
       "      <th>color_group</th>\n",
       "      <th>product_category_wide</th>\n",
       "    </tr>\n",
       "  </thead>\n",
       "  <tbody>\n",
       "    <tr>\n",
       "      <th>0</th>\n",
       "      <td>Very Sexy Strappy Lace Thong Panty</td>\n",
       "      <td>14.5</td>\n",
       "      <td>14.5</td>\n",
       "      <td>Strappy Lace Thong Panty</td>\n",
       "      <td>Lots of cheek peek, pretty lace, a strappy bac...</td>\n",
       "      <td>[\"XS\", \"S\", \"M\", \"L\", \"XL\"]</td>\n",
       "      <td>S</td>\n",
       "      <td>peach melba</td>\n",
       "      <td>pink</td>\n",
       "      <td>panties</td>\n",
       "    </tr>\n",
       "    <tr>\n",
       "      <th>1</th>\n",
       "      <td>Very Sexy Strappy Lace Thong Panty</td>\n",
       "      <td>14.5</td>\n",
       "      <td>14.5</td>\n",
       "      <td>Strappy Lace Thong Panty</td>\n",
       "      <td>Lots of cheek peek, pretty lace, a strappy bac...</td>\n",
       "      <td>[\"XS\", \"S\", \"M\", \"L\", \"XL\"]</td>\n",
       "      <td>S</td>\n",
       "      <td>black</td>\n",
       "      <td>black</td>\n",
       "      <td>panties</td>\n",
       "    </tr>\n",
       "    <tr>\n",
       "      <th>2</th>\n",
       "      <td>Very Sexy Strappy Lace Thong Panty</td>\n",
       "      <td>14.5</td>\n",
       "      <td>14.5</td>\n",
       "      <td>Strappy Lace Thong Panty</td>\n",
       "      <td>Lots of cheek peek, pretty lace, a strappy bac...</td>\n",
       "      <td>[\"XS\", \"S\", \"M\", \"L\", \"XL\"]</td>\n",
       "      <td>S</td>\n",
       "      <td>plum dust</td>\n",
       "      <td>nude</td>\n",
       "      <td>panties</td>\n",
       "    </tr>\n",
       "    <tr>\n",
       "      <th>3</th>\n",
       "      <td>Very Sexy Strappy Lace Thong Panty</td>\n",
       "      <td>14.5</td>\n",
       "      <td>14.5</td>\n",
       "      <td>Strappy Lace Thong Panty</td>\n",
       "      <td>Lots of cheek peek, pretty lace, a strappy bac...</td>\n",
       "      <td>[\"XS\", \"S\", \"M\", \"L\", \"XL\"]</td>\n",
       "      <td>S</td>\n",
       "      <td>ensign blue</td>\n",
       "      <td>blue</td>\n",
       "      <td>panties</td>\n",
       "    </tr>\n",
       "    <tr>\n",
       "      <th>4</th>\n",
       "      <td>Very Sexy Strappy Lace Thong Panty</td>\n",
       "      <td>14.5</td>\n",
       "      <td>14.5</td>\n",
       "      <td>Strappy Lace Thong Panty</td>\n",
       "      <td>Lots of cheek peek, pretty lace, a strappy bac...</td>\n",
       "      <td>[\"XS\", \"S\", \"M\", \"L\", \"XL\"]</td>\n",
       "      <td>S</td>\n",
       "      <td>fair orchid</td>\n",
       "      <td>pink</td>\n",
       "      <td>panties</td>\n",
       "    </tr>\n",
       "  </tbody>\n",
       "</table>\n",
       "</div>"
      ],
      "text/plain": [
       "                         product_name   mrp  price          product_category                                        description                  total_sizes available_size        color color_group product_category_wide\n",
       "0  Very Sexy Strappy Lace Thong Panty  14.5   14.5  Strappy Lace Thong Panty  Lots of cheek peek, pretty lace, a strappy bac...  [\"XS\", \"S\", \"M\", \"L\", \"XL\"]              S  peach melba        pink               panties\n",
       "1  Very Sexy Strappy Lace Thong Panty  14.5   14.5  Strappy Lace Thong Panty  Lots of cheek peek, pretty lace, a strappy bac...  [\"XS\", \"S\", \"M\", \"L\", \"XL\"]              S        black       black               panties\n",
       "2  Very Sexy Strappy Lace Thong Panty  14.5   14.5  Strappy Lace Thong Panty  Lots of cheek peek, pretty lace, a strappy bac...  [\"XS\", \"S\", \"M\", \"L\", \"XL\"]              S    plum dust        nude               panties\n",
       "3  Very Sexy Strappy Lace Thong Panty  14.5   14.5  Strappy Lace Thong Panty  Lots of cheek peek, pretty lace, a strappy bac...  [\"XS\", \"S\", \"M\", \"L\", \"XL\"]              S  ensign blue        blue               panties\n",
       "4  Very Sexy Strappy Lace Thong Panty  14.5   14.5  Strappy Lace Thong Panty  Lots of cheek peek, pretty lace, a strappy bac...  [\"XS\", \"S\", \"M\", \"L\", \"XL\"]              S  fair orchid        pink               panties"
      ]
     },
     "execution_count": 18,
     "metadata": {},
     "output_type": "execute_result"
    }
   ],
   "source": [
    "# There are some products like bottle, basketball, etc. that are not relevant for this study, thus can be dropped.\n",
    "# Also, the suspenders cateogory can be removed as it has only 2 entries.\n",
    "\n",
    "victoria_secret_s = victoria_secret_s[~(victoria_secret_s['product_category_wide'].isnull()) & \n",
    "                                      ~(victoria_secret_s['product_category_wide'] == 'suspenders')]\n",
    "victoria_secret_s.head()"
   ]
  },
  {
   "cell_type": "code",
   "execution_count": 19,
   "metadata": {},
   "outputs": [
    {
     "data": {
      "text/plain": [
       "bras          40799\n",
       "panties       10129\n",
       "bralettes      3738\n",
       "bodys           439\n",
       "slip            374\n",
       "camisoles       341\n",
       "tops            313\n",
       "babydoll        297\n",
       "onepiece        188\n",
       "rompers         117\n",
       "activewear      107\n",
       "robe             47\n",
       "shorts           45\n",
       "Name: product_category_wide, dtype: int64"
      ]
     },
     "execution_count": 19,
     "metadata": {},
     "output_type": "execute_result"
    }
   ],
   "source": [
    "victoria_secret_s['product_category_wide'].value_counts()"
   ]
  },
  {
   "cell_type": "markdown",
   "metadata": {},
   "source": [
    "# Exploratory Data Analysis"
   ]
  },
  {
   "cell_type": "markdown",
   "metadata": {},
   "source": [
    "## Univariate Analysis"
   ]
  },
  {
   "cell_type": "code",
   "execution_count": 20,
   "metadata": {},
   "outputs": [
    {
     "data": {
      "text/html": [
       "<div>\n",
       "<style scoped>\n",
       "    .dataframe tbody tr th:only-of-type {\n",
       "        vertical-align: middle;\n",
       "    }\n",
       "\n",
       "    .dataframe tbody tr th {\n",
       "        vertical-align: top;\n",
       "    }\n",
       "\n",
       "    .dataframe thead th {\n",
       "        text-align: right;\n",
       "    }\n",
       "</style>\n",
       "<table border=\"1\" class=\"dataframe\">\n",
       "  <thead>\n",
       "    <tr style=\"text-align: right;\">\n",
       "      <th></th>\n",
       "      <th>product_name</th>\n",
       "      <th>mrp</th>\n",
       "      <th>price</th>\n",
       "      <th>product_category</th>\n",
       "      <th>description</th>\n",
       "      <th>total_sizes</th>\n",
       "      <th>available_size</th>\n",
       "      <th>color</th>\n",
       "      <th>color_group</th>\n",
       "      <th>product_category_wide</th>\n",
       "    </tr>\n",
       "  </thead>\n",
       "  <tbody>\n",
       "    <tr>\n",
       "      <th>0</th>\n",
       "      <td>Very Sexy Strappy Lace Thong Panty</td>\n",
       "      <td>14.5</td>\n",
       "      <td>14.5</td>\n",
       "      <td>Strappy Lace Thong Panty</td>\n",
       "      <td>Lots of cheek peek, pretty lace, a strappy bac...</td>\n",
       "      <td>[\"XS\", \"S\", \"M\", \"L\", \"XL\"]</td>\n",
       "      <td>S</td>\n",
       "      <td>peach melba</td>\n",
       "      <td>pink</td>\n",
       "      <td>panties</td>\n",
       "    </tr>\n",
       "    <tr>\n",
       "      <th>1</th>\n",
       "      <td>Very Sexy Strappy Lace Thong Panty</td>\n",
       "      <td>14.5</td>\n",
       "      <td>14.5</td>\n",
       "      <td>Strappy Lace Thong Panty</td>\n",
       "      <td>Lots of cheek peek, pretty lace, a strappy bac...</td>\n",
       "      <td>[\"XS\", \"S\", \"M\", \"L\", \"XL\"]</td>\n",
       "      <td>S</td>\n",
       "      <td>black</td>\n",
       "      <td>black</td>\n",
       "      <td>panties</td>\n",
       "    </tr>\n",
       "    <tr>\n",
       "      <th>2</th>\n",
       "      <td>Very Sexy Strappy Lace Thong Panty</td>\n",
       "      <td>14.5</td>\n",
       "      <td>14.5</td>\n",
       "      <td>Strappy Lace Thong Panty</td>\n",
       "      <td>Lots of cheek peek, pretty lace, a strappy bac...</td>\n",
       "      <td>[\"XS\", \"S\", \"M\", \"L\", \"XL\"]</td>\n",
       "      <td>S</td>\n",
       "      <td>plum dust</td>\n",
       "      <td>nude</td>\n",
       "      <td>panties</td>\n",
       "    </tr>\n",
       "    <tr>\n",
       "      <th>3</th>\n",
       "      <td>Very Sexy Strappy Lace Thong Panty</td>\n",
       "      <td>14.5</td>\n",
       "      <td>14.5</td>\n",
       "      <td>Strappy Lace Thong Panty</td>\n",
       "      <td>Lots of cheek peek, pretty lace, a strappy bac...</td>\n",
       "      <td>[\"XS\", \"S\", \"M\", \"L\", \"XL\"]</td>\n",
       "      <td>S</td>\n",
       "      <td>ensign blue</td>\n",
       "      <td>blue</td>\n",
       "      <td>panties</td>\n",
       "    </tr>\n",
       "    <tr>\n",
       "      <th>4</th>\n",
       "      <td>Very Sexy Strappy Lace Thong Panty</td>\n",
       "      <td>14.5</td>\n",
       "      <td>14.5</td>\n",
       "      <td>Strappy Lace Thong Panty</td>\n",
       "      <td>Lots of cheek peek, pretty lace, a strappy bac...</td>\n",
       "      <td>[\"XS\", \"S\", \"M\", \"L\", \"XL\"]</td>\n",
       "      <td>S</td>\n",
       "      <td>fair orchid</td>\n",
       "      <td>pink</td>\n",
       "      <td>panties</td>\n",
       "    </tr>\n",
       "  </tbody>\n",
       "</table>\n",
       "</div>"
      ],
      "text/plain": [
       "                         product_name   mrp  price          product_category                                        description                  total_sizes available_size        color color_group product_category_wide\n",
       "0  Very Sexy Strappy Lace Thong Panty  14.5   14.5  Strappy Lace Thong Panty  Lots of cheek peek, pretty lace, a strappy bac...  [\"XS\", \"S\", \"M\", \"L\", \"XL\"]              S  peach melba        pink               panties\n",
       "1  Very Sexy Strappy Lace Thong Panty  14.5   14.5  Strappy Lace Thong Panty  Lots of cheek peek, pretty lace, a strappy bac...  [\"XS\", \"S\", \"M\", \"L\", \"XL\"]              S        black       black               panties\n",
       "2  Very Sexy Strappy Lace Thong Panty  14.5   14.5  Strappy Lace Thong Panty  Lots of cheek peek, pretty lace, a strappy bac...  [\"XS\", \"S\", \"M\", \"L\", \"XL\"]              S    plum dust        nude               panties\n",
       "3  Very Sexy Strappy Lace Thong Panty  14.5   14.5  Strappy Lace Thong Panty  Lots of cheek peek, pretty lace, a strappy bac...  [\"XS\", \"S\", \"M\", \"L\", \"XL\"]              S  ensign blue        blue               panties\n",
       "4  Very Sexy Strappy Lace Thong Panty  14.5   14.5  Strappy Lace Thong Panty  Lots of cheek peek, pretty lace, a strappy bac...  [\"XS\", \"S\", \"M\", \"L\", \"XL\"]              S  fair orchid        pink               panties"
      ]
     },
     "execution_count": 20,
     "metadata": {},
     "output_type": "execute_result"
    }
   ],
   "source": [
    "victoria_secret_s.head()"
   ]
  },
  {
   "cell_type": "code",
   "execution_count": 21,
   "metadata": {},
   "outputs": [
    {
     "data": {
      "image/png": "[encoded data removed]",
      "text/plain": [
       "<Figure size 576x432 with 2 Axes>"
      ]
     },
     "metadata": {
      "needs_background": "light"
     },
     "output_type": "display_data"
    }
   ],
   "source": [
    "# Box plot for mrp, price\n",
    "\n",
    "fig, ax = plt.subplots(1,2,figsize=(8, 6))\n",
    "\n",
    "fig.set_constrained_layout(True)\n",
    "\n",
    "fig.suptitle('Box plot analysis for the mrp and price', fontsize=15, y=1)\n",
    "\n",
    "sns.boxplot(x='mrp', data = victoria_secret_s, ax = ax[0], orient='v')\n",
    "\n",
    "ax[0].set_title('mrp')\n",
    "\n",
    "sns.boxplot(x='price', data = victoria_secret_s, ax = ax[1], orient='v')\n",
    "\n",
    "ax[1].set_title('price')\n",
    "\n",
    "plt.show()"
   ]
  },
  {
   "cell_type": "code",
   "execution_count": 22,
   "metadata": {},
   "outputs": [
    {
     "data": {
      "text/html": [
       "<div>\n",
       "<style scoped>\n",
       "    .dataframe tbody tr th:only-of-type {\n",
       "        vertical-align: middle;\n",
       "    }\n",
       "\n",
       "    .dataframe tbody tr th {\n",
       "        vertical-align: top;\n",
       "    }\n",
       "\n",
       "    .dataframe thead th {\n",
       "        text-align: right;\n",
       "    }\n",
       "</style>\n",
       "<table border=\"1\" class=\"dataframe\">\n",
       "  <thead>\n",
       "    <tr style=\"text-align: right;\">\n",
       "      <th></th>\n",
       "      <th>price</th>\n",
       "      <th>mrp</th>\n",
       "    </tr>\n",
       "  </thead>\n",
       "  <tbody>\n",
       "    <tr>\n",
       "      <th>count</th>\n",
       "      <td>56934.000000</td>\n",
       "      <td>56934.000000</td>\n",
       "    </tr>\n",
       "    <tr>\n",
       "      <th>mean</th>\n",
       "      <td>29.442861</td>\n",
       "      <td>35.953860</td>\n",
       "    </tr>\n",
       "    <tr>\n",
       "      <th>std</th>\n",
       "      <td>16.205978</td>\n",
       "      <td>15.567940</td>\n",
       "    </tr>\n",
       "    <tr>\n",
       "      <th>min</th>\n",
       "      <td>0.007716</td>\n",
       "      <td>0.007716</td>\n",
       "    </tr>\n",
       "    <tr>\n",
       "      <th>5%</th>\n",
       "      <td>7.990000</td>\n",
       "      <td>10.500000</td>\n",
       "    </tr>\n",
       "    <tr>\n",
       "      <th>25%</th>\n",
       "      <td>14.990000</td>\n",
       "      <td>25.000000</td>\n",
       "    </tr>\n",
       "    <tr>\n",
       "      <th>50%</th>\n",
       "      <td>29.990000</td>\n",
       "      <td>35.000000</td>\n",
       "    </tr>\n",
       "    <tr>\n",
       "      <th>75%</th>\n",
       "      <td>39.500000</td>\n",
       "      <td>48.000000</td>\n",
       "    </tr>\n",
       "    <tr>\n",
       "      <th>90%</th>\n",
       "      <td>54.500000</td>\n",
       "      <td>56.500000</td>\n",
       "    </tr>\n",
       "    <tr>\n",
       "      <th>95%</th>\n",
       "      <td>58.500000</td>\n",
       "      <td>59.500000</td>\n",
       "    </tr>\n",
       "    <tr>\n",
       "      <th>99%</th>\n",
       "      <td>64.500000</td>\n",
       "      <td>64.500000</td>\n",
       "    </tr>\n",
       "    <tr>\n",
       "      <th>max</th>\n",
       "      <td>98.000000</td>\n",
       "      <td>98.000000</td>\n",
       "    </tr>\n",
       "  </tbody>\n",
       "</table>\n",
       "</div>"
      ],
      "text/plain": [
       "              price           mrp\n",
       "count  56934.000000  56934.000000\n",
       "mean      29.442861     35.953860\n",
       "std       16.205978     15.567940\n",
       "min        0.007716      0.007716\n",
       "5%         7.990000     10.500000\n",
       "25%       14.990000     25.000000\n",
       "50%       29.990000     35.000000\n",
       "75%       39.500000     48.000000\n",
       "90%       54.500000     56.500000\n",
       "95%       58.500000     59.500000\n",
       "99%       64.500000     64.500000\n",
       "max       98.000000     98.000000"
      ]
     },
     "execution_count": 22,
     "metadata": {},
     "output_type": "execute_result"
    }
   ],
   "source": [
    "# Checking the statistical informations of the numerical variables\n",
    "\n",
    "victoria_secret_s[['price', 'mrp']].describe(percentiles = [0.05, 0.25, 0.5, 0.75, 0.90, 0.95, 0.99])"
   ]
  },
  {
   "cell_type": "code",
   "execution_count": 23,
   "metadata": {},
   "outputs": [
    {
     "data": {
      "image/png": "[encoded data removed]",
      "text/plain": [
       "<Figure size 720x288 with 2 Axes>"
      ]
     },
     "metadata": {
      "needs_background": "light"
     },
     "output_type": "display_data"
    }
   ],
   "source": [
    "# Let's plot the distribution plot for the continuous columns\n",
    "\n",
    "fig, ax = plt.subplots(1, 2, figsize=(10, 4))\n",
    "\n",
    "fig.set_constrained_layout(True)\n",
    "fig.suptitle('Distribution Plots for the continuous columns', fontsize=15, y=1)\n",
    "\n",
    "sns.distplot(victoria_secret_s['mrp'], ax=ax[0])\n",
    "\n",
    "sns.distplot(victoria_secret_s['price'], ax=ax[1])\n",
    "\n",
    "plt.show()"
   ]
  },
  {
   "cell_type": "code",
   "execution_count": 24,
   "metadata": {},
   "outputs": [
    {
     "data": {
      "image/png": "[encoded data removed]",
      "text/plain": [
       "<Figure size 720x432 with 2 Axes>"
      ]
     },
     "metadata": {
      "needs_background": "light"
     },
     "output_type": "display_data"
    }
   ],
   "source": [
    "# Let's plot the violin plot for the continuous columns\n",
    "\n",
    "fig, ax = plt.subplots(1, 2, figsize=(10, 6))\n",
    "\n",
    "fig.set_constrained_layout(True)\n",
    "fig.suptitle('Violin Plots for the continuous columns', fontsize=15, y=1)\n",
    "\n",
    "sns.violinplot(victoria_secret_s['mrp'], ax=ax[0], orient='v')\n",
    "ax[0].set_title('mrp')\n",
    "\n",
    "sns.violinplot(victoria_secret_s['price'], ax=ax[1], orient='v')\n",
    "ax[1].set_title('price')\n",
    "\n",
    "plt.show()"
   ]
  },
  {
   "cell_type": "code",
   "execution_count": 25,
   "metadata": {},
   "outputs": [],
   "source": [
    "def univariate_countplot(column, x, y):\n",
    "    plt.figure(figsize=(x,y))\n",
    "    ax = sns.countplot(x = column, data = victoria_secret_s, order = victoria_secret_s[column].value_counts().iloc[:10].index)\n",
    "    ax.set_xticklabels(ax.get_xticklabels(),rotation=15)\n",
    "    # Percentage of bars\n",
    "    total = float(victoria_secret_s.shape[0])\n",
    "    \n",
    "    for p in ax.patches:\n",
    "            x = p.get_x() + p.get_width() / 2 - 0.45\n",
    "            y = p.get_y() + p.get_height()\n",
    "            ax.annotate(p.get_height(), (x, y), size = 12)\n",
    "    plt.show()"
   ]
  },
  {
   "cell_type": "code",
   "execution_count": 26,
   "metadata": {},
   "outputs": [
    {
     "data": {
      "image/png": "[encoded data removed]",
      "text/plain": [
       "<Figure size 720x360 with 1 Axes>"
      ]
     },
     "metadata": {
      "needs_background": "light"
     },
     "output_type": "display_data"
    }
   ],
   "source": [
    "# Let's plot a count plot for product category\n",
    "univariate_countplot('product_category_wide', 10, 5)"
   ]
  },
  {
   "cell_type": "code",
   "execution_count": 27,
   "metadata": {},
   "outputs": [
    {
     "data": {
      "image/png": "[encoded data removed]",
      "text/plain": [
       "<Figure size 720x432 with 1 Axes>"
      ]
     },
     "metadata": {
      "needs_background": "light"
     },
     "output_type": "display_data"
    }
   ],
   "source": [
    "# Let's plot a count plot for available size\n",
    "univariate_countplot('available_size', 10, 6)"
   ]
  },
  {
   "cell_type": "code",
   "execution_count": 28,
   "metadata": {},
   "outputs": [
    {
     "data": {
      "image/png": "[encoded data removed]",
      "text/plain": [
       "<Figure size 720x432 with 1 Axes>"
      ]
     },
     "metadata": {
      "needs_background": "light"
     },
     "output_type": "display_data"
    }
   ],
   "source": [
    "# Let's plot a count plot for color\n",
    "univariate_countplot('color_group', 10, 6)"
   ]
  },
  {
   "cell_type": "code",
   "execution_count": 29,
   "metadata": {},
   "outputs": [
    {
     "data": {
      "text/html": [
       "<div>\n",
       "<style scoped>\n",
       "    .dataframe tbody tr th:only-of-type {\n",
       "        vertical-align: middle;\n",
       "    }\n",
       "\n",
       "    .dataframe tbody tr th {\n",
       "        vertical-align: top;\n",
       "    }\n",
       "\n",
       "    .dataframe thead th {\n",
       "        text-align: right;\n",
       "    }\n",
       "</style>\n",
       "<table border=\"1\" class=\"dataframe\">\n",
       "  <thead>\n",
       "    <tr style=\"text-align: right;\">\n",
       "      <th></th>\n",
       "      <th>product_name</th>\n",
       "      <th>mrp</th>\n",
       "      <th>price</th>\n",
       "      <th>product_category</th>\n",
       "      <th>description</th>\n",
       "      <th>total_sizes</th>\n",
       "      <th>available_size</th>\n",
       "      <th>color</th>\n",
       "      <th>color_group</th>\n",
       "      <th>product_category_wide</th>\n",
       "    </tr>\n",
       "  </thead>\n",
       "  <tbody>\n",
       "    <tr>\n",
       "      <th>0</th>\n",
       "      <td>Very Sexy Strappy Lace Thong Panty</td>\n",
       "      <td>14.5</td>\n",
       "      <td>14.5</td>\n",
       "      <td>Strappy Lace Thong Panty</td>\n",
       "      <td>Lots of cheek peek, pretty lace, a strappy bac...</td>\n",
       "      <td>[\"XS\", \"S\", \"M\", \"L\", \"XL\"]</td>\n",
       "      <td>S</td>\n",
       "      <td>peach melba</td>\n",
       "      <td>pink</td>\n",
       "      <td>panties</td>\n",
       "    </tr>\n",
       "    <tr>\n",
       "      <th>1</th>\n",
       "      <td>Very Sexy Strappy Lace Thong Panty</td>\n",
       "      <td>14.5</td>\n",
       "      <td>14.5</td>\n",
       "      <td>Strappy Lace Thong Panty</td>\n",
       "      <td>Lots of cheek peek, pretty lace, a strappy bac...</td>\n",
       "      <td>[\"XS\", \"S\", \"M\", \"L\", \"XL\"]</td>\n",
       "      <td>S</td>\n",
       "      <td>black</td>\n",
       "      <td>black</td>\n",
       "      <td>panties</td>\n",
       "    </tr>\n",
       "    <tr>\n",
       "      <th>2</th>\n",
       "      <td>Very Sexy Strappy Lace Thong Panty</td>\n",
       "      <td>14.5</td>\n",
       "      <td>14.5</td>\n",
       "      <td>Strappy Lace Thong Panty</td>\n",
       "      <td>Lots of cheek peek, pretty lace, a strappy bac...</td>\n",
       "      <td>[\"XS\", \"S\", \"M\", \"L\", \"XL\"]</td>\n",
       "      <td>S</td>\n",
       "      <td>plum dust</td>\n",
       "      <td>nude</td>\n",
       "      <td>panties</td>\n",
       "    </tr>\n",
       "    <tr>\n",
       "      <th>3</th>\n",
       "      <td>Very Sexy Strappy Lace Thong Panty</td>\n",
       "      <td>14.5</td>\n",
       "      <td>14.5</td>\n",
       "      <td>Strappy Lace Thong Panty</td>\n",
       "      <td>Lots of cheek peek, pretty lace, a strappy bac...</td>\n",
       "      <td>[\"XS\", \"S\", \"M\", \"L\", \"XL\"]</td>\n",
       "      <td>S</td>\n",
       "      <td>ensign blue</td>\n",
       "      <td>blue</td>\n",
       "      <td>panties</td>\n",
       "    </tr>\n",
       "    <tr>\n",
       "      <th>4</th>\n",
       "      <td>Very Sexy Strappy Lace Thong Panty</td>\n",
       "      <td>14.5</td>\n",
       "      <td>14.5</td>\n",
       "      <td>Strappy Lace Thong Panty</td>\n",
       "      <td>Lots of cheek peek, pretty lace, a strappy bac...</td>\n",
       "      <td>[\"XS\", \"S\", \"M\", \"L\", \"XL\"]</td>\n",
       "      <td>S</td>\n",
       "      <td>fair orchid</td>\n",
       "      <td>pink</td>\n",
       "      <td>panties</td>\n",
       "    </tr>\n",
       "  </tbody>\n",
       "</table>\n",
       "</div>"
      ],
      "text/plain": [
       "                         product_name   mrp  price          product_category                                        description                  total_sizes available_size        color color_group product_category_wide\n",
       "0  Very Sexy Strappy Lace Thong Panty  14.5   14.5  Strappy Lace Thong Panty  Lots of cheek peek, pretty lace, a strappy bac...  [\"XS\", \"S\", \"M\", \"L\", \"XL\"]              S  peach melba        pink               panties\n",
       "1  Very Sexy Strappy Lace Thong Panty  14.5   14.5  Strappy Lace Thong Panty  Lots of cheek peek, pretty lace, a strappy bac...  [\"XS\", \"S\", \"M\", \"L\", \"XL\"]              S        black       black               panties\n",
       "2  Very Sexy Strappy Lace Thong Panty  14.5   14.5  Strappy Lace Thong Panty  Lots of cheek peek, pretty lace, a strappy bac...  [\"XS\", \"S\", \"M\", \"L\", \"XL\"]              S    plum dust        nude               panties\n",
       "3  Very Sexy Strappy Lace Thong Panty  14.5   14.5  Strappy Lace Thong Panty  Lots of cheek peek, pretty lace, a strappy bac...  [\"XS\", \"S\", \"M\", \"L\", \"XL\"]              S  ensign blue        blue               panties\n",
       "4  Very Sexy Strappy Lace Thong Panty  14.5   14.5  Strappy Lace Thong Panty  Lots of cheek peek, pretty lace, a strappy bac...  [\"XS\", \"S\", \"M\", \"L\", \"XL\"]              S  fair orchid        pink               panties"
      ]
     },
     "execution_count": 29,
     "metadata": {},
     "output_type": "execute_result"
    }
   ],
   "source": [
    "victoria_secret_s.head()"
   ]
  },
  {
   "cell_type": "code",
   "execution_count": 30,
   "metadata": {},
   "outputs": [],
   "source": [
    "def univariate_piechart(column):\n",
    "    plt.figure(figsize=(10,8))\n",
    "    colors = sns.color_palette('bright')[0:20]\n",
    "    victoria_secret_s[column].value_counts()[:10].plot.pie(autopct='%1.1f%%', shadow=True, subplots=True)\n",
    "    plt.legend(loc='upper right')\n",
    "    plt.show()"
   ]
  },
  {
   "cell_type": "code",
   "execution_count": 31,
   "metadata": {},
   "outputs": [
    {
     "data": {
      "image/png": "[encoded data removed]",
      "text/plain": [
       "<Figure size 720x576 with 1 Axes>"
      ]
     },
     "metadata": {},
     "output_type": "display_data"
    }
   ],
   "source": [
    "# Pie chart for available sizes\n",
    "univariate_piechart('available_size')"
   ]
  },
  {
   "cell_type": "code",
   "execution_count": 32,
   "metadata": {},
   "outputs": [
    {
     "data": {
      "image/png": "[encoded data removed]",
      "text/plain": [
       "<Figure size 720x576 with 1 Axes>"
      ]
     },
     "metadata": {},
     "output_type": "display_data"
    }
   ],
   "source": [
    "# Pie chart for product categories\n",
    "univariate_piechart('product_category_wide')"
   ]
  },
  {
   "cell_type": "code",
   "execution_count": 33,
   "metadata": {},
   "outputs": [
    {
     "data": {
      "image/png": "[encoded data removed]",
      "text/plain": [
       "<Figure size 720x576 with 1 Axes>"
      ]
     },
     "metadata": {},
     "output_type": "display_data"
    }
   ],
   "source": [
    "# Pie chart for color\n",
    "univariate_piechart('color_group')"
   ]
  },
  {
   "cell_type": "markdown",
   "metadata": {},
   "source": [
    "## Bivariate Analysis"
   ]
  },
  {
   "cell_type": "code",
   "execution_count": 34,
   "metadata": {},
   "outputs": [
    {
     "data": {
      "text/html": [
       "<div>\n",
       "<style scoped>\n",
       "    .dataframe tbody tr th:only-of-type {\n",
       "        vertical-align: middle;\n",
       "    }\n",
       "\n",
       "    .dataframe tbody tr th {\n",
       "        vertical-align: top;\n",
       "    }\n",
       "\n",
       "    .dataframe thead th {\n",
       "        text-align: right;\n",
       "    }\n",
       "</style>\n",
       "<table border=\"1\" class=\"dataframe\">\n",
       "  <thead>\n",
       "    <tr style=\"text-align: right;\">\n",
       "      <th></th>\n",
       "      <th>product_name</th>\n",
       "      <th>mrp</th>\n",
       "      <th>price</th>\n",
       "      <th>product_category</th>\n",
       "      <th>description</th>\n",
       "      <th>total_sizes</th>\n",
       "      <th>available_size</th>\n",
       "      <th>color</th>\n",
       "      <th>color_group</th>\n",
       "      <th>product_category_wide</th>\n",
       "    </tr>\n",
       "  </thead>\n",
       "  <tbody>\n",
       "    <tr>\n",
       "      <th>0</th>\n",
       "      <td>Very Sexy Strappy Lace Thong Panty</td>\n",
       "      <td>14.5</td>\n",
       "      <td>14.5</td>\n",
       "      <td>Strappy Lace Thong Panty</td>\n",
       "      <td>Lots of cheek peek, pretty lace, a strappy bac...</td>\n",
       "      <td>[\"XS\", \"S\", \"M\", \"L\", \"XL\"]</td>\n",
       "      <td>S</td>\n",
       "      <td>peach melba</td>\n",
       "      <td>pink</td>\n",
       "      <td>panties</td>\n",
       "    </tr>\n",
       "    <tr>\n",
       "      <th>1</th>\n",
       "      <td>Very Sexy Strappy Lace Thong Panty</td>\n",
       "      <td>14.5</td>\n",
       "      <td>14.5</td>\n",
       "      <td>Strappy Lace Thong Panty</td>\n",
       "      <td>Lots of cheek peek, pretty lace, a strappy bac...</td>\n",
       "      <td>[\"XS\", \"S\", \"M\", \"L\", \"XL\"]</td>\n",
       "      <td>S</td>\n",
       "      <td>black</td>\n",
       "      <td>black</td>\n",
       "      <td>panties</td>\n",
       "    </tr>\n",
       "    <tr>\n",
       "      <th>2</th>\n",
       "      <td>Very Sexy Strappy Lace Thong Panty</td>\n",
       "      <td>14.5</td>\n",
       "      <td>14.5</td>\n",
       "      <td>Strappy Lace Thong Panty</td>\n",
       "      <td>Lots of cheek peek, pretty lace, a strappy bac...</td>\n",
       "      <td>[\"XS\", \"S\", \"M\", \"L\", \"XL\"]</td>\n",
       "      <td>S</td>\n",
       "      <td>plum dust</td>\n",
       "      <td>nude</td>\n",
       "      <td>panties</td>\n",
       "    </tr>\n",
       "    <tr>\n",
       "      <th>3</th>\n",
       "      <td>Very Sexy Strappy Lace Thong Panty</td>\n",
       "      <td>14.5</td>\n",
       "      <td>14.5</td>\n",
       "      <td>Strappy Lace Thong Panty</td>\n",
       "      <td>Lots of cheek peek, pretty lace, a strappy bac...</td>\n",
       "      <td>[\"XS\", \"S\", \"M\", \"L\", \"XL\"]</td>\n",
       "      <td>S</td>\n",
       "      <td>ensign blue</td>\n",
       "      <td>blue</td>\n",
       "      <td>panties</td>\n",
       "    </tr>\n",
       "    <tr>\n",
       "      <th>4</th>\n",
       "      <td>Very Sexy Strappy Lace Thong Panty</td>\n",
       "      <td>14.5</td>\n",
       "      <td>14.5</td>\n",
       "      <td>Strappy Lace Thong Panty</td>\n",
       "      <td>Lots of cheek peek, pretty lace, a strappy bac...</td>\n",
       "      <td>[\"XS\", \"S\", \"M\", \"L\", \"XL\"]</td>\n",
       "      <td>S</td>\n",
       "      <td>fair orchid</td>\n",
       "      <td>pink</td>\n",
       "      <td>panties</td>\n",
       "    </tr>\n",
       "  </tbody>\n",
       "</table>\n",
       "</div>"
      ],
      "text/plain": [
       "                         product_name   mrp  price          product_category                                        description                  total_sizes available_size        color color_group product_category_wide\n",
       "0  Very Sexy Strappy Lace Thong Panty  14.5   14.5  Strappy Lace Thong Panty  Lots of cheek peek, pretty lace, a strappy bac...  [\"XS\", \"S\", \"M\", \"L\", \"XL\"]              S  peach melba        pink               panties\n",
       "1  Very Sexy Strappy Lace Thong Panty  14.5   14.5  Strappy Lace Thong Panty  Lots of cheek peek, pretty lace, a strappy bac...  [\"XS\", \"S\", \"M\", \"L\", \"XL\"]              S        black       black               panties\n",
       "2  Very Sexy Strappy Lace Thong Panty  14.5   14.5  Strappy Lace Thong Panty  Lots of cheek peek, pretty lace, a strappy bac...  [\"XS\", \"S\", \"M\", \"L\", \"XL\"]              S    plum dust        nude               panties\n",
       "3  Very Sexy Strappy Lace Thong Panty  14.5   14.5  Strappy Lace Thong Panty  Lots of cheek peek, pretty lace, a strappy bac...  [\"XS\", \"S\", \"M\", \"L\", \"XL\"]              S  ensign blue        blue               panties\n",
       "4  Very Sexy Strappy Lace Thong Panty  14.5   14.5  Strappy Lace Thong Panty  Lots of cheek peek, pretty lace, a strappy bac...  [\"XS\", \"S\", \"M\", \"L\", \"XL\"]              S  fair orchid        pink               panties"
      ]
     },
     "execution_count": 34,
     "metadata": {},
     "output_type": "execute_result"
    }
   ],
   "source": [
    "victoria_secret_s.head()"
   ]
  },
  {
   "cell_type": "code",
   "execution_count": 35,
   "metadata": {},
   "outputs": [],
   "source": [
    "def bivariate_boxplot(column_x, column_y, x, y):\n",
    "    plt.figure(figsize=(x,y))\n",
    "    ax = sns.boxplot(x = column_x, y = column_y, data = victoria_secret_s)\n",
    "    ax.set_xticklabels(ax.get_xticklabels(),rotation=15)\n",
    "    plt.show()"
   ]
  },
  {
   "cell_type": "code",
   "execution_count": 36,
   "metadata": {},
   "outputs": [
    {
     "data": {
      "image/png": "[encoded data removed]",
      "text/plain": [
       "<Figure size 864x504 with 1 Axes>"
      ]
     },
     "metadata": {
      "needs_background": "light"
     },
     "output_type": "display_data"
    }
   ],
   "source": [
    "# mrp range for products category\n",
    "bivariate_boxplot('product_category_wide', 'mrp', 12, 7)"
   ]
  },
  {
   "cell_type": "code",
   "execution_count": 37,
   "metadata": {},
   "outputs": [
    {
     "data": {
      "image/png": "[encoded data removed]",
      "text/plain": [
       "<Figure size 864x504 with 1 Axes>"
      ]
     },
     "metadata": {
      "needs_background": "light"
     },
     "output_type": "display_data"
    }
   ],
   "source": [
    "# price range for products category\n",
    "bivariate_boxplot('product_category_wide', 'price', 12, 7)"
   ]
  },
  {
   "cell_type": "code",
   "execution_count": 38,
   "metadata": {},
   "outputs": [
    {
     "data": {
      "image/png": "[encoded data removed]",
      "text/plain": [
       "<Figure size 864x504 with 1 Axes>"
      ]
     },
     "metadata": {
      "needs_background": "light"
     },
     "output_type": "display_data"
    }
   ],
   "source": [
    "# mrp range for products category\n",
    "bivariate_boxplot('color_group', 'mrp', 12, 7)"
   ]
  },
  {
   "cell_type": "code",
   "execution_count": 39,
   "metadata": {},
   "outputs": [
    {
     "data": {
      "image/png": "[encoded data removed]",
      "text/plain": [
       "<Figure size 864x504 with 1 Axes>"
      ]
     },
     "metadata": {
      "needs_background": "light"
     },
     "output_type": "display_data"
    }
   ],
   "source": [
    "# price range for products category\n",
    "bivariate_boxplot('color_group', 'price', 12, 7)"
   ]
  },
  {
   "cell_type": "code",
   "execution_count": 40,
   "metadata": {},
   "outputs": [
    {
     "data": {
      "image/png": "[encoded data removed]",
      "text/plain": [
       "<Figure size 1080x576 with 4 Axes>"
      ]
     },
     "metadata": {
      "needs_background": "light"
     },
     "output_type": "display_data"
    }
   ],
   "source": [
    "vst = victoria_secret_s.groupby(['product_category_wide', 'color_group'])['product_category_wide'].agg({'count'})\n",
    "vst = vst['count'].groupby('product_category_wide', group_keys=False).nlargest(3)\n",
    "vst = pd.DataFrame(vst).reset_index(drop=False)\n",
    "\n",
    "\n",
    "fig, ax = plt.subplots(2,2,figsize=(15, 8))\n",
    "fig.suptitle('No of Colors across product categry',fontsize=15,y=1)\n",
    "sns.barplot(x = 'product_category_wide', hue='color_group', y = 'count', data = vst.iloc[:9], ax = ax[0][0])\n",
    "sns.barplot(x = 'product_category_wide', hue='color_group', y = 'count', data = vst.iloc[9:18], ax = ax[0][1])\n",
    "sns.barplot(x = 'product_category_wide', hue='color_group', y = 'count', data = vst.iloc[18:27], ax = ax[1][0])\n",
    "sns.barplot(x = 'product_category_wide', hue='color_group', y = 'count', data = vst.iloc[27:], ax = ax[1][1])\n",
    "plt.show()"
   ]
  },
  {
   "cell_type": "markdown",
   "metadata": {},
   "source": [
    "# Feature Engineering"
   ]
  },
  {
   "cell_type": "code",
   "execution_count": 41,
   "metadata": {},
   "outputs": [
    {
     "data": {
      "text/html": [
       "<div>\n",
       "<style scoped>\n",
       "    .dataframe tbody tr th:only-of-type {\n",
       "        vertical-align: middle;\n",
       "    }\n",
       "\n",
       "    .dataframe tbody tr th {\n",
       "        vertical-align: top;\n",
       "    }\n",
       "\n",
       "    .dataframe thead th {\n",
       "        text-align: right;\n",
       "    }\n",
       "</style>\n",
       "<table border=\"1\" class=\"dataframe\">\n",
       "  <thead>\n",
       "    <tr style=\"text-align: right;\">\n",
       "      <th></th>\n",
       "      <th>product_name</th>\n",
       "      <th>mrp</th>\n",
       "      <th>price</th>\n",
       "      <th>product_category</th>\n",
       "      <th>description</th>\n",
       "      <th>total_sizes</th>\n",
       "      <th>available_size</th>\n",
       "      <th>color</th>\n",
       "      <th>color_group</th>\n",
       "      <th>product_category_wide</th>\n",
       "    </tr>\n",
       "  </thead>\n",
       "  <tbody>\n",
       "    <tr>\n",
       "      <th>0</th>\n",
       "      <td>Very Sexy Strappy Lace Thong Panty</td>\n",
       "      <td>14.5</td>\n",
       "      <td>14.5</td>\n",
       "      <td>Strappy Lace Thong Panty</td>\n",
       "      <td>Lots of cheek peek, pretty lace, a strappy bac...</td>\n",
       "      <td>[\"XS\", \"S\", \"M\", \"L\", \"XL\"]</td>\n",
       "      <td>S</td>\n",
       "      <td>peach melba</td>\n",
       "      <td>pink</td>\n",
       "      <td>panties</td>\n",
       "    </tr>\n",
       "    <tr>\n",
       "      <th>1</th>\n",
       "      <td>Very Sexy Strappy Lace Thong Panty</td>\n",
       "      <td>14.5</td>\n",
       "      <td>14.5</td>\n",
       "      <td>Strappy Lace Thong Panty</td>\n",
       "      <td>Lots of cheek peek, pretty lace, a strappy bac...</td>\n",
       "      <td>[\"XS\", \"S\", \"M\", \"L\", \"XL\"]</td>\n",
       "      <td>S</td>\n",
       "      <td>black</td>\n",
       "      <td>black</td>\n",
       "      <td>panties</td>\n",
       "    </tr>\n",
       "    <tr>\n",
       "      <th>2</th>\n",
       "      <td>Very Sexy Strappy Lace Thong Panty</td>\n",
       "      <td>14.5</td>\n",
       "      <td>14.5</td>\n",
       "      <td>Strappy Lace Thong Panty</td>\n",
       "      <td>Lots of cheek peek, pretty lace, a strappy bac...</td>\n",
       "      <td>[\"XS\", \"S\", \"M\", \"L\", \"XL\"]</td>\n",
       "      <td>S</td>\n",
       "      <td>plum dust</td>\n",
       "      <td>nude</td>\n",
       "      <td>panties</td>\n",
       "    </tr>\n",
       "    <tr>\n",
       "      <th>3</th>\n",
       "      <td>Very Sexy Strappy Lace Thong Panty</td>\n",
       "      <td>14.5</td>\n",
       "      <td>14.5</td>\n",
       "      <td>Strappy Lace Thong Panty</td>\n",
       "      <td>Lots of cheek peek, pretty lace, a strappy bac...</td>\n",
       "      <td>[\"XS\", \"S\", \"M\", \"L\", \"XL\"]</td>\n",
       "      <td>S</td>\n",
       "      <td>ensign blue</td>\n",
       "      <td>blue</td>\n",
       "      <td>panties</td>\n",
       "    </tr>\n",
       "    <tr>\n",
       "      <th>4</th>\n",
       "      <td>Very Sexy Strappy Lace Thong Panty</td>\n",
       "      <td>14.5</td>\n",
       "      <td>14.5</td>\n",
       "      <td>Strappy Lace Thong Panty</td>\n",
       "      <td>Lots of cheek peek, pretty lace, a strappy bac...</td>\n",
       "      <td>[\"XS\", \"S\", \"M\", \"L\", \"XL\"]</td>\n",
       "      <td>S</td>\n",
       "      <td>fair orchid</td>\n",
       "      <td>pink</td>\n",
       "      <td>panties</td>\n",
       "    </tr>\n",
       "  </tbody>\n",
       "</table>\n",
       "</div>"
      ],
      "text/plain": [
       "                         product_name   mrp  price          product_category                                        description                  total_sizes available_size        color color_group product_category_wide\n",
       "0  Very Sexy Strappy Lace Thong Panty  14.5   14.5  Strappy Lace Thong Panty  Lots of cheek peek, pretty lace, a strappy bac...  [\"XS\", \"S\", \"M\", \"L\", \"XL\"]              S  peach melba        pink               panties\n",
       "1  Very Sexy Strappy Lace Thong Panty  14.5   14.5  Strappy Lace Thong Panty  Lots of cheek peek, pretty lace, a strappy bac...  [\"XS\", \"S\", \"M\", \"L\", \"XL\"]              S        black       black               panties\n",
       "2  Very Sexy Strappy Lace Thong Panty  14.5   14.5  Strappy Lace Thong Panty  Lots of cheek peek, pretty lace, a strappy bac...  [\"XS\", \"S\", \"M\", \"L\", \"XL\"]              S    plum dust        nude               panties\n",
       "3  Very Sexy Strappy Lace Thong Panty  14.5   14.5  Strappy Lace Thong Panty  Lots of cheek peek, pretty lace, a strappy bac...  [\"XS\", \"S\", \"M\", \"L\", \"XL\"]              S  ensign blue        blue               panties\n",
       "4  Very Sexy Strappy Lace Thong Panty  14.5   14.5  Strappy Lace Thong Panty  Lots of cheek peek, pretty lace, a strappy bac...  [\"XS\", \"S\", \"M\", \"L\", \"XL\"]              S  fair orchid        pink               panties"
      ]
     },
     "execution_count": 41,
     "metadata": {},
     "output_type": "execute_result"
    }
   ],
   "source": [
    "victoria_secret_s.head()"
   ]
  },
  {
   "cell_type": "code",
   "execution_count": 42,
   "metadata": {},
   "outputs": [
    {
     "data": {
      "text/html": [
       "<div>\n",
       "<style scoped>\n",
       "    .dataframe tbody tr th:only-of-type {\n",
       "        vertical-align: middle;\n",
       "    }\n",
       "\n",
       "    .dataframe tbody tr th {\n",
       "        vertical-align: top;\n",
       "    }\n",
       "\n",
       "    .dataframe thead th {\n",
       "        text-align: right;\n",
       "    }\n",
       "</style>\n",
       "<table border=\"1\" class=\"dataframe\">\n",
       "  <thead>\n",
       "    <tr style=\"text-align: right;\">\n",
       "      <th></th>\n",
       "      <th>product_name</th>\n",
       "      <th>available_size</th>\n",
       "      <th>size_count</th>\n",
       "    </tr>\n",
       "  </thead>\n",
       "  <tbody>\n",
       "    <tr>\n",
       "      <th>0</th>\n",
       "      <td>Allover Lace from Cotton Lingerie NEW! Dotted ...</td>\n",
       "      <td>L</td>\n",
       "      <td>2</td>\n",
       "    </tr>\n",
       "    <tr>\n",
       "      <th>1</th>\n",
       "      <td>Allover Lace from Cotton Lingerie NEW! Dotted ...</td>\n",
       "      <td>M</td>\n",
       "      <td>2</td>\n",
       "    </tr>\n",
       "    <tr>\n",
       "      <th>2</th>\n",
       "      <td>Allover Lace from Cotton Lingerie NEW! Dotted ...</td>\n",
       "      <td>S</td>\n",
       "      <td>2</td>\n",
       "    </tr>\n",
       "    <tr>\n",
       "      <th>3</th>\n",
       "      <td>Allover Lace from Cotton Lingerie NEW! Dotted ...</td>\n",
       "      <td>XL</td>\n",
       "      <td>2</td>\n",
       "    </tr>\n",
       "    <tr>\n",
       "      <th>4</th>\n",
       "      <td>Allover Lace from Cotton Lingerie NEW! Dotted ...</td>\n",
       "      <td>XS</td>\n",
       "      <td>2</td>\n",
       "    </tr>\n",
       "  </tbody>\n",
       "</table>\n",
       "</div>"
      ],
      "text/plain": [
       "                                        product_name available_size  size_count\n",
       "0  Allover Lace from Cotton Lingerie NEW! Dotted ...              L           2\n",
       "1  Allover Lace from Cotton Lingerie NEW! Dotted ...              M           2\n",
       "2  Allover Lace from Cotton Lingerie NEW! Dotted ...              S           2\n",
       "3  Allover Lace from Cotton Lingerie NEW! Dotted ...             XL           2\n",
       "4  Allover Lace from Cotton Lingerie NEW! Dotted ...             XS           2"
      ]
     },
     "execution_count": 42,
     "metadata": {},
     "output_type": "execute_result"
    }
   ],
   "source": [
    "# Calculating the size count available for individual product.\n",
    "size_count = victoria_secret_s.groupby(['product_name', 'available_size'])['product_name'].agg({'count'})\n",
    "size_count.columns = ['size_count']\n",
    "size_count.reset_index(inplace = True)\n",
    "size_count.head()"
   ]
  },
  {
   "cell_type": "code",
   "execution_count": 43,
   "metadata": {},
   "outputs": [
    {
     "data": {
      "text/html": [
       "<div>\n",
       "<style scoped>\n",
       "    .dataframe tbody tr th:only-of-type {\n",
       "        vertical-align: middle;\n",
       "    }\n",
       "\n",
       "    .dataframe tbody tr th {\n",
       "        vertical-align: top;\n",
       "    }\n",
       "\n",
       "    .dataframe thead th {\n",
       "        text-align: right;\n",
       "    }\n",
       "</style>\n",
       "<table border=\"1\" class=\"dataframe\">\n",
       "  <thead>\n",
       "    <tr style=\"text-align: right;\">\n",
       "      <th></th>\n",
       "      <th>size_index</th>\n",
       "    </tr>\n",
       "    <tr>\n",
       "      <th>available_size</th>\n",
       "      <th></th>\n",
       "    </tr>\n",
       "  </thead>\n",
       "  <tbody>\n",
       "    <tr>\n",
       "      <th>30A</th>\n",
       "      <td>0.010293</td>\n",
       "    </tr>\n",
       "    <tr>\n",
       "      <th>30B</th>\n",
       "      <td>0.010380</td>\n",
       "    </tr>\n",
       "    <tr>\n",
       "      <th>30C</th>\n",
       "      <td>0.010574</td>\n",
       "    </tr>\n",
       "    <tr>\n",
       "      <th>32A</th>\n",
       "      <td>0.028507</td>\n",
       "    </tr>\n",
       "    <tr>\n",
       "      <th>32AA</th>\n",
       "      <td>0.006991</td>\n",
       "    </tr>\n",
       "  </tbody>\n",
       "</table>\n",
       "</div>"
      ],
      "text/plain": [
       "                size_index\n",
       "available_size            \n",
       "30A               0.010293\n",
       "30B               0.010380\n",
       "30C               0.010574\n",
       "32A               0.028507\n",
       "32AA              0.006991"
      ]
     },
     "execution_count": 43,
     "metadata": {},
     "output_type": "execute_result"
    }
   ],
   "source": [
    "# Calculating the size count for each available size.\n",
    "size_index = victoria_secret_s.groupby('available_size')['available_size'].agg({'count'})/victoria_secret_s.shape[0]\n",
    "size_index.columns = ['size_index']\n",
    "size_index.head()"
   ]
  },
  {
   "cell_type": "code",
   "execution_count": 44,
   "metadata": {},
   "outputs": [
    {
     "data": {
      "text/html": [
       "<div>\n",
       "<style scoped>\n",
       "    .dataframe tbody tr th:only-of-type {\n",
       "        vertical-align: middle;\n",
       "    }\n",
       "\n",
       "    .dataframe tbody tr th {\n",
       "        vertical-align: top;\n",
       "    }\n",
       "\n",
       "    .dataframe thead th {\n",
       "        text-align: right;\n",
       "    }\n",
       "</style>\n",
       "<table border=\"1\" class=\"dataframe\">\n",
       "  <thead>\n",
       "    <tr style=\"text-align: right;\">\n",
       "      <th></th>\n",
       "      <th>product_name</th>\n",
       "      <th>color</th>\n",
       "      <th>color_count</th>\n",
       "    </tr>\n",
       "  </thead>\n",
       "  <tbody>\n",
       "    <tr>\n",
       "      <th>0</th>\n",
       "      <td>Allover Lace from Cotton Lingerie NEW! Dotted ...</td>\n",
       "      <td>black</td>\n",
       "      <td>5</td>\n",
       "    </tr>\n",
       "    <tr>\n",
       "      <th>1</th>\n",
       "      <td>Allover Lace from Cotton Lingerie NEW! Dotted ...</td>\n",
       "      <td>rose luster</td>\n",
       "      <td>5</td>\n",
       "    </tr>\n",
       "    <tr>\n",
       "      <th>2</th>\n",
       "      <td>Allover Lace from Cotton Lingerie NEW! Dotted ...</td>\n",
       "      <td>black</td>\n",
       "      <td>5</td>\n",
       "    </tr>\n",
       "    <tr>\n",
       "      <th>3</th>\n",
       "      <td>Allover Lace from Cotton Lingerie NEW! Dotted ...</td>\n",
       "      <td>rose luster</td>\n",
       "      <td>5</td>\n",
       "    </tr>\n",
       "    <tr>\n",
       "      <th>4</th>\n",
       "      <td>Body by Victoria Cheekini Panty</td>\n",
       "      <td>black</td>\n",
       "      <td>10</td>\n",
       "    </tr>\n",
       "  </tbody>\n",
       "</table>\n",
       "</div>"
      ],
      "text/plain": [
       "                                        product_name        color  color_count\n",
       "0  Allover Lace from Cotton Lingerie NEW! Dotted ...        black            5\n",
       "1  Allover Lace from Cotton Lingerie NEW! Dotted ...  rose luster            5\n",
       "2  Allover Lace from Cotton Lingerie NEW! Dotted ...        black            5\n",
       "3  Allover Lace from Cotton Lingerie NEW! Dotted ...  rose luster            5\n",
       "4                    Body by Victoria Cheekini Panty        black           10"
      ]
     },
     "execution_count": 44,
     "metadata": {},
     "output_type": "execute_result"
    }
   ],
   "source": [
    "# Calculating the color count available for individual product.\n",
    "color_count = victoria_secret_s.groupby(['product_name', 'color'])['product_name'].agg({'count'})\n",
    "color_count.columns = ['color_count']\n",
    "color_count.reset_index(inplace = True)\n",
    "color_count.head()"
   ]
  },
  {
   "cell_type": "code",
   "execution_count": 45,
   "metadata": {},
   "outputs": [
    {
     "data": {
      "text/html": [
       "<div>\n",
       "<style scoped>\n",
       "    .dataframe tbody tr th:only-of-type {\n",
       "        vertical-align: middle;\n",
       "    }\n",
       "\n",
       "    .dataframe tbody tr th {\n",
       "        vertical-align: top;\n",
       "    }\n",
       "\n",
       "    .dataframe thead th {\n",
       "        text-align: right;\n",
       "    }\n",
       "</style>\n",
       "<table border=\"1\" class=\"dataframe\">\n",
       "  <thead>\n",
       "    <tr style=\"text-align: right;\">\n",
       "      <th></th>\n",
       "      <th>color_index</th>\n",
       "    </tr>\n",
       "    <tr>\n",
       "      <th>color</th>\n",
       "      <th></th>\n",
       "    </tr>\n",
       "  </thead>\n",
       "  <tbody>\n",
       "    <tr>\n",
       "      <th>2vn</th>\n",
       "      <td>0.000351</td>\n",
       "    </tr>\n",
       "    <tr>\n",
       "      <th>80s print</th>\n",
       "      <td>0.000790</td>\n",
       "    </tr>\n",
       "    <tr>\n",
       "      <th>abstract palm</th>\n",
       "      <td>0.000422</td>\n",
       "    </tr>\n",
       "    <tr>\n",
       "      <th>acid peel</th>\n",
       "      <td>0.000141</td>\n",
       "    </tr>\n",
       "    <tr>\n",
       "      <th>all star blue</th>\n",
       "      <td>0.000053</td>\n",
       "    </tr>\n",
       "  </tbody>\n",
       "</table>\n",
       "</div>"
      ],
      "text/plain": [
       "               color_index\n",
       "color                     \n",
       "2vn               0.000351\n",
       "80s print         0.000790\n",
       "abstract palm     0.000422\n",
       "acid peel         0.000141\n",
       "all star blue     0.000053"
      ]
     },
     "execution_count": 45,
     "metadata": {},
     "output_type": "execute_result"
    }
   ],
   "source": [
    "# Calculating the color count index using average of available color numbers.\n",
    "color_index = victoria_secret_s.groupby('color')['color'].agg({'count'})/victoria_secret_s.shape[0]\n",
    "color_index.columns = ['color_index']\n",
    "color_index.head()"
   ]
  },
  {
   "cell_type": "code",
   "execution_count": 46,
   "metadata": {},
   "outputs": [
    {
     "data": {
      "text/html": [
       "<div>\n",
       "<style scoped>\n",
       "    .dataframe tbody tr th:only-of-type {\n",
       "        vertical-align: middle;\n",
       "    }\n",
       "\n",
       "    .dataframe tbody tr th {\n",
       "        vertical-align: top;\n",
       "    }\n",
       "\n",
       "    .dataframe thead th {\n",
       "        text-align: right;\n",
       "    }\n",
       "</style>\n",
       "<table border=\"1\" class=\"dataframe\">\n",
       "  <thead>\n",
       "    <tr style=\"text-align: right;\">\n",
       "      <th></th>\n",
       "      <th>product_name</th>\n",
       "      <th>mrp</th>\n",
       "      <th>price</th>\n",
       "      <th>product_category</th>\n",
       "      <th>description</th>\n",
       "      <th>total_sizes</th>\n",
       "      <th>available_size</th>\n",
       "      <th>color</th>\n",
       "      <th>color_group</th>\n",
       "      <th>product_category_wide</th>\n",
       "      <th>total_sizes_count</th>\n",
       "      <th>size_count</th>\n",
       "      <th>size_index</th>\n",
       "      <th>size_weight</th>\n",
       "      <th>color_count</th>\n",
       "      <th>color_index</th>\n",
       "      <th>color_weight</th>\n",
       "    </tr>\n",
       "  </thead>\n",
       "  <tbody>\n",
       "    <tr>\n",
       "      <th>0</th>\n",
       "      <td>Very Sexy Strappy Lace Thong Panty</td>\n",
       "      <td>14.5</td>\n",
       "      <td>14.5</td>\n",
       "      <td>Strappy Lace Thong Panty</td>\n",
       "      <td>Lots of cheek peek, pretty lace, a strappy bac...</td>\n",
       "      <td>[\"XS\", \"S\", \"M\", \"L\", \"XL\"]</td>\n",
       "      <td>S</td>\n",
       "      <td>peach melba</td>\n",
       "      <td>pink</td>\n",
       "      <td>panties</td>\n",
       "      <td>5</td>\n",
       "      <td>7</td>\n",
       "      <td>0.069150</td>\n",
       "      <td>0.484052</td>\n",
       "      <td>5</td>\n",
       "      <td>0.006411</td>\n",
       "      <td>0.032055</td>\n",
       "    </tr>\n",
       "    <tr>\n",
       "      <th>1</th>\n",
       "      <td>Very Sexy Strappy Lace Thong Panty</td>\n",
       "      <td>14.5</td>\n",
       "      <td>14.5</td>\n",
       "      <td>Strappy Lace Thong Panty</td>\n",
       "      <td>Lots of cheek peek, pretty lace, a strappy bac...</td>\n",
       "      <td>[\"XS\", \"S\", \"M\", \"L\", \"XL\"]</td>\n",
       "      <td>XL</td>\n",
       "      <td>peach melba</td>\n",
       "      <td>pink</td>\n",
       "      <td>panties</td>\n",
       "      <td>5</td>\n",
       "      <td>7</td>\n",
       "      <td>0.042400</td>\n",
       "      <td>0.296800</td>\n",
       "      <td>5</td>\n",
       "      <td>0.006411</td>\n",
       "      <td>0.032055</td>\n",
       "    </tr>\n",
       "    <tr>\n",
       "      <th>2</th>\n",
       "      <td>Very Sexy Strappy Lace Thong Panty</td>\n",
       "      <td>14.5</td>\n",
       "      <td>14.5</td>\n",
       "      <td>Strappy Lace Thong Panty</td>\n",
       "      <td>Lots of cheek peek, pretty lace, a strappy bac...</td>\n",
       "      <td>[\"XS\", \"S\", \"M\", \"L\", \"XL\"]</td>\n",
       "      <td>XS</td>\n",
       "      <td>peach melba</td>\n",
       "      <td>pink</td>\n",
       "      <td>panties</td>\n",
       "      <td>5</td>\n",
       "      <td>7</td>\n",
       "      <td>0.067306</td>\n",
       "      <td>0.471142</td>\n",
       "      <td>5</td>\n",
       "      <td>0.006411</td>\n",
       "      <td>0.032055</td>\n",
       "    </tr>\n",
       "    <tr>\n",
       "      <th>3</th>\n",
       "      <td>Very Sexy Strappy Lace Thong Panty</td>\n",
       "      <td>14.5</td>\n",
       "      <td>14.5</td>\n",
       "      <td>Strappy Lace Thong Panty</td>\n",
       "      <td>Lots of cheek peek, pretty lace, a strappy bac...</td>\n",
       "      <td>[\"XS\", \"S\", \"M\", \"L\", \"XL\"]</td>\n",
       "      <td>L</td>\n",
       "      <td>peach melba</td>\n",
       "      <td>pink</td>\n",
       "      <td>panties</td>\n",
       "      <td>5</td>\n",
       "      <td>7</td>\n",
       "      <td>0.068325</td>\n",
       "      <td>0.478273</td>\n",
       "      <td>5</td>\n",
       "      <td>0.006411</td>\n",
       "      <td>0.032055</td>\n",
       "    </tr>\n",
       "    <tr>\n",
       "      <th>4</th>\n",
       "      <td>Very Sexy Strappy Lace Thong Panty</td>\n",
       "      <td>14.5</td>\n",
       "      <td>14.5</td>\n",
       "      <td>Strappy Lace Thong Panty</td>\n",
       "      <td>Lots of cheek peek, pretty lace, a strappy bac...</td>\n",
       "      <td>[\"XS\", \"S\", \"M\", \"L\", \"XL\"]</td>\n",
       "      <td>M</td>\n",
       "      <td>peach melba</td>\n",
       "      <td>pink</td>\n",
       "      <td>panties</td>\n",
       "      <td>5</td>\n",
       "      <td>7</td>\n",
       "      <td>0.068852</td>\n",
       "      <td>0.481962</td>\n",
       "      <td>5</td>\n",
       "      <td>0.006411</td>\n",
       "      <td>0.032055</td>\n",
       "    </tr>\n",
       "  </tbody>\n",
       "</table>\n",
       "</div>"
      ],
      "text/plain": [
       "                         product_name   mrp  price          product_category                                        description                  total_sizes available_size        color color_group product_category_wide  total_sizes_count  size_count  size_index  size_weight  color_count  color_index  color_weight\n",
       "0  Very Sexy Strappy Lace Thong Panty  14.5   14.5  Strappy Lace Thong Panty  Lots of cheek peek, pretty lace, a strappy bac...  [\"XS\", \"S\", \"M\", \"L\", \"XL\"]              S  peach melba        pink               panties                  5           7    0.069150     0.484052            5     0.006411      0.032055\n",
       "1  Very Sexy Strappy Lace Thong Panty  14.5   14.5  Strappy Lace Thong Panty  Lots of cheek peek, pretty lace, a strappy bac...  [\"XS\", \"S\", \"M\", \"L\", \"XL\"]             XL  peach melba        pink               panties                  5           7    0.042400     0.296800            5     0.006411      0.032055\n",
       "2  Very Sexy Strappy Lace Thong Panty  14.5   14.5  Strappy Lace Thong Panty  Lots of cheek peek, pretty lace, a strappy bac...  [\"XS\", \"S\", \"M\", \"L\", \"XL\"]             XS  peach melba        pink               panties                  5           7    0.067306     0.471142            5     0.006411      0.032055\n",
       "3  Very Sexy Strappy Lace Thong Panty  14.5   14.5  Strappy Lace Thong Panty  Lots of cheek peek, pretty lace, a strappy bac...  [\"XS\", \"S\", \"M\", \"L\", \"XL\"]              L  peach melba        pink               panties                  5           7    0.068325     0.478273            5     0.006411      0.032055\n",
       "4  Very Sexy Strappy Lace Thong Panty  14.5   14.5  Strappy Lace Thong Panty  Lots of cheek peek, pretty lace, a strappy bac...  [\"XS\", \"S\", \"M\", \"L\", \"XL\"]              M  peach melba        pink               panties                  5           7    0.068852     0.481962            5     0.006411      0.032055"
      ]
     },
     "execution_count": 46,
     "metadata": {},
     "output_type": "execute_result"
    }
   ],
   "source": [
    "# Available Size Count\n",
    "victoria_secret_s['total_sizes_count'] = victoria_secret_s.total_sizes.apply(eval).apply(lambda x: len(x))\n",
    "\n",
    "# Count of sizes per product\n",
    "victoria_secret_s = pd.merge(left=victoria_secret_s, right=size_count, on=['product_name', 'available_size'])\n",
    "\n",
    "# Size Index for the particular size\n",
    "victoria_secret_s = pd.merge(left=victoria_secret_s, right=size_index, on='available_size')\n",
    "\n",
    "# Size Weight for each size per product\n",
    "victoria_secret_s['size_weight'] = victoria_secret_s['size_count'] * victoria_secret_s['size_index']\n",
    "\n",
    "# Count of colors per product\n",
    "victoria_secret_s = pd.merge(left=victoria_secret_s, right=color_count, on=['product_name', 'color'])\n",
    "\n",
    "# Color Index for the particular color\n",
    "victoria_secret_s = pd.merge(left=victoria_secret_s, right=color_index, on='color')\n",
    "\n",
    "# Color Weight for each color per product\n",
    "victoria_secret_s['color_weight'] = victoria_secret_s['color_count'] * victoria_secret_s['color_index']\n",
    "\n",
    "victoria_secret_s.head()"
   ]
  },
  {
   "cell_type": "code",
   "execution_count": 47,
   "metadata": {},
   "outputs": [
    {
     "data": {
      "text/html": [
       "<div>\n",
       "<style scoped>\n",
       "    .dataframe tbody tr th:only-of-type {\n",
       "        vertical-align: middle;\n",
       "    }\n",
       "\n",
       "    .dataframe tbody tr th {\n",
       "        vertical-align: top;\n",
       "    }\n",
       "\n",
       "    .dataframe thead th {\n",
       "        text-align: right;\n",
       "    }\n",
       "</style>\n",
       "<table border=\"1\" class=\"dataframe\">\n",
       "  <thead>\n",
       "    <tr style=\"text-align: right;\">\n",
       "      <th></th>\n",
       "      <th>product_name</th>\n",
       "      <th>product_category</th>\n",
       "      <th>description</th>\n",
       "      <th>product_category_group</th>\n",
       "      <th>mrp</th>\n",
       "      <th>price</th>\n",
       "      <th>size_popularity</th>\n",
       "      <th>color_popularity</th>\n",
       "    </tr>\n",
       "  </thead>\n",
       "  <tbody>\n",
       "    <tr>\n",
       "      <th>0</th>\n",
       "      <td>Allover Lace from Cotton Lingerie NEW! Dotted ...</td>\n",
       "      <td>Dotted Mesh Bikini Panty</td>\n",
       "      <td>Dotted mesh in the ultimate everyday shape mak...</td>\n",
       "      <td>panties</td>\n",
       "      <td>10.500000</td>\n",
       "      <td>10.500000</td>\n",
       "      <td>0.126413</td>\n",
       "      <td>0.154872</td>\n",
       "    </tr>\n",
       "    <tr>\n",
       "      <th>1</th>\n",
       "      <td>Allover Lace from Cotton Lingerie NEW! Dotted ...</td>\n",
       "      <td>Dotted Mesh Thong Panty</td>\n",
       "      <td>Dotted mesh in a sexy little shape makes this ...</td>\n",
       "      <td>panties</td>\n",
       "      <td>10.500000</td>\n",
       "      <td>10.500000</td>\n",
       "      <td>0.126413</td>\n",
       "      <td>0.154872</td>\n",
       "    </tr>\n",
       "    <tr>\n",
       "      <th>2</th>\n",
       "      <td>Body by Victoria Cheekini Panty</td>\n",
       "      <td>Cheekini Panty</td>\n",
       "      <td>The comfiest way to show a little cheek peek, ...</td>\n",
       "      <td>panties</td>\n",
       "      <td>14.500000</td>\n",
       "      <td>7.142542</td>\n",
       "      <td>0.754805</td>\n",
       "      <td>0.163567</td>\n",
       "    </tr>\n",
       "    <tr>\n",
       "      <th>3</th>\n",
       "      <td>Body by Victoria Daisy Lace Slip</td>\n",
       "      <td>Daisy Lace Slip</td>\n",
       "      <td>What dreams are made of: this little slip in f...</td>\n",
       "      <td>slip</td>\n",
       "      <td>52.000000</td>\n",
       "      <td>34.990000</td>\n",
       "      <td>0.126413</td>\n",
       "      <td>0.155092</td>\n",
       "    </tr>\n",
       "    <tr>\n",
       "      <th>4</th>\n",
       "      <td>Body by Victoria Demi Bra</td>\n",
       "      <td>Demi Bra</td>\n",
       "      <td>A lower cut makes this supersoft bra perfect f...</td>\n",
       "      <td>bras</td>\n",
       "      <td>50.617021</td>\n",
       "      <td>50.617021</td>\n",
       "      <td>1.535736</td>\n",
       "      <td>0.311891</td>\n",
       "    </tr>\n",
       "  </tbody>\n",
       "</table>\n",
       "</div>"
      ],
      "text/plain": [
       "                                        product_name          product_category                                        description product_category_group        mrp      price  size_popularity  color_popularity\n",
       "0  Allover Lace from Cotton Lingerie NEW! Dotted ...  Dotted Mesh Bikini Panty  Dotted mesh in the ultimate everyday shape mak...                panties  10.500000  10.500000         0.126413          0.154872\n",
       "1  Allover Lace from Cotton Lingerie NEW! Dotted ...   Dotted Mesh Thong Panty  Dotted mesh in a sexy little shape makes this ...                panties  10.500000  10.500000         0.126413          0.154872\n",
       "2                    Body by Victoria Cheekini Panty            Cheekini Panty  The comfiest way to show a little cheek peek, ...                panties  14.500000   7.142542         0.754805          0.163567\n",
       "3                   Body by Victoria Daisy Lace Slip           Daisy Lace Slip  What dreams are made of: this little slip in f...                   slip  52.000000  34.990000         0.126413          0.155092\n",
       "4                          Body by Victoria Demi Bra                  Demi Bra  A lower cut makes this supersoft bra perfect f...                   bras  50.617021  50.617021         1.535736          0.311891"
      ]
     },
     "execution_count": 47,
     "metadata": {},
     "output_type": "execute_result"
    }
   ],
   "source": [
    "# Calculation of size_popularity and color_popularity\n",
    "victoria_secret_data = victoria_secret_s[['product_name', 'mrp', 'price', 'product_category', \n",
    "                           'description', 'product_category_wide', 'size_weight', 'color_weight']]\n",
    "victoria_secret_data = victoria_secret_data.groupby(['product_name', 'product_category', \n",
    "                           'description', 'product_category_wide']).mean()\n",
    "victoria_secret_data.reset_index(inplace=True)\n",
    "victoria_secret_data.columns = ['product_name', 'product_category', 'description', 'product_category_group', \n",
    "                'mrp', 'price', 'size_popularity', 'color_popularity']\n",
    "victoria_secret_data.head()"
   ]
  },
  {
   "cell_type": "code",
   "execution_count": 48,
   "metadata": {},
   "outputs": [
    {
     "data": {
      "text/html": [
       "<div>\n",
       "<style scoped>\n",
       "    .dataframe tbody tr th:only-of-type {\n",
       "        vertical-align: middle;\n",
       "    }\n",
       "\n",
       "    .dataframe tbody tr th {\n",
       "        vertical-align: top;\n",
       "    }\n",
       "\n",
       "    .dataframe thead th {\n",
       "        text-align: right;\n",
       "    }\n",
       "</style>\n",
       "<table border=\"1\" class=\"dataframe\">\n",
       "  <thead>\n",
       "    <tr style=\"text-align: right;\">\n",
       "      <th></th>\n",
       "      <th>product_name</th>\n",
       "      <th>product_category</th>\n",
       "      <th>description</th>\n",
       "      <th>product_category_group</th>\n",
       "      <th>mrp</th>\n",
       "      <th>price</th>\n",
       "      <th>size_popularity</th>\n",
       "      <th>color_popularity</th>\n",
       "      <th>%discount</th>\n",
       "    </tr>\n",
       "  </thead>\n",
       "  <tbody>\n",
       "    <tr>\n",
       "      <th>0</th>\n",
       "      <td>Allover Lace from Cotton Lingerie NEW! Dotted ...</td>\n",
       "      <td>Dotted Mesh Bikini Panty</td>\n",
       "      <td>Dotted mesh in the ultimate everyday shape mak...</td>\n",
       "      <td>panties</td>\n",
       "      <td>10.500000</td>\n",
       "      <td>10.500000</td>\n",
       "      <td>0.126413</td>\n",
       "      <td>0.154872</td>\n",
       "      <td>0.00</td>\n",
       "    </tr>\n",
       "    <tr>\n",
       "      <th>1</th>\n",
       "      <td>Allover Lace from Cotton Lingerie NEW! Dotted ...</td>\n",
       "      <td>Dotted Mesh Thong Panty</td>\n",
       "      <td>Dotted mesh in a sexy little shape makes this ...</td>\n",
       "      <td>panties</td>\n",
       "      <td>10.500000</td>\n",
       "      <td>10.500000</td>\n",
       "      <td>0.126413</td>\n",
       "      <td>0.154872</td>\n",
       "      <td>0.00</td>\n",
       "    </tr>\n",
       "    <tr>\n",
       "      <th>2</th>\n",
       "      <td>Body by Victoria Cheekini Panty</td>\n",
       "      <td>Cheekini Panty</td>\n",
       "      <td>The comfiest way to show a little cheek peek, ...</td>\n",
       "      <td>panties</td>\n",
       "      <td>14.500000</td>\n",
       "      <td>7.142542</td>\n",
       "      <td>0.754805</td>\n",
       "      <td>0.163567</td>\n",
       "      <td>50.74</td>\n",
       "    </tr>\n",
       "    <tr>\n",
       "      <th>3</th>\n",
       "      <td>Body by Victoria Daisy Lace Slip</td>\n",
       "      <td>Daisy Lace Slip</td>\n",
       "      <td>What dreams are made of: this little slip in f...</td>\n",
       "      <td>slip</td>\n",
       "      <td>52.000000</td>\n",
       "      <td>34.990000</td>\n",
       "      <td>0.126413</td>\n",
       "      <td>0.155092</td>\n",
       "      <td>32.71</td>\n",
       "    </tr>\n",
       "    <tr>\n",
       "      <th>4</th>\n",
       "      <td>Body by Victoria Demi Bra</td>\n",
       "      <td>Demi Bra</td>\n",
       "      <td>A lower cut makes this supersoft bra perfect f...</td>\n",
       "      <td>bras</td>\n",
       "      <td>50.617021</td>\n",
       "      <td>50.617021</td>\n",
       "      <td>1.535736</td>\n",
       "      <td>0.311891</td>\n",
       "      <td>0.00</td>\n",
       "    </tr>\n",
       "  </tbody>\n",
       "</table>\n",
       "</div>"
      ],
      "text/plain": [
       "                                        product_name          product_category                                        description product_category_group        mrp      price  size_popularity  color_popularity  %discount\n",
       "0  Allover Lace from Cotton Lingerie NEW! Dotted ...  Dotted Mesh Bikini Panty  Dotted mesh in the ultimate everyday shape mak...                panties  10.500000  10.500000         0.126413          0.154872       0.00\n",
       "1  Allover Lace from Cotton Lingerie NEW! Dotted ...   Dotted Mesh Thong Panty  Dotted mesh in a sexy little shape makes this ...                panties  10.500000  10.500000         0.126413          0.154872       0.00\n",
       "2                    Body by Victoria Cheekini Panty            Cheekini Panty  The comfiest way to show a little cheek peek, ...                panties  14.500000   7.142542         0.754805          0.163567      50.74\n",
       "3                   Body by Victoria Daisy Lace Slip           Daisy Lace Slip  What dreams are made of: this little slip in f...                   slip  52.000000  34.990000         0.126413          0.155092      32.71\n",
       "4                          Body by Victoria Demi Bra                  Demi Bra  A lower cut makes this supersoft bra perfect f...                   bras  50.617021  50.617021         1.535736          0.311891       0.00"
      ]
     },
     "execution_count": 48,
     "metadata": {},
     "output_type": "execute_result"
    }
   ],
   "source": [
    "# %discount calculation for each product.\n",
    "victoria_secret_data['%discount'] = round((1-(victoria_secret_data.price/victoria_secret_data.mrp))*100, 2)\n",
    "victoria_secret_data.head()"
   ]
  },
  {
   "cell_type": "code",
   "execution_count": 49,
   "metadata": {},
   "outputs": [
    {
     "data": {
      "image/png": "[encoded data removed]",
      "text/plain": [
       "<Figure size 1008x288 with 2 Axes>"
      ]
     },
     "metadata": {
      "needs_background": "light"
     },
     "output_type": "display_data"
    }
   ],
   "source": [
    "# Box plot for mrp, price\n",
    "\n",
    "fig, ax = plt.subplots(1,2,figsize=(14, 4))\n",
    "\n",
    "fig.set_constrained_layout(True)\n",
    "\n",
    "fig.suptitle('Box plot analysis for the size and color popularity', fontsize=15, y=0)\n",
    "\n",
    "sns.boxplot(x='size_popularity', data = victoria_secret_data, ax = ax[0], orient='v')\n",
    "\n",
    "sns.boxplot(x='color_popularity', data = victoria_secret_data, ax = ax[1], orient='v')\n",
    "\n",
    "plt.show()"
   ]
  },
  {
   "cell_type": "code",
   "execution_count": 50,
   "metadata": {},
   "outputs": [
    {
     "data": {
      "text/html": [
       "<div>\n",
       "<style scoped>\n",
       "    .dataframe tbody tr th:only-of-type {\n",
       "        vertical-align: middle;\n",
       "    }\n",
       "\n",
       "    .dataframe tbody tr th {\n",
       "        vertical-align: top;\n",
       "    }\n",
       "\n",
       "    .dataframe thead th {\n",
       "        text-align: right;\n",
       "    }\n",
       "</style>\n",
       "<table border=\"1\" class=\"dataframe\">\n",
       "  <thead>\n",
       "    <tr style=\"text-align: right;\">\n",
       "      <th></th>\n",
       "      <th>color_popularity</th>\n",
       "      <th>size_popularity</th>\n",
       "    </tr>\n",
       "  </thead>\n",
       "  <tbody>\n",
       "    <tr>\n",
       "      <th>count</th>\n",
       "      <td>669.000000</td>\n",
       "      <td>669.000000</td>\n",
       "    </tr>\n",
       "    <tr>\n",
       "      <th>mean</th>\n",
       "      <td>0.108923</td>\n",
       "      <td>0.557278</td>\n",
       "    </tr>\n",
       "    <tr>\n",
       "      <th>std</th>\n",
       "      <td>0.176009</td>\n",
       "      <td>0.500050</td>\n",
       "    </tr>\n",
       "    <tr>\n",
       "      <th>min</th>\n",
       "      <td>0.000070</td>\n",
       "      <td>0.000070</td>\n",
       "    </tr>\n",
       "    <tr>\n",
       "      <th>25%</th>\n",
       "      <td>0.018442</td>\n",
       "      <td>0.203148</td>\n",
       "    </tr>\n",
       "    <tr>\n",
       "      <th>50%</th>\n",
       "      <td>0.060374</td>\n",
       "      <td>0.382548</td>\n",
       "    </tr>\n",
       "    <tr>\n",
       "      <th>75%</th>\n",
       "      <td>0.128570</td>\n",
       "      <td>0.754805</td>\n",
       "    </tr>\n",
       "    <tr>\n",
       "      <th>max</th>\n",
       "      <td>2.585449</td>\n",
       "      <td>4.400694</td>\n",
       "    </tr>\n",
       "  </tbody>\n",
       "</table>\n",
       "</div>"
      ],
      "text/plain": [
       "       color_popularity  size_popularity\n",
       "count        669.000000       669.000000\n",
       "mean           0.108923         0.557278\n",
       "std            0.176009         0.500050\n",
       "min            0.000070         0.000070\n",
       "25%            0.018442         0.203148\n",
       "50%            0.060374         0.382548\n",
       "75%            0.128570         0.754805\n",
       "max            2.585449         4.400694"
      ]
     },
     "execution_count": 50,
     "metadata": {},
     "output_type": "execute_result"
    }
   ],
   "source": [
    "victoria_secret_data[['color_popularity', 'size_popularity']].describe()"
   ]
  },
  {
   "cell_type": "code",
   "execution_count": 51,
   "metadata": {},
   "outputs": [
    {
     "data": {
      "text/plain": [
       "(669, 9)"
      ]
     },
     "execution_count": 51,
     "metadata": {},
     "output_type": "execute_result"
    }
   ],
   "source": [
    "victoria_secret_data.shape"
   ]
  },
  {
   "cell_type": "code",
   "execution_count": 52,
   "metadata": {},
   "outputs": [],
   "source": [
    "victoria_secret_data.to_csv('Dataset/Intermediate/vs_products_intermediate.csv', encoding='utf-8', index=False)"
   ]
  }
 ],
 "metadata": {
  "kernelspec": {
   "display_name": "Python 3 (ipykernel)",
   "language": "python",
   "name": "python3"
  },
  "language_info": {
   "codemirror_mode": {
    "name": "ipython",
    "version": 3
   },
   "file_extension": ".py",
   "mimetype": "text/x-python",
   "name": "python",
   "nbconvert_exporter": "python",
   "pygments_lexer": "ipython3",
   "version": "3.9.9"
  }
 },
 "nbformat": 4,
 "nbformat_minor": 4
}
